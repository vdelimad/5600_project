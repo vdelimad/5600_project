{
 "cells": [
  {
   "cell_type": "code",
   "execution_count": 1,
   "metadata": {},
   "outputs": [
    {
     "name": "stderr",
     "output_type": "stream",
     "text": [
      "/var/folders/_9/vh3xl0s52fz34q9ldd0dwcm40000gn/T/ipykernel_33099/3013292773.py:1: DeprecationWarning: \n",
      "Pyarrow will become a required dependency of pandas in the next major release of pandas (pandas 3.0),\n",
      "(to allow more performant data types, such as the Arrow string type, and better interoperability with other libraries)\n",
      "but was not found to be installed on your system.\n",
      "If this would cause problems for you,\n",
      "please provide us feedback at https://github.com/pandas-dev/pandas/issues/54466\n",
      "        \n",
      "  import pandas as pd\n"
     ]
    }
   ],
   "source": [
    "import pandas as pd\n",
    "import plotly.express as px\n",
    "\n",
    "\n"
   ]
  },
  {
   "cell_type": "code",
   "execution_count": 2,
   "metadata": {},
   "outputs": [
    {
     "data": {
      "text/html": [
       "<div>\n",
       "<style scoped>\n",
       "    .dataframe tbody tr th:only-of-type {\n",
       "        vertical-align: middle;\n",
       "    }\n",
       "\n",
       "    .dataframe tbody tr th {\n",
       "        vertical-align: top;\n",
       "    }\n",
       "\n",
       "    .dataframe thead th {\n",
       "        text-align: right;\n",
       "    }\n",
       "</style>\n",
       "<table border=\"1\" class=\"dataframe\">\n",
       "  <thead>\n",
       "    <tr style=\"text-align: right;\">\n",
       "      <th></th>\n",
       "      <th>company_name</th>\n",
       "      <th>date</th>\n",
       "      <th>detail</th>\n",
       "      <th>status_rocket</th>\n",
       "      <th>Rocket</th>\n",
       "      <th>status_mission</th>\n",
       "      <th>address</th>\n",
       "      <th>country</th>\n",
       "    </tr>\n",
       "  </thead>\n",
       "  <tbody>\n",
       "    <tr>\n",
       "      <th>0</th>\n",
       "      <td>SpaceX</td>\n",
       "      <td>2020-08-07 05:12:00+00:00</td>\n",
       "      <td>Falcon 9 Block 5 | Starlink V1 L9 &amp; BlackSky</td>\n",
       "      <td>StatusActive</td>\n",
       "      <td>50</td>\n",
       "      <td>Success</td>\n",
       "      <td>LC-39A, Kennedy Space Center, Florida</td>\n",
       "      <td>USA</td>\n",
       "    </tr>\n",
       "    <tr>\n",
       "      <th>1</th>\n",
       "      <td>CASC</td>\n",
       "      <td>2020-08-06 04:01:00+00:00</td>\n",
       "      <td>Long March 2D | Gaofen-9 04 &amp; Q-SAT</td>\n",
       "      <td>StatusActive</td>\n",
       "      <td>29.75</td>\n",
       "      <td>Success</td>\n",
       "      <td>Site 9401 (SLS-2), Jiuquan Satellite Launch Ce...</td>\n",
       "      <td>China</td>\n",
       "    </tr>\n",
       "    <tr>\n",
       "      <th>2</th>\n",
       "      <td>SpaceX</td>\n",
       "      <td>2020-08-04 23:57:00+00:00</td>\n",
       "      <td>Starship Prototype | 150 Meter Hop</td>\n",
       "      <td>StatusActive</td>\n",
       "      <td>NaN</td>\n",
       "      <td>Success</td>\n",
       "      <td>Pad A, Boca Chica, Texas</td>\n",
       "      <td>USA</td>\n",
       "    </tr>\n",
       "    <tr>\n",
       "      <th>3</th>\n",
       "      <td>Roscosmos</td>\n",
       "      <td>2020-07-30 21:25:00+00:00</td>\n",
       "      <td>Proton-M/Briz-M | Ekspress-80 &amp; Ekspress-103</td>\n",
       "      <td>StatusActive</td>\n",
       "      <td>65</td>\n",
       "      <td>Success</td>\n",
       "      <td>Site 200/39, Baikonur Cosmodrome</td>\n",
       "      <td>Kazakhstan</td>\n",
       "    </tr>\n",
       "    <tr>\n",
       "      <th>4</th>\n",
       "      <td>ULA</td>\n",
       "      <td>2020-07-30 11:50:00+00:00</td>\n",
       "      <td>Atlas V 541 | Perseverance</td>\n",
       "      <td>StatusActive</td>\n",
       "      <td>145</td>\n",
       "      <td>Success</td>\n",
       "      <td>SLC-41, Cape Canaveral AFS, Florida</td>\n",
       "      <td>USA</td>\n",
       "    </tr>\n",
       "    <tr>\n",
       "      <th>...</th>\n",
       "      <td>...</td>\n",
       "      <td>...</td>\n",
       "      <td>...</td>\n",
       "      <td>...</td>\n",
       "      <td>...</td>\n",
       "      <td>...</td>\n",
       "      <td>...</td>\n",
       "      <td>...</td>\n",
       "    </tr>\n",
       "    <tr>\n",
       "      <th>4319</th>\n",
       "      <td>US Navy</td>\n",
       "      <td>1958-02-05 07:33:00+00:00</td>\n",
       "      <td>Vanguard | Vanguard TV3BU</td>\n",
       "      <td>StatusRetired</td>\n",
       "      <td>NaN</td>\n",
       "      <td>Failure</td>\n",
       "      <td>LC-18A, Cape Canaveral AFS, Florida</td>\n",
       "      <td>USA</td>\n",
       "    </tr>\n",
       "    <tr>\n",
       "      <th>4320</th>\n",
       "      <td>AMBA</td>\n",
       "      <td>1958-02-01 03:48:00+00:00</td>\n",
       "      <td>Juno I | Explorer 1</td>\n",
       "      <td>StatusRetired</td>\n",
       "      <td>NaN</td>\n",
       "      <td>Success</td>\n",
       "      <td>LC-26A, Cape Canaveral AFS, Florida</td>\n",
       "      <td>USA</td>\n",
       "    </tr>\n",
       "    <tr>\n",
       "      <th>4321</th>\n",
       "      <td>US Navy</td>\n",
       "      <td>1957-12-06 16:44:00+00:00</td>\n",
       "      <td>Vanguard | Vanguard TV3</td>\n",
       "      <td>StatusRetired</td>\n",
       "      <td>NaN</td>\n",
       "      <td>Failure</td>\n",
       "      <td>LC-18A, Cape Canaveral AFS, Florida</td>\n",
       "      <td>USA</td>\n",
       "    </tr>\n",
       "    <tr>\n",
       "      <th>4322</th>\n",
       "      <td>RVSN USSR</td>\n",
       "      <td>1957-11-03 02:30:00+00:00</td>\n",
       "      <td>Sputnik 8K71PS | Sputnik-2</td>\n",
       "      <td>StatusRetired</td>\n",
       "      <td>NaN</td>\n",
       "      <td>Success</td>\n",
       "      <td>Site 1/5, Baikonur Cosmodrome</td>\n",
       "      <td>Kazakhstan</td>\n",
       "    </tr>\n",
       "    <tr>\n",
       "      <th>4323</th>\n",
       "      <td>RVSN USSR</td>\n",
       "      <td>1957-10-04 19:28:00+00:00</td>\n",
       "      <td>Sputnik 8K71PS | Sputnik-1</td>\n",
       "      <td>StatusRetired</td>\n",
       "      <td>NaN</td>\n",
       "      <td>Success</td>\n",
       "      <td>Site 1/5, Baikonur Cosmodrome</td>\n",
       "      <td>Kazakhstan</td>\n",
       "    </tr>\n",
       "  </tbody>\n",
       "</table>\n",
       "<p>4324 rows × 8 columns</p>\n",
       "</div>"
      ],
      "text/plain": [
       "     company_name                       date  \\\n",
       "0          SpaceX  2020-08-07 05:12:00+00:00   \n",
       "1            CASC  2020-08-06 04:01:00+00:00   \n",
       "2          SpaceX  2020-08-04 23:57:00+00:00   \n",
       "3       Roscosmos  2020-07-30 21:25:00+00:00   \n",
       "4             ULA  2020-07-30 11:50:00+00:00   \n",
       "...           ...                        ...   \n",
       "4319      US Navy  1958-02-05 07:33:00+00:00   \n",
       "4320         AMBA  1958-02-01 03:48:00+00:00   \n",
       "4321      US Navy  1957-12-06 16:44:00+00:00   \n",
       "4322    RVSN USSR  1957-11-03 02:30:00+00:00   \n",
       "4323    RVSN USSR  1957-10-04 19:28:00+00:00   \n",
       "\n",
       "                                            detail  status_rocket  Rocket  \\\n",
       "0     Falcon 9 Block 5 | Starlink V1 L9 & BlackSky   StatusActive      50   \n",
       "1              Long March 2D | Gaofen-9 04 & Q-SAT   StatusActive   29.75   \n",
       "2               Starship Prototype | 150 Meter Hop   StatusActive     NaN   \n",
       "3     Proton-M/Briz-M | Ekspress-80 & Ekspress-103   StatusActive      65   \n",
       "4                       Atlas V 541 | Perseverance   StatusActive     145   \n",
       "...                                            ...            ...     ...   \n",
       "4319                     Vanguard | Vanguard TV3BU  StatusRetired     NaN   \n",
       "4320                           Juno I | Explorer 1  StatusRetired     NaN   \n",
       "4321                       Vanguard | Vanguard TV3  StatusRetired     NaN   \n",
       "4322                    Sputnik 8K71PS | Sputnik-2  StatusRetired     NaN   \n",
       "4323                    Sputnik 8K71PS | Sputnik-1  StatusRetired     NaN   \n",
       "\n",
       "     status_mission                                            address  \\\n",
       "0           Success              LC-39A, Kennedy Space Center, Florida   \n",
       "1           Success  Site 9401 (SLS-2), Jiuquan Satellite Launch Ce...   \n",
       "2           Success                           Pad A, Boca Chica, Texas   \n",
       "3           Success                   Site 200/39, Baikonur Cosmodrome   \n",
       "4           Success                SLC-41, Cape Canaveral AFS, Florida   \n",
       "...             ...                                                ...   \n",
       "4319        Failure                LC-18A, Cape Canaveral AFS, Florida   \n",
       "4320        Success                LC-26A, Cape Canaveral AFS, Florida   \n",
       "4321        Failure                LC-18A, Cape Canaveral AFS, Florida   \n",
       "4322        Success                      Site 1/5, Baikonur Cosmodrome   \n",
       "4323        Success                      Site 1/5, Baikonur Cosmodrome   \n",
       "\n",
       "         country  \n",
       "0            USA  \n",
       "1          China  \n",
       "2            USA  \n",
       "3     Kazakhstan  \n",
       "4            USA  \n",
       "...          ...  \n",
       "4319         USA  \n",
       "4320         USA  \n",
       "4321         USA  \n",
       "4322  Kazakhstan  \n",
       "4323  Kazakhstan  \n",
       "\n",
       "[4324 rows x 8 columns]"
      ]
     },
     "execution_count": 2,
     "metadata": {},
     "output_type": "execute_result"
    }
   ],
   "source": [
    "spaceflight_data  = pd.read_csv(f'../../../data/processed/global_involvement/space_missions/next_spaceflight_processed.csv')\n",
    "\n",
    "\n",
    "spaceflight_data"
   ]
  },
  {
   "cell_type": "markdown",
   "metadata": {},
   "source": [
    "### Launch Countries"
   ]
  },
  {
   "cell_type": "code",
   "execution_count": 3,
   "metadata": {},
   "outputs": [
    {
     "data": {
      "text/plain": [
       "array(['USA', 'China', 'Kazakhstan', 'Japan', 'Israel', 'New Zealand',\n",
       "       'Russia', 'Shahrud Missile Test Site', 'France', 'Iran', 'India',\n",
       "       'New Mexico', 'Yellow Sea', 'North Korea',\n",
       "       'Pacific Missile Range Facility', 'Pacific Ocean', 'South Korea',\n",
       "       'Barents Sea', 'Brazil', 'Gran Canaria', 'Kenya', 'Australia'],\n",
       "      dtype=object)"
      ]
     },
     "execution_count": 3,
     "metadata": {},
     "output_type": "execute_result"
    }
   ],
   "source": [
    "spaceflight_data['country'].unique()"
   ]
  },
  {
   "cell_type": "code",
   "execution_count": 4,
   "metadata": {},
   "outputs": [
    {
     "data": {
      "text/html": [
       "<div>\n",
       "<style scoped>\n",
       "    .dataframe tbody tr th:only-of-type {\n",
       "        vertical-align: middle;\n",
       "    }\n",
       "\n",
       "    .dataframe tbody tr th {\n",
       "        vertical-align: top;\n",
       "    }\n",
       "\n",
       "    .dataframe thead th {\n",
       "        text-align: right;\n",
       "    }\n",
       "</style>\n",
       "<table border=\"1\" class=\"dataframe\">\n",
       "  <thead>\n",
       "    <tr style=\"text-align: right;\">\n",
       "      <th></th>\n",
       "      <th>year</th>\n",
       "      <th>country</th>\n",
       "      <th>counts</th>\n",
       "    </tr>\n",
       "  </thead>\n",
       "  <tbody>\n",
       "    <tr>\n",
       "      <th>0</th>\n",
       "      <td>1957</td>\n",
       "      <td>China</td>\n",
       "      <td>0.0</td>\n",
       "    </tr>\n",
       "    <tr>\n",
       "      <th>1</th>\n",
       "      <td>1957</td>\n",
       "      <td>France</td>\n",
       "      <td>0.0</td>\n",
       "    </tr>\n",
       "    <tr>\n",
       "      <th>2</th>\n",
       "      <td>1957</td>\n",
       "      <td>India</td>\n",
       "      <td>0.0</td>\n",
       "    </tr>\n",
       "    <tr>\n",
       "      <th>3</th>\n",
       "      <td>1957</td>\n",
       "      <td>Japan</td>\n",
       "      <td>0.0</td>\n",
       "    </tr>\n",
       "    <tr>\n",
       "      <th>4</th>\n",
       "      <td>1957</td>\n",
       "      <td>Kazakhstan</td>\n",
       "      <td>2.0</td>\n",
       "    </tr>\n",
       "    <tr>\n",
       "      <th>...</th>\n",
       "      <td>...</td>\n",
       "      <td>...</td>\n",
       "      <td>...</td>\n",
       "    </tr>\n",
       "    <tr>\n",
       "      <th>507</th>\n",
       "      <td>2020</td>\n",
       "      <td>Japan</td>\n",
       "      <td>3.0</td>\n",
       "    </tr>\n",
       "    <tr>\n",
       "      <th>508</th>\n",
       "      <td>2020</td>\n",
       "      <td>Kazakhstan</td>\n",
       "      <td>6.0</td>\n",
       "    </tr>\n",
       "    <tr>\n",
       "      <th>509</th>\n",
       "      <td>2020</td>\n",
       "      <td>Other</td>\n",
       "      <td>6.0</td>\n",
       "    </tr>\n",
       "    <tr>\n",
       "      <th>510</th>\n",
       "      <td>2020</td>\n",
       "      <td>Russia</td>\n",
       "      <td>3.0</td>\n",
       "    </tr>\n",
       "    <tr>\n",
       "      <th>511</th>\n",
       "      <td>2020</td>\n",
       "      <td>USA</td>\n",
       "      <td>21.0</td>\n",
       "    </tr>\n",
       "  </tbody>\n",
       "</table>\n",
       "<p>512 rows × 3 columns</p>\n",
       "</div>"
      ],
      "text/plain": [
       "     year     country  counts\n",
       "0    1957       China     0.0\n",
       "1    1957      France     0.0\n",
       "2    1957       India     0.0\n",
       "3    1957       Japan     0.0\n",
       "4    1957  Kazakhstan     2.0\n",
       "..    ...         ...     ...\n",
       "507  2020       Japan     3.0\n",
       "508  2020  Kazakhstan     6.0\n",
       "509  2020       Other     6.0\n",
       "510  2020      Russia     3.0\n",
       "511  2020         USA    21.0\n",
       "\n",
       "[512 rows x 3 columns]"
      ]
     },
     "execution_count": 4,
     "metadata": {},
     "output_type": "execute_result"
    }
   ],
   "source": [
    "\n",
    "# create year col\n",
    "spaceflight_data['date'] = pd.to_datetime(spaceflight_data['date'])\n",
    "spaceflight_data['year'] = spaceflight_data['date'].dt.year\n",
    "\n",
    "\n",
    "\n",
    "# list of specified countries\n",
    "specified_countries = ['USA', 'China', 'Kazakhstan', 'Japan', 'Russia', 'France', 'India']\n",
    "\n",
    "# categorize anything else as other\n",
    "spaceflight_data['country'] = spaceflight_data['country'].apply(lambda x: x if x in specified_countries else 'Other')\n",
    "\n",
    "\n",
    "\n",
    "# sort\n",
    "all_years = sorted(spaceflight_data['year'].unique())\n",
    "all_countries = sorted(spaceflight_data['country'].unique())  # ensure countries are alphabetically sorted\n",
    "all_combinations = pd.MultiIndex.from_product([all_years, all_countries], names=['year', 'country']).to_frame(index=False)\n",
    "\n",
    "\n",
    "\n",
    "# agreegate\n",
    "country_distribution_per_year = spaceflight_data.groupby(['year', 'country']).size().reset_index(name='counts')\n",
    "full_distribution = pd.merge(all_combinations, country_distribution_per_year, on=['year', 'country'], how='left').fillna(0)\n",
    "\n",
    "full_distribution"
   ]
  },
  {
   "cell_type": "code",
   "execution_count": 5,
   "metadata": {},
   "outputs": [
    {
     "data": {
      "application/vnd.plotly.v1+json": {
       "config": {
        "plotlyServerURL": "https://plotly.com"
       },
       "data": [
        {
         "alignmentgroup": "True",
         "hovertemplate": "country=%{x}<br>year=1957<br>counts=%{y}<extra></extra>",
         "ids": [
          "China"
         ],
         "legendgroup": "China",
         "marker": {
          "color": "#636efa",
          "pattern": {
           "shape": ""
          }
         },
         "name": "China",
         "offsetgroup": "China",
         "orientation": "v",
         "showlegend": true,
         "textposition": "auto",
         "type": "bar",
         "x": [
          "China"
         ],
         "xaxis": "x",
         "y": [
          0
         ],
         "yaxis": "y"
        },
        {
         "alignmentgroup": "True",
         "hovertemplate": "country=%{x}<br>year=1957<br>counts=%{y}<extra></extra>",
         "ids": [
          "France"
         ],
         "legendgroup": "France",
         "marker": {
          "color": "#EF553B",
          "pattern": {
           "shape": ""
          }
         },
         "name": "France",
         "offsetgroup": "France",
         "orientation": "v",
         "showlegend": true,
         "textposition": "auto",
         "type": "bar",
         "x": [
          "France"
         ],
         "xaxis": "x",
         "y": [
          0
         ],
         "yaxis": "y"
        },
        {
         "alignmentgroup": "True",
         "hovertemplate": "country=%{x}<br>year=1957<br>counts=%{y}<extra></extra>",
         "ids": [
          "India"
         ],
         "legendgroup": "India",
         "marker": {
          "color": "#00cc96",
          "pattern": {
           "shape": ""
          }
         },
         "name": "India",
         "offsetgroup": "India",
         "orientation": "v",
         "showlegend": true,
         "textposition": "auto",
         "type": "bar",
         "x": [
          "India"
         ],
         "xaxis": "x",
         "y": [
          0
         ],
         "yaxis": "y"
        },
        {
         "alignmentgroup": "True",
         "hovertemplate": "country=%{x}<br>year=1957<br>counts=%{y}<extra></extra>",
         "ids": [
          "Japan"
         ],
         "legendgroup": "Japan",
         "marker": {
          "color": "#ab63fa",
          "pattern": {
           "shape": ""
          }
         },
         "name": "Japan",
         "offsetgroup": "Japan",
         "orientation": "v",
         "showlegend": true,
         "textposition": "auto",
         "type": "bar",
         "x": [
          "Japan"
         ],
         "xaxis": "x",
         "y": [
          0
         ],
         "yaxis": "y"
        },
        {
         "alignmentgroup": "True",
         "hovertemplate": "country=%{x}<br>year=1957<br>counts=%{y}<extra></extra>",
         "ids": [
          "Kazakhstan"
         ],
         "legendgroup": "Kazakhstan",
         "marker": {
          "color": "#FFA15A",
          "pattern": {
           "shape": ""
          }
         },
         "name": "Kazakhstan",
         "offsetgroup": "Kazakhstan",
         "orientation": "v",
         "showlegend": true,
         "textposition": "auto",
         "type": "bar",
         "x": [
          "Kazakhstan"
         ],
         "xaxis": "x",
         "y": [
          2
         ],
         "yaxis": "y"
        },
        {
         "alignmentgroup": "True",
         "hovertemplate": "country=%{x}<br>year=1957<br>counts=%{y}<extra></extra>",
         "ids": [
          "Other"
         ],
         "legendgroup": "Other",
         "marker": {
          "color": "#19d3f3",
          "pattern": {
           "shape": ""
          }
         },
         "name": "Other",
         "offsetgroup": "Other",
         "orientation": "v",
         "showlegend": true,
         "textposition": "auto",
         "type": "bar",
         "x": [
          "Other"
         ],
         "xaxis": "x",
         "y": [
          0
         ],
         "yaxis": "y"
        },
        {
         "alignmentgroup": "True",
         "hovertemplate": "country=%{x}<br>year=1957<br>counts=%{y}<extra></extra>",
         "ids": [
          "Russia"
         ],
         "legendgroup": "Russia",
         "marker": {
          "color": "#FF6692",
          "pattern": {
           "shape": ""
          }
         },
         "name": "Russia",
         "offsetgroup": "Russia",
         "orientation": "v",
         "showlegend": true,
         "textposition": "auto",
         "type": "bar",
         "x": [
          "Russia"
         ],
         "xaxis": "x",
         "y": [
          0
         ],
         "yaxis": "y"
        },
        {
         "alignmentgroup": "True",
         "hovertemplate": "country=%{x}<br>year=1957<br>counts=%{y}<extra></extra>",
         "ids": [
          "USA"
         ],
         "legendgroup": "USA",
         "marker": {
          "color": "#B6E880",
          "pattern": {
           "shape": ""
          }
         },
         "name": "USA",
         "offsetgroup": "USA",
         "orientation": "v",
         "showlegend": true,
         "textposition": "auto",
         "type": "bar",
         "x": [
          "USA"
         ],
         "xaxis": "x",
         "y": [
          1
         ],
         "yaxis": "y"
        }
       ],
       "frames": [
        {
         "data": [
          {
           "alignmentgroup": "True",
           "hovertemplate": "country=%{x}<br>year=1957<br>counts=%{y}<extra></extra>",
           "ids": [
            "China"
           ],
           "legendgroup": "China",
           "marker": {
            "color": "#636efa",
            "pattern": {
             "shape": ""
            }
           },
           "name": "China",
           "offsetgroup": "China",
           "orientation": "v",
           "showlegend": true,
           "textposition": "auto",
           "type": "bar",
           "x": [
            "China"
           ],
           "xaxis": "x",
           "y": [
            0
           ],
           "yaxis": "y"
          },
          {
           "alignmentgroup": "True",
           "hovertemplate": "country=%{x}<br>year=1957<br>counts=%{y}<extra></extra>",
           "ids": [
            "France"
           ],
           "legendgroup": "France",
           "marker": {
            "color": "#EF553B",
            "pattern": {
             "shape": ""
            }
           },
           "name": "France",
           "offsetgroup": "France",
           "orientation": "v",
           "showlegend": true,
           "textposition": "auto",
           "type": "bar",
           "x": [
            "France"
           ],
           "xaxis": "x",
           "y": [
            0
           ],
           "yaxis": "y"
          },
          {
           "alignmentgroup": "True",
           "hovertemplate": "country=%{x}<br>year=1957<br>counts=%{y}<extra></extra>",
           "ids": [
            "India"
           ],
           "legendgroup": "India",
           "marker": {
            "color": "#00cc96",
            "pattern": {
             "shape": ""
            }
           },
           "name": "India",
           "offsetgroup": "India",
           "orientation": "v",
           "showlegend": true,
           "textposition": "auto",
           "type": "bar",
           "x": [
            "India"
           ],
           "xaxis": "x",
           "y": [
            0
           ],
           "yaxis": "y"
          },
          {
           "alignmentgroup": "True",
           "hovertemplate": "country=%{x}<br>year=1957<br>counts=%{y}<extra></extra>",
           "ids": [
            "Japan"
           ],
           "legendgroup": "Japan",
           "marker": {
            "color": "#ab63fa",
            "pattern": {
             "shape": ""
            }
           },
           "name": "Japan",
           "offsetgroup": "Japan",
           "orientation": "v",
           "showlegend": true,
           "textposition": "auto",
           "type": "bar",
           "x": [
            "Japan"
           ],
           "xaxis": "x",
           "y": [
            0
           ],
           "yaxis": "y"
          },
          {
           "alignmentgroup": "True",
           "hovertemplate": "country=%{x}<br>year=1957<br>counts=%{y}<extra></extra>",
           "ids": [
            "Kazakhstan"
           ],
           "legendgroup": "Kazakhstan",
           "marker": {
            "color": "#FFA15A",
            "pattern": {
             "shape": ""
            }
           },
           "name": "Kazakhstan",
           "offsetgroup": "Kazakhstan",
           "orientation": "v",
           "showlegend": true,
           "textposition": "auto",
           "type": "bar",
           "x": [
            "Kazakhstan"
           ],
           "xaxis": "x",
           "y": [
            2
           ],
           "yaxis": "y"
          },
          {
           "alignmentgroup": "True",
           "hovertemplate": "country=%{x}<br>year=1957<br>counts=%{y}<extra></extra>",
           "ids": [
            "Other"
           ],
           "legendgroup": "Other",
           "marker": {
            "color": "#19d3f3",
            "pattern": {
             "shape": ""
            }
           },
           "name": "Other",
           "offsetgroup": "Other",
           "orientation": "v",
           "showlegend": true,
           "textposition": "auto",
           "type": "bar",
           "x": [
            "Other"
           ],
           "xaxis": "x",
           "y": [
            0
           ],
           "yaxis": "y"
          },
          {
           "alignmentgroup": "True",
           "hovertemplate": "country=%{x}<br>year=1957<br>counts=%{y}<extra></extra>",
           "ids": [
            "Russia"
           ],
           "legendgroup": "Russia",
           "marker": {
            "color": "#FF6692",
            "pattern": {
             "shape": ""
            }
           },
           "name": "Russia",
           "offsetgroup": "Russia",
           "orientation": "v",
           "showlegend": true,
           "textposition": "auto",
           "type": "bar",
           "x": [
            "Russia"
           ],
           "xaxis": "x",
           "y": [
            0
           ],
           "yaxis": "y"
          },
          {
           "alignmentgroup": "True",
           "hovertemplate": "country=%{x}<br>year=1957<br>counts=%{y}<extra></extra>",
           "ids": [
            "USA"
           ],
           "legendgroup": "USA",
           "marker": {
            "color": "#B6E880",
            "pattern": {
             "shape": ""
            }
           },
           "name": "USA",
           "offsetgroup": "USA",
           "orientation": "v",
           "showlegend": true,
           "textposition": "auto",
           "type": "bar",
           "x": [
            "USA"
           ],
           "xaxis": "x",
           "y": [
            1
           ],
           "yaxis": "y"
          }
         ],
         "name": "1957"
        },
        {
         "data": [
          {
           "alignmentgroup": "True",
           "hovertemplate": "country=%{x}<br>year=1958<br>counts=%{y}<extra></extra>",
           "ids": [
            "China"
           ],
           "legendgroup": "China",
           "marker": {
            "color": "#636efa",
            "pattern": {
             "shape": ""
            }
           },
           "name": "China",
           "offsetgroup": "China",
           "orientation": "v",
           "showlegend": true,
           "textposition": "auto",
           "type": "bar",
           "x": [
            "China"
           ],
           "xaxis": "x",
           "y": [
            0
           ],
           "yaxis": "y"
          },
          {
           "alignmentgroup": "True",
           "hovertemplate": "country=%{x}<br>year=1958<br>counts=%{y}<extra></extra>",
           "ids": [
            "France"
           ],
           "legendgroup": "France",
           "marker": {
            "color": "#EF553B",
            "pattern": {
             "shape": ""
            }
           },
           "name": "France",
           "offsetgroup": "France",
           "orientation": "v",
           "showlegend": true,
           "textposition": "auto",
           "type": "bar",
           "x": [
            "France"
           ],
           "xaxis": "x",
           "y": [
            0
           ],
           "yaxis": "y"
          },
          {
           "alignmentgroup": "True",
           "hovertemplate": "country=%{x}<br>year=1958<br>counts=%{y}<extra></extra>",
           "ids": [
            "India"
           ],
           "legendgroup": "India",
           "marker": {
            "color": "#00cc96",
            "pattern": {
             "shape": ""
            }
           },
           "name": "India",
           "offsetgroup": "India",
           "orientation": "v",
           "showlegend": true,
           "textposition": "auto",
           "type": "bar",
           "x": [
            "India"
           ],
           "xaxis": "x",
           "y": [
            0
           ],
           "yaxis": "y"
          },
          {
           "alignmentgroup": "True",
           "hovertemplate": "country=%{x}<br>year=1958<br>counts=%{y}<extra></extra>",
           "ids": [
            "Japan"
           ],
           "legendgroup": "Japan",
           "marker": {
            "color": "#ab63fa",
            "pattern": {
             "shape": ""
            }
           },
           "name": "Japan",
           "offsetgroup": "Japan",
           "orientation": "v",
           "showlegend": true,
           "textposition": "auto",
           "type": "bar",
           "x": [
            "Japan"
           ],
           "xaxis": "x",
           "y": [
            0
           ],
           "yaxis": "y"
          },
          {
           "alignmentgroup": "True",
           "hovertemplate": "country=%{x}<br>year=1958<br>counts=%{y}<extra></extra>",
           "ids": [
            "Kazakhstan"
           ],
           "legendgroup": "Kazakhstan",
           "marker": {
            "color": "#FFA15A",
            "pattern": {
             "shape": ""
            }
           },
           "name": "Kazakhstan",
           "offsetgroup": "Kazakhstan",
           "orientation": "v",
           "showlegend": true,
           "textposition": "auto",
           "type": "bar",
           "x": [
            "Kazakhstan"
           ],
           "xaxis": "x",
           "y": [
            5
           ],
           "yaxis": "y"
          },
          {
           "alignmentgroup": "True",
           "hovertemplate": "country=%{x}<br>year=1958<br>counts=%{y}<extra></extra>",
           "ids": [
            "Other"
           ],
           "legendgroup": "Other",
           "marker": {
            "color": "#19d3f3",
            "pattern": {
             "shape": ""
            }
           },
           "name": "Other",
           "offsetgroup": "Other",
           "orientation": "v",
           "showlegend": true,
           "textposition": "auto",
           "type": "bar",
           "x": [
            "Other"
           ],
           "xaxis": "x",
           "y": [
            0
           ],
           "yaxis": "y"
          },
          {
           "alignmentgroup": "True",
           "hovertemplate": "country=%{x}<br>year=1958<br>counts=%{y}<extra></extra>",
           "ids": [
            "Russia"
           ],
           "legendgroup": "Russia",
           "marker": {
            "color": "#FF6692",
            "pattern": {
             "shape": ""
            }
           },
           "name": "Russia",
           "offsetgroup": "Russia",
           "orientation": "v",
           "showlegend": true,
           "textposition": "auto",
           "type": "bar",
           "x": [
            "Russia"
           ],
           "xaxis": "x",
           "y": [
            0
           ],
           "yaxis": "y"
          },
          {
           "alignmentgroup": "True",
           "hovertemplate": "country=%{x}<br>year=1958<br>counts=%{y}<extra></extra>",
           "ids": [
            "USA"
           ],
           "legendgroup": "USA",
           "marker": {
            "color": "#B6E880",
            "pattern": {
             "shape": ""
            }
           },
           "name": "USA",
           "offsetgroup": "USA",
           "orientation": "v",
           "showlegend": true,
           "textposition": "auto",
           "type": "bar",
           "x": [
            "USA"
           ],
           "xaxis": "x",
           "y": [
            23
           ],
           "yaxis": "y"
          }
         ],
         "name": "1958"
        },
        {
         "data": [
          {
           "alignmentgroup": "True",
           "hovertemplate": "country=%{x}<br>year=1959<br>counts=%{y}<extra></extra>",
           "ids": [
            "China"
           ],
           "legendgroup": "China",
           "marker": {
            "color": "#636efa",
            "pattern": {
             "shape": ""
            }
           },
           "name": "China",
           "offsetgroup": "China",
           "orientation": "v",
           "showlegend": true,
           "textposition": "auto",
           "type": "bar",
           "x": [
            "China"
           ],
           "xaxis": "x",
           "y": [
            0
           ],
           "yaxis": "y"
          },
          {
           "alignmentgroup": "True",
           "hovertemplate": "country=%{x}<br>year=1959<br>counts=%{y}<extra></extra>",
           "ids": [
            "France"
           ],
           "legendgroup": "France",
           "marker": {
            "color": "#EF553B",
            "pattern": {
             "shape": ""
            }
           },
           "name": "France",
           "offsetgroup": "France",
           "orientation": "v",
           "showlegend": true,
           "textposition": "auto",
           "type": "bar",
           "x": [
            "France"
           ],
           "xaxis": "x",
           "y": [
            0
           ],
           "yaxis": "y"
          },
          {
           "alignmentgroup": "True",
           "hovertemplate": "country=%{x}<br>year=1959<br>counts=%{y}<extra></extra>",
           "ids": [
            "India"
           ],
           "legendgroup": "India",
           "marker": {
            "color": "#00cc96",
            "pattern": {
             "shape": ""
            }
           },
           "name": "India",
           "offsetgroup": "India",
           "orientation": "v",
           "showlegend": true,
           "textposition": "auto",
           "type": "bar",
           "x": [
            "India"
           ],
           "xaxis": "x",
           "y": [
            0
           ],
           "yaxis": "y"
          },
          {
           "alignmentgroup": "True",
           "hovertemplate": "country=%{x}<br>year=1959<br>counts=%{y}<extra></extra>",
           "ids": [
            "Japan"
           ],
           "legendgroup": "Japan",
           "marker": {
            "color": "#ab63fa",
            "pattern": {
             "shape": ""
            }
           },
           "name": "Japan",
           "offsetgroup": "Japan",
           "orientation": "v",
           "showlegend": true,
           "textposition": "auto",
           "type": "bar",
           "x": [
            "Japan"
           ],
           "xaxis": "x",
           "y": [
            0
           ],
           "yaxis": "y"
          },
          {
           "alignmentgroup": "True",
           "hovertemplate": "country=%{x}<br>year=1959<br>counts=%{y}<extra></extra>",
           "ids": [
            "Kazakhstan"
           ],
           "legendgroup": "Kazakhstan",
           "marker": {
            "color": "#FFA15A",
            "pattern": {
             "shape": ""
            }
           },
           "name": "Kazakhstan",
           "offsetgroup": "Kazakhstan",
           "orientation": "v",
           "showlegend": true,
           "textposition": "auto",
           "type": "bar",
           "x": [
            "Kazakhstan"
           ],
           "xaxis": "x",
           "y": [
            4
           ],
           "yaxis": "y"
          },
          {
           "alignmentgroup": "True",
           "hovertemplate": "country=%{x}<br>year=1959<br>counts=%{y}<extra></extra>",
           "ids": [
            "Other"
           ],
           "legendgroup": "Other",
           "marker": {
            "color": "#19d3f3",
            "pattern": {
             "shape": ""
            }
           },
           "name": "Other",
           "offsetgroup": "Other",
           "orientation": "v",
           "showlegend": true,
           "textposition": "auto",
           "type": "bar",
           "x": [
            "Other"
           ],
           "xaxis": "x",
           "y": [
            0
           ],
           "yaxis": "y"
          },
          {
           "alignmentgroup": "True",
           "hovertemplate": "country=%{x}<br>year=1959<br>counts=%{y}<extra></extra>",
           "ids": [
            "Russia"
           ],
           "legendgroup": "Russia",
           "marker": {
            "color": "#FF6692",
            "pattern": {
             "shape": ""
            }
           },
           "name": "Russia",
           "offsetgroup": "Russia",
           "orientation": "v",
           "showlegend": true,
           "textposition": "auto",
           "type": "bar",
           "x": [
            "Russia"
           ],
           "xaxis": "x",
           "y": [
            0
           ],
           "yaxis": "y"
          },
          {
           "alignmentgroup": "True",
           "hovertemplate": "country=%{x}<br>year=1959<br>counts=%{y}<extra></extra>",
           "ids": [
            "USA"
           ],
           "legendgroup": "USA",
           "marker": {
            "color": "#B6E880",
            "pattern": {
             "shape": ""
            }
           },
           "name": "USA",
           "offsetgroup": "USA",
           "orientation": "v",
           "showlegend": true,
           "textposition": "auto",
           "type": "bar",
           "x": [
            "USA"
           ],
           "xaxis": "x",
           "y": [
            16
           ],
           "yaxis": "y"
          }
         ],
         "name": "1959"
        },
        {
         "data": [
          {
           "alignmentgroup": "True",
           "hovertemplate": "country=%{x}<br>year=1960<br>counts=%{y}<extra></extra>",
           "ids": [
            "China"
           ],
           "legendgroup": "China",
           "marker": {
            "color": "#636efa",
            "pattern": {
             "shape": ""
            }
           },
           "name": "China",
           "offsetgroup": "China",
           "orientation": "v",
           "showlegend": true,
           "textposition": "auto",
           "type": "bar",
           "x": [
            "China"
           ],
           "xaxis": "x",
           "y": [
            0
           ],
           "yaxis": "y"
          },
          {
           "alignmentgroup": "True",
           "hovertemplate": "country=%{x}<br>year=1960<br>counts=%{y}<extra></extra>",
           "ids": [
            "France"
           ],
           "legendgroup": "France",
           "marker": {
            "color": "#EF553B",
            "pattern": {
             "shape": ""
            }
           },
           "name": "France",
           "offsetgroup": "France",
           "orientation": "v",
           "showlegend": true,
           "textposition": "auto",
           "type": "bar",
           "x": [
            "France"
           ],
           "xaxis": "x",
           "y": [
            0
           ],
           "yaxis": "y"
          },
          {
           "alignmentgroup": "True",
           "hovertemplate": "country=%{x}<br>year=1960<br>counts=%{y}<extra></extra>",
           "ids": [
            "India"
           ],
           "legendgroup": "India",
           "marker": {
            "color": "#00cc96",
            "pattern": {
             "shape": ""
            }
           },
           "name": "India",
           "offsetgroup": "India",
           "orientation": "v",
           "showlegend": true,
           "textposition": "auto",
           "type": "bar",
           "x": [
            "India"
           ],
           "xaxis": "x",
           "y": [
            0
           ],
           "yaxis": "y"
          },
          {
           "alignmentgroup": "True",
           "hovertemplate": "country=%{x}<br>year=1960<br>counts=%{y}<extra></extra>",
           "ids": [
            "Japan"
           ],
           "legendgroup": "Japan",
           "marker": {
            "color": "#ab63fa",
            "pattern": {
             "shape": ""
            }
           },
           "name": "Japan",
           "offsetgroup": "Japan",
           "orientation": "v",
           "showlegend": true,
           "textposition": "auto",
           "type": "bar",
           "x": [
            "Japan"
           ],
           "xaxis": "x",
           "y": [
            0
           ],
           "yaxis": "y"
          },
          {
           "alignmentgroup": "True",
           "hovertemplate": "country=%{x}<br>year=1960<br>counts=%{y}<extra></extra>",
           "ids": [
            "Kazakhstan"
           ],
           "legendgroup": "Kazakhstan",
           "marker": {
            "color": "#FFA15A",
            "pattern": {
             "shape": ""
            }
           },
           "name": "Kazakhstan",
           "offsetgroup": "Kazakhstan",
           "orientation": "v",
           "showlegend": true,
           "textposition": "auto",
           "type": "bar",
           "x": [
            "Kazakhstan"
           ],
           "xaxis": "x",
           "y": [
            9
           ],
           "yaxis": "y"
          },
          {
           "alignmentgroup": "True",
           "hovertemplate": "country=%{x}<br>year=1960<br>counts=%{y}<extra></extra>",
           "ids": [
            "Other"
           ],
           "legendgroup": "Other",
           "marker": {
            "color": "#19d3f3",
            "pattern": {
             "shape": ""
            }
           },
           "name": "Other",
           "offsetgroup": "Other",
           "orientation": "v",
           "showlegend": true,
           "textposition": "auto",
           "type": "bar",
           "x": [
            "Other"
           ],
           "xaxis": "x",
           "y": [
            0
           ],
           "yaxis": "y"
          },
          {
           "alignmentgroup": "True",
           "hovertemplate": "country=%{x}<br>year=1960<br>counts=%{y}<extra></extra>",
           "ids": [
            "Russia"
           ],
           "legendgroup": "Russia",
           "marker": {
            "color": "#FF6692",
            "pattern": {
             "shape": ""
            }
           },
           "name": "Russia",
           "offsetgroup": "Russia",
           "orientation": "v",
           "showlegend": true,
           "textposition": "auto",
           "type": "bar",
           "x": [
            "Russia"
           ],
           "xaxis": "x",
           "y": [
            0
           ],
           "yaxis": "y"
          },
          {
           "alignmentgroup": "True",
           "hovertemplate": "country=%{x}<br>year=1960<br>counts=%{y}<extra></extra>",
           "ids": [
            "USA"
           ],
           "legendgroup": "USA",
           "marker": {
            "color": "#B6E880",
            "pattern": {
             "shape": ""
            }
           },
           "name": "USA",
           "offsetgroup": "USA",
           "orientation": "v",
           "showlegend": true,
           "textposition": "auto",
           "type": "bar",
           "x": [
            "USA"
           ],
           "xaxis": "x",
           "y": [
            30
           ],
           "yaxis": "y"
          }
         ],
         "name": "1960"
        },
        {
         "data": [
          {
           "alignmentgroup": "True",
           "hovertemplate": "country=%{x}<br>year=1961<br>counts=%{y}<extra></extra>",
           "ids": [
            "China"
           ],
           "legendgroup": "China",
           "marker": {
            "color": "#636efa",
            "pattern": {
             "shape": ""
            }
           },
           "name": "China",
           "offsetgroup": "China",
           "orientation": "v",
           "showlegend": true,
           "textposition": "auto",
           "type": "bar",
           "x": [
            "China"
           ],
           "xaxis": "x",
           "y": [
            0
           ],
           "yaxis": "y"
          },
          {
           "alignmentgroup": "True",
           "hovertemplate": "country=%{x}<br>year=1961<br>counts=%{y}<extra></extra>",
           "ids": [
            "France"
           ],
           "legendgroup": "France",
           "marker": {
            "color": "#EF553B",
            "pattern": {
             "shape": ""
            }
           },
           "name": "France",
           "offsetgroup": "France",
           "orientation": "v",
           "showlegend": true,
           "textposition": "auto",
           "type": "bar",
           "x": [
            "France"
           ],
           "xaxis": "x",
           "y": [
            0
           ],
           "yaxis": "y"
          },
          {
           "alignmentgroup": "True",
           "hovertemplate": "country=%{x}<br>year=1961<br>counts=%{y}<extra></extra>",
           "ids": [
            "India"
           ],
           "legendgroup": "India",
           "marker": {
            "color": "#00cc96",
            "pattern": {
             "shape": ""
            }
           },
           "name": "India",
           "offsetgroup": "India",
           "orientation": "v",
           "showlegend": true,
           "textposition": "auto",
           "type": "bar",
           "x": [
            "India"
           ],
           "xaxis": "x",
           "y": [
            0
           ],
           "yaxis": "y"
          },
          {
           "alignmentgroup": "True",
           "hovertemplate": "country=%{x}<br>year=1961<br>counts=%{y}<extra></extra>",
           "ids": [
            "Japan"
           ],
           "legendgroup": "Japan",
           "marker": {
            "color": "#ab63fa",
            "pattern": {
             "shape": ""
            }
           },
           "name": "Japan",
           "offsetgroup": "Japan",
           "orientation": "v",
           "showlegend": true,
           "textposition": "auto",
           "type": "bar",
           "x": [
            "Japan"
           ],
           "xaxis": "x",
           "y": [
            0
           ],
           "yaxis": "y"
          },
          {
           "alignmentgroup": "True",
           "hovertemplate": "country=%{x}<br>year=1961<br>counts=%{y}<extra></extra>",
           "ids": [
            "Kazakhstan"
           ],
           "legendgroup": "Kazakhstan",
           "marker": {
            "color": "#FFA15A",
            "pattern": {
             "shape": ""
            }
           },
           "name": "Kazakhstan",
           "offsetgroup": "Kazakhstan",
           "orientation": "v",
           "showlegend": true,
           "textposition": "auto",
           "type": "bar",
           "x": [
            "Kazakhstan"
           ],
           "xaxis": "x",
           "y": [
            7
           ],
           "yaxis": "y"
          },
          {
           "alignmentgroup": "True",
           "hovertemplate": "country=%{x}<br>year=1961<br>counts=%{y}<extra></extra>",
           "ids": [
            "Other"
           ],
           "legendgroup": "Other",
           "marker": {
            "color": "#19d3f3",
            "pattern": {
             "shape": ""
            }
           },
           "name": "Other",
           "offsetgroup": "Other",
           "orientation": "v",
           "showlegend": true,
           "textposition": "auto",
           "type": "bar",
           "x": [
            "Other"
           ],
           "xaxis": "x",
           "y": [
            0
           ],
           "yaxis": "y"
          },
          {
           "alignmentgroup": "True",
           "hovertemplate": "country=%{x}<br>year=1961<br>counts=%{y}<extra></extra>",
           "ids": [
            "Russia"
           ],
           "legendgroup": "Russia",
           "marker": {
            "color": "#FF6692",
            "pattern": {
             "shape": ""
            }
           },
           "name": "Russia",
           "offsetgroup": "Russia",
           "orientation": "v",
           "showlegend": true,
           "textposition": "auto",
           "type": "bar",
           "x": [
            "Russia"
           ],
           "xaxis": "x",
           "y": [
            2
           ],
           "yaxis": "y"
          },
          {
           "alignmentgroup": "True",
           "hovertemplate": "country=%{x}<br>year=1961<br>counts=%{y}<extra></extra>",
           "ids": [
            "USA"
           ],
           "legendgroup": "USA",
           "marker": {
            "color": "#B6E880",
            "pattern": {
             "shape": ""
            }
           },
           "name": "USA",
           "offsetgroup": "USA",
           "orientation": "v",
           "showlegend": true,
           "textposition": "auto",
           "type": "bar",
           "x": [
            "USA"
           ],
           "xaxis": "x",
           "y": [
            43
           ],
           "yaxis": "y"
          }
         ],
         "name": "1961"
        },
        {
         "data": [
          {
           "alignmentgroup": "True",
           "hovertemplate": "country=%{x}<br>year=1962<br>counts=%{y}<extra></extra>",
           "ids": [
            "China"
           ],
           "legendgroup": "China",
           "marker": {
            "color": "#636efa",
            "pattern": {
             "shape": ""
            }
           },
           "name": "China",
           "offsetgroup": "China",
           "orientation": "v",
           "showlegend": true,
           "textposition": "auto",
           "type": "bar",
           "x": [
            "China"
           ],
           "xaxis": "x",
           "y": [
            0
           ],
           "yaxis": "y"
          },
          {
           "alignmentgroup": "True",
           "hovertemplate": "country=%{x}<br>year=1962<br>counts=%{y}<extra></extra>",
           "ids": [
            "France"
           ],
           "legendgroup": "France",
           "marker": {
            "color": "#EF553B",
            "pattern": {
             "shape": ""
            }
           },
           "name": "France",
           "offsetgroup": "France",
           "orientation": "v",
           "showlegend": true,
           "textposition": "auto",
           "type": "bar",
           "x": [
            "France"
           ],
           "xaxis": "x",
           "y": [
            0
           ],
           "yaxis": "y"
          },
          {
           "alignmentgroup": "True",
           "hovertemplate": "country=%{x}<br>year=1962<br>counts=%{y}<extra></extra>",
           "ids": [
            "India"
           ],
           "legendgroup": "India",
           "marker": {
            "color": "#00cc96",
            "pattern": {
             "shape": ""
            }
           },
           "name": "India",
           "offsetgroup": "India",
           "orientation": "v",
           "showlegend": true,
           "textposition": "auto",
           "type": "bar",
           "x": [
            "India"
           ],
           "xaxis": "x",
           "y": [
            0
           ],
           "yaxis": "y"
          },
          {
           "alignmentgroup": "True",
           "hovertemplate": "country=%{x}<br>year=1962<br>counts=%{y}<extra></extra>",
           "ids": [
            "Japan"
           ],
           "legendgroup": "Japan",
           "marker": {
            "color": "#ab63fa",
            "pattern": {
             "shape": ""
            }
           },
           "name": "Japan",
           "offsetgroup": "Japan",
           "orientation": "v",
           "showlegend": true,
           "textposition": "auto",
           "type": "bar",
           "x": [
            "Japan"
           ],
           "xaxis": "x",
           "y": [
            0
           ],
           "yaxis": "y"
          },
          {
           "alignmentgroup": "True",
           "hovertemplate": "country=%{x}<br>year=1962<br>counts=%{y}<extra></extra>",
           "ids": [
            "Kazakhstan"
           ],
           "legendgroup": "Kazakhstan",
           "marker": {
            "color": "#FFA15A",
            "pattern": {
             "shape": ""
            }
           },
           "name": "Kazakhstan",
           "offsetgroup": "Kazakhstan",
           "orientation": "v",
           "showlegend": true,
           "textposition": "auto",
           "type": "bar",
           "x": [
            "Kazakhstan"
           ],
           "xaxis": "x",
           "y": [
            14
           ],
           "yaxis": "y"
          },
          {
           "alignmentgroup": "True",
           "hovertemplate": "country=%{x}<br>year=1962<br>counts=%{y}<extra></extra>",
           "ids": [
            "Other"
           ],
           "legendgroup": "Other",
           "marker": {
            "color": "#19d3f3",
            "pattern": {
             "shape": ""
            }
           },
           "name": "Other",
           "offsetgroup": "Other",
           "orientation": "v",
           "showlegend": true,
           "textposition": "auto",
           "type": "bar",
           "x": [
            "Other"
           ],
           "xaxis": "x",
           "y": [
            0
           ],
           "yaxis": "y"
          },
          {
           "alignmentgroup": "True",
           "hovertemplate": "country=%{x}<br>year=1962<br>counts=%{y}<extra></extra>",
           "ids": [
            "Russia"
           ],
           "legendgroup": "Russia",
           "marker": {
            "color": "#FF6692",
            "pattern": {
             "shape": ""
            }
           },
           "name": "Russia",
           "offsetgroup": "Russia",
           "orientation": "v",
           "showlegend": true,
           "textposition": "auto",
           "type": "bar",
           "x": [
            "Russia"
           ],
           "xaxis": "x",
           "y": [
            8
           ],
           "yaxis": "y"
          },
          {
           "alignmentgroup": "True",
           "hovertemplate": "country=%{x}<br>year=1962<br>counts=%{y}<extra></extra>",
           "ids": [
            "USA"
           ],
           "legendgroup": "USA",
           "marker": {
            "color": "#B6E880",
            "pattern": {
             "shape": ""
            }
           },
           "name": "USA",
           "offsetgroup": "USA",
           "orientation": "v",
           "showlegend": true,
           "textposition": "auto",
           "type": "bar",
           "x": [
            "USA"
           ],
           "xaxis": "x",
           "y": [
            60
           ],
           "yaxis": "y"
          }
         ],
         "name": "1962"
        },
        {
         "data": [
          {
           "alignmentgroup": "True",
           "hovertemplate": "country=%{x}<br>year=1963<br>counts=%{y}<extra></extra>",
           "ids": [
            "China"
           ],
           "legendgroup": "China",
           "marker": {
            "color": "#636efa",
            "pattern": {
             "shape": ""
            }
           },
           "name": "China",
           "offsetgroup": "China",
           "orientation": "v",
           "showlegend": true,
           "textposition": "auto",
           "type": "bar",
           "x": [
            "China"
           ],
           "xaxis": "x",
           "y": [
            0
           ],
           "yaxis": "y"
          },
          {
           "alignmentgroup": "True",
           "hovertemplate": "country=%{x}<br>year=1963<br>counts=%{y}<extra></extra>",
           "ids": [
            "France"
           ],
           "legendgroup": "France",
           "marker": {
            "color": "#EF553B",
            "pattern": {
             "shape": ""
            }
           },
           "name": "France",
           "offsetgroup": "France",
           "orientation": "v",
           "showlegend": true,
           "textposition": "auto",
           "type": "bar",
           "x": [
            "France"
           ],
           "xaxis": "x",
           "y": [
            0
           ],
           "yaxis": "y"
          },
          {
           "alignmentgroup": "True",
           "hovertemplate": "country=%{x}<br>year=1963<br>counts=%{y}<extra></extra>",
           "ids": [
            "India"
           ],
           "legendgroup": "India",
           "marker": {
            "color": "#00cc96",
            "pattern": {
             "shape": ""
            }
           },
           "name": "India",
           "offsetgroup": "India",
           "orientation": "v",
           "showlegend": true,
           "textposition": "auto",
           "type": "bar",
           "x": [
            "India"
           ],
           "xaxis": "x",
           "y": [
            0
           ],
           "yaxis": "y"
          },
          {
           "alignmentgroup": "True",
           "hovertemplate": "country=%{x}<br>year=1963<br>counts=%{y}<extra></extra>",
           "ids": [
            "Japan"
           ],
           "legendgroup": "Japan",
           "marker": {
            "color": "#ab63fa",
            "pattern": {
             "shape": ""
            }
           },
           "name": "Japan",
           "offsetgroup": "Japan",
           "orientation": "v",
           "showlegend": true,
           "textposition": "auto",
           "type": "bar",
           "x": [
            "Japan"
           ],
           "xaxis": "x",
           "y": [
            0
           ],
           "yaxis": "y"
          },
          {
           "alignmentgroup": "True",
           "hovertemplate": "country=%{x}<br>year=1963<br>counts=%{y}<extra></extra>",
           "ids": [
            "Kazakhstan"
           ],
           "legendgroup": "Kazakhstan",
           "marker": {
            "color": "#FFA15A",
            "pattern": {
             "shape": ""
            }
           },
           "name": "Kazakhstan",
           "offsetgroup": "Kazakhstan",
           "orientation": "v",
           "showlegend": true,
           "textposition": "auto",
           "type": "bar",
           "x": [
            "Kazakhstan"
           ],
           "xaxis": "x",
           "y": [
            16
           ],
           "yaxis": "y"
          },
          {
           "alignmentgroup": "True",
           "hovertemplate": "country=%{x}<br>year=1963<br>counts=%{y}<extra></extra>",
           "ids": [
            "Other"
           ],
           "legendgroup": "Other",
           "marker": {
            "color": "#19d3f3",
            "pattern": {
             "shape": ""
            }
           },
           "name": "Other",
           "offsetgroup": "Other",
           "orientation": "v",
           "showlegend": true,
           "textposition": "auto",
           "type": "bar",
           "x": [
            "Other"
           ],
           "xaxis": "x",
           "y": [
            0
           ],
           "yaxis": "y"
          },
          {
           "alignmentgroup": "True",
           "hovertemplate": "country=%{x}<br>year=1963<br>counts=%{y}<extra></extra>",
           "ids": [
            "Russia"
           ],
           "legendgroup": "Russia",
           "marker": {
            "color": "#FF6692",
            "pattern": {
             "shape": ""
            }
           },
           "name": "Russia",
           "offsetgroup": "Russia",
           "orientation": "v",
           "showlegend": true,
           "textposition": "auto",
           "type": "bar",
           "x": [
            "Russia"
           ],
           "xaxis": "x",
           "y": [
            8
           ],
           "yaxis": "y"
          },
          {
           "alignmentgroup": "True",
           "hovertemplate": "country=%{x}<br>year=1963<br>counts=%{y}<extra></extra>",
           "ids": [
            "USA"
           ],
           "legendgroup": "USA",
           "marker": {
            "color": "#B6E880",
            "pattern": {
             "shape": ""
            }
           },
           "name": "USA",
           "offsetgroup": "USA",
           "orientation": "v",
           "showlegend": true,
           "textposition": "auto",
           "type": "bar",
           "x": [
            "USA"
           ],
           "xaxis": "x",
           "y": [
            17
           ],
           "yaxis": "y"
          }
         ],
         "name": "1963"
        },
        {
         "data": [
          {
           "alignmentgroup": "True",
           "hovertemplate": "country=%{x}<br>year=1964<br>counts=%{y}<extra></extra>",
           "ids": [
            "China"
           ],
           "legendgroup": "China",
           "marker": {
            "color": "#636efa",
            "pattern": {
             "shape": ""
            }
           },
           "name": "China",
           "offsetgroup": "China",
           "orientation": "v",
           "showlegend": true,
           "textposition": "auto",
           "type": "bar",
           "x": [
            "China"
           ],
           "xaxis": "x",
           "y": [
            0
           ],
           "yaxis": "y"
          },
          {
           "alignmentgroup": "True",
           "hovertemplate": "country=%{x}<br>year=1964<br>counts=%{y}<extra></extra>",
           "ids": [
            "France"
           ],
           "legendgroup": "France",
           "marker": {
            "color": "#EF553B",
            "pattern": {
             "shape": ""
            }
           },
           "name": "France",
           "offsetgroup": "France",
           "orientation": "v",
           "showlegend": true,
           "textposition": "auto",
           "type": "bar",
           "x": [
            "France"
           ],
           "xaxis": "x",
           "y": [
            0
           ],
           "yaxis": "y"
          },
          {
           "alignmentgroup": "True",
           "hovertemplate": "country=%{x}<br>year=1964<br>counts=%{y}<extra></extra>",
           "ids": [
            "India"
           ],
           "legendgroup": "India",
           "marker": {
            "color": "#00cc96",
            "pattern": {
             "shape": ""
            }
           },
           "name": "India",
           "offsetgroup": "India",
           "orientation": "v",
           "showlegend": true,
           "textposition": "auto",
           "type": "bar",
           "x": [
            "India"
           ],
           "xaxis": "x",
           "y": [
            0
           ],
           "yaxis": "y"
          },
          {
           "alignmentgroup": "True",
           "hovertemplate": "country=%{x}<br>year=1964<br>counts=%{y}<extra></extra>",
           "ids": [
            "Japan"
           ],
           "legendgroup": "Japan",
           "marker": {
            "color": "#ab63fa",
            "pattern": {
             "shape": ""
            }
           },
           "name": "Japan",
           "offsetgroup": "Japan",
           "orientation": "v",
           "showlegend": true,
           "textposition": "auto",
           "type": "bar",
           "x": [
            "Japan"
           ],
           "xaxis": "x",
           "y": [
            0
           ],
           "yaxis": "y"
          },
          {
           "alignmentgroup": "True",
           "hovertemplate": "country=%{x}<br>year=1964<br>counts=%{y}<extra></extra>",
           "ids": [
            "Kazakhstan"
           ],
           "legendgroup": "Kazakhstan",
           "marker": {
            "color": "#FFA15A",
            "pattern": {
             "shape": ""
            }
           },
           "name": "Kazakhstan",
           "offsetgroup": "Kazakhstan",
           "orientation": "v",
           "showlegend": true,
           "textposition": "auto",
           "type": "bar",
           "x": [
            "Kazakhstan"
           ],
           "xaxis": "x",
           "y": [
            28
           ],
           "yaxis": "y"
          },
          {
           "alignmentgroup": "True",
           "hovertemplate": "country=%{x}<br>year=1964<br>counts=%{y}<extra></extra>",
           "ids": [
            "Other"
           ],
           "legendgroup": "Other",
           "marker": {
            "color": "#19d3f3",
            "pattern": {
             "shape": ""
            }
           },
           "name": "Other",
           "offsetgroup": "Other",
           "orientation": "v",
           "showlegend": true,
           "textposition": "auto",
           "type": "bar",
           "x": [
            "Other"
           ],
           "xaxis": "x",
           "y": [
            0
           ],
           "yaxis": "y"
          },
          {
           "alignmentgroup": "True",
           "hovertemplate": "country=%{x}<br>year=1964<br>counts=%{y}<extra></extra>",
           "ids": [
            "Russia"
           ],
           "legendgroup": "Russia",
           "marker": {
            "color": "#FF6692",
            "pattern": {
             "shape": ""
            }
           },
           "name": "Russia",
           "offsetgroup": "Russia",
           "orientation": "v",
           "showlegend": true,
           "textposition": "auto",
           "type": "bar",
           "x": [
            "Russia"
           ],
           "xaxis": "x",
           "y": [
            8
           ],
           "yaxis": "y"
          },
          {
           "alignmentgroup": "True",
           "hovertemplate": "country=%{x}<br>year=1964<br>counts=%{y}<extra></extra>",
           "ids": [
            "USA"
           ],
           "legendgroup": "USA",
           "marker": {
            "color": "#B6E880",
            "pattern": {
             "shape": ""
            }
           },
           "name": "USA",
           "offsetgroup": "USA",
           "orientation": "v",
           "showlegend": true,
           "textposition": "auto",
           "type": "bar",
           "x": [
            "USA"
           ],
           "xaxis": "x",
           "y": [
            24
           ],
           "yaxis": "y"
          }
         ],
         "name": "1964"
        },
        {
         "data": [
          {
           "alignmentgroup": "True",
           "hovertemplate": "country=%{x}<br>year=1965<br>counts=%{y}<extra></extra>",
           "ids": [
            "China"
           ],
           "legendgroup": "China",
           "marker": {
            "color": "#636efa",
            "pattern": {
             "shape": ""
            }
           },
           "name": "China",
           "offsetgroup": "China",
           "orientation": "v",
           "showlegend": true,
           "textposition": "auto",
           "type": "bar",
           "x": [
            "China"
           ],
           "xaxis": "x",
           "y": [
            0
           ],
           "yaxis": "y"
          },
          {
           "alignmentgroup": "True",
           "hovertemplate": "country=%{x}<br>year=1965<br>counts=%{y}<extra></extra>",
           "ids": [
            "France"
           ],
           "legendgroup": "France",
           "marker": {
            "color": "#EF553B",
            "pattern": {
             "shape": ""
            }
           },
           "name": "France",
           "offsetgroup": "France",
           "orientation": "v",
           "showlegend": true,
           "textposition": "auto",
           "type": "bar",
           "x": [
            "France"
           ],
           "xaxis": "x",
           "y": [
            1
           ],
           "yaxis": "y"
          },
          {
           "alignmentgroup": "True",
           "hovertemplate": "country=%{x}<br>year=1965<br>counts=%{y}<extra></extra>",
           "ids": [
            "India"
           ],
           "legendgroup": "India",
           "marker": {
            "color": "#00cc96",
            "pattern": {
             "shape": ""
            }
           },
           "name": "India",
           "offsetgroup": "India",
           "orientation": "v",
           "showlegend": true,
           "textposition": "auto",
           "type": "bar",
           "x": [
            "India"
           ],
           "xaxis": "x",
           "y": [
            0
           ],
           "yaxis": "y"
          },
          {
           "alignmentgroup": "True",
           "hovertemplate": "country=%{x}<br>year=1965<br>counts=%{y}<extra></extra>",
           "ids": [
            "Japan"
           ],
           "legendgroup": "Japan",
           "marker": {
            "color": "#ab63fa",
            "pattern": {
             "shape": ""
            }
           },
           "name": "Japan",
           "offsetgroup": "Japan",
           "orientation": "v",
           "showlegend": true,
           "textposition": "auto",
           "type": "bar",
           "x": [
            "Japan"
           ],
           "xaxis": "x",
           "y": [
            0
           ],
           "yaxis": "y"
          },
          {
           "alignmentgroup": "True",
           "hovertemplate": "country=%{x}<br>year=1965<br>counts=%{y}<extra></extra>",
           "ids": [
            "Kazakhstan"
           ],
           "legendgroup": "Kazakhstan",
           "marker": {
            "color": "#FFA15A",
            "pattern": {
             "shape": ""
            }
           },
           "name": "Kazakhstan",
           "offsetgroup": "Kazakhstan",
           "orientation": "v",
           "showlegend": true,
           "textposition": "auto",
           "type": "bar",
           "x": [
            "Kazakhstan"
           ],
           "xaxis": "x",
           "y": [
            43
           ],
           "yaxis": "y"
          },
          {
           "alignmentgroup": "True",
           "hovertemplate": "country=%{x}<br>year=1965<br>counts=%{y}<extra></extra>",
           "ids": [
            "Other"
           ],
           "legendgroup": "Other",
           "marker": {
            "color": "#19d3f3",
            "pattern": {
             "shape": ""
            }
           },
           "name": "Other",
           "offsetgroup": "Other",
           "orientation": "v",
           "showlegend": true,
           "textposition": "auto",
           "type": "bar",
           "x": [
            "Other"
           ],
           "xaxis": "x",
           "y": [
            0
           ],
           "yaxis": "y"
          },
          {
           "alignmentgroup": "True",
           "hovertemplate": "country=%{x}<br>year=1965<br>counts=%{y}<extra></extra>",
           "ids": [
            "Russia"
           ],
           "legendgroup": "Russia",
           "marker": {
            "color": "#FF6692",
            "pattern": {
             "shape": ""
            }
           },
           "name": "Russia",
           "offsetgroup": "Russia",
           "orientation": "v",
           "showlegend": true,
           "textposition": "auto",
           "type": "bar",
           "x": [
            "Russia"
           ],
           "xaxis": "x",
           "y": [
            10
           ],
           "yaxis": "y"
          },
          {
           "alignmentgroup": "True",
           "hovertemplate": "country=%{x}<br>year=1965<br>counts=%{y}<extra></extra>",
           "ids": [
            "USA"
           ],
           "legendgroup": "USA",
           "marker": {
            "color": "#B6E880",
            "pattern": {
             "shape": ""
            }
           },
           "name": "USA",
           "offsetgroup": "USA",
           "orientation": "v",
           "showlegend": true,
           "textposition": "auto",
           "type": "bar",
           "x": [
            "USA"
           ],
           "xaxis": "x",
           "y": [
            33
           ],
           "yaxis": "y"
          }
         ],
         "name": "1965"
        },
        {
         "data": [
          {
           "alignmentgroup": "True",
           "hovertemplate": "country=%{x}<br>year=1966<br>counts=%{y}<extra></extra>",
           "ids": [
            "China"
           ],
           "legendgroup": "China",
           "marker": {
            "color": "#636efa",
            "pattern": {
             "shape": ""
            }
           },
           "name": "China",
           "offsetgroup": "China",
           "orientation": "v",
           "showlegend": true,
           "textposition": "auto",
           "type": "bar",
           "x": [
            "China"
           ],
           "xaxis": "x",
           "y": [
            0
           ],
           "yaxis": "y"
          },
          {
           "alignmentgroup": "True",
           "hovertemplate": "country=%{x}<br>year=1966<br>counts=%{y}<extra></extra>",
           "ids": [
            "France"
           ],
           "legendgroup": "France",
           "marker": {
            "color": "#EF553B",
            "pattern": {
             "shape": ""
            }
           },
           "name": "France",
           "offsetgroup": "France",
           "orientation": "v",
           "showlegend": true,
           "textposition": "auto",
           "type": "bar",
           "x": [
            "France"
           ],
           "xaxis": "x",
           "y": [
            1
           ],
           "yaxis": "y"
          },
          {
           "alignmentgroup": "True",
           "hovertemplate": "country=%{x}<br>year=1966<br>counts=%{y}<extra></extra>",
           "ids": [
            "India"
           ],
           "legendgroup": "India",
           "marker": {
            "color": "#00cc96",
            "pattern": {
             "shape": ""
            }
           },
           "name": "India",
           "offsetgroup": "India",
           "orientation": "v",
           "showlegend": true,
           "textposition": "auto",
           "type": "bar",
           "x": [
            "India"
           ],
           "xaxis": "x",
           "y": [
            0
           ],
           "yaxis": "y"
          },
          {
           "alignmentgroup": "True",
           "hovertemplate": "country=%{x}<br>year=1966<br>counts=%{y}<extra></extra>",
           "ids": [
            "Japan"
           ],
           "legendgroup": "Japan",
           "marker": {
            "color": "#ab63fa",
            "pattern": {
             "shape": ""
            }
           },
           "name": "Japan",
           "offsetgroup": "Japan",
           "orientation": "v",
           "showlegend": true,
           "textposition": "auto",
           "type": "bar",
           "x": [
            "Japan"
           ],
           "xaxis": "x",
           "y": [
            2
           ],
           "yaxis": "y"
          },
          {
           "alignmentgroup": "True",
           "hovertemplate": "country=%{x}<br>year=1966<br>counts=%{y}<extra></extra>",
           "ids": [
            "Kazakhstan"
           ],
           "legendgroup": "Kazakhstan",
           "marker": {
            "color": "#FFA15A",
            "pattern": {
             "shape": ""
            }
           },
           "name": "Kazakhstan",
           "offsetgroup": "Kazakhstan",
           "orientation": "v",
           "showlegend": true,
           "textposition": "auto",
           "type": "bar",
           "x": [
            "Kazakhstan"
           ],
           "xaxis": "x",
           "y": [
            36
           ],
           "yaxis": "y"
          },
          {
           "alignmentgroup": "True",
           "hovertemplate": "country=%{x}<br>year=1966<br>counts=%{y}<extra></extra>",
           "ids": [
            "Other"
           ],
           "legendgroup": "Other",
           "marker": {
            "color": "#19d3f3",
            "pattern": {
             "shape": ""
            }
           },
           "name": "Other",
           "offsetgroup": "Other",
           "orientation": "v",
           "showlegend": true,
           "textposition": "auto",
           "type": "bar",
           "x": [
            "Other"
           ],
           "xaxis": "x",
           "y": [
            0
           ],
           "yaxis": "y"
          },
          {
           "alignmentgroup": "True",
           "hovertemplate": "country=%{x}<br>year=1966<br>counts=%{y}<extra></extra>",
           "ids": [
            "Russia"
           ],
           "legendgroup": "Russia",
           "marker": {
            "color": "#FF6692",
            "pattern": {
             "shape": ""
            }
           },
           "name": "Russia",
           "offsetgroup": "Russia",
           "orientation": "v",
           "showlegend": true,
           "textposition": "auto",
           "type": "bar",
           "x": [
            "Russia"
           ],
           "xaxis": "x",
           "y": [
            15
           ],
           "yaxis": "y"
          },
          {
           "alignmentgroup": "True",
           "hovertemplate": "country=%{x}<br>year=1966<br>counts=%{y}<extra></extra>",
           "ids": [
            "USA"
           ],
           "legendgroup": "USA",
           "marker": {
            "color": "#B6E880",
            "pattern": {
             "shape": ""
            }
           },
           "name": "USA",
           "offsetgroup": "USA",
           "orientation": "v",
           "showlegend": true,
           "textposition": "auto",
           "type": "bar",
           "x": [
            "USA"
           ],
           "xaxis": "x",
           "y": [
            47
           ],
           "yaxis": "y"
          }
         ],
         "name": "1966"
        },
        {
         "data": [
          {
           "alignmentgroup": "True",
           "hovertemplate": "country=%{x}<br>year=1967<br>counts=%{y}<extra></extra>",
           "ids": [
            "China"
           ],
           "legendgroup": "China",
           "marker": {
            "color": "#636efa",
            "pattern": {
             "shape": ""
            }
           },
           "name": "China",
           "offsetgroup": "China",
           "orientation": "v",
           "showlegend": true,
           "textposition": "auto",
           "type": "bar",
           "x": [
            "China"
           ],
           "xaxis": "x",
           "y": [
            0
           ],
           "yaxis": "y"
          },
          {
           "alignmentgroup": "True",
           "hovertemplate": "country=%{x}<br>year=1967<br>counts=%{y}<extra></extra>",
           "ids": [
            "France"
           ],
           "legendgroup": "France",
           "marker": {
            "color": "#EF553B",
            "pattern": {
             "shape": ""
            }
           },
           "name": "France",
           "offsetgroup": "France",
           "orientation": "v",
           "showlegend": true,
           "textposition": "auto",
           "type": "bar",
           "x": [
            "France"
           ],
           "xaxis": "x",
           "y": [
            2
           ],
           "yaxis": "y"
          },
          {
           "alignmentgroup": "True",
           "hovertemplate": "country=%{x}<br>year=1967<br>counts=%{y}<extra></extra>",
           "ids": [
            "India"
           ],
           "legendgroup": "India",
           "marker": {
            "color": "#00cc96",
            "pattern": {
             "shape": ""
            }
           },
           "name": "India",
           "offsetgroup": "India",
           "orientation": "v",
           "showlegend": true,
           "textposition": "auto",
           "type": "bar",
           "x": [
            "India"
           ],
           "xaxis": "x",
           "y": [
            0
           ],
           "yaxis": "y"
          },
          {
           "alignmentgroup": "True",
           "hovertemplate": "country=%{x}<br>year=1967<br>counts=%{y}<extra></extra>",
           "ids": [
            "Japan"
           ],
           "legendgroup": "Japan",
           "marker": {
            "color": "#ab63fa",
            "pattern": {
             "shape": ""
            }
           },
           "name": "Japan",
           "offsetgroup": "Japan",
           "orientation": "v",
           "showlegend": true,
           "textposition": "auto",
           "type": "bar",
           "x": [
            "Japan"
           ],
           "xaxis": "x",
           "y": [
            1
           ],
           "yaxis": "y"
          },
          {
           "alignmentgroup": "True",
           "hovertemplate": "country=%{x}<br>year=1967<br>counts=%{y}<extra></extra>",
           "ids": [
            "Kazakhstan"
           ],
           "legendgroup": "Kazakhstan",
           "marker": {
            "color": "#FFA15A",
            "pattern": {
             "shape": ""
            }
           },
           "name": "Kazakhstan",
           "offsetgroup": "Kazakhstan",
           "orientation": "v",
           "showlegend": true,
           "textposition": "auto",
           "type": "bar",
           "x": [
            "Kazakhstan"
           ],
           "xaxis": "x",
           "y": [
            38
           ],
           "yaxis": "y"
          },
          {
           "alignmentgroup": "True",
           "hovertemplate": "country=%{x}<br>year=1967<br>counts=%{y}<extra></extra>",
           "ids": [
            "Other"
           ],
           "legendgroup": "Other",
           "marker": {
            "color": "#19d3f3",
            "pattern": {
             "shape": ""
            }
           },
           "name": "Other",
           "offsetgroup": "Other",
           "orientation": "v",
           "showlegend": true,
           "textposition": "auto",
           "type": "bar",
           "x": [
            "Other"
           ],
           "xaxis": "x",
           "y": [
            2
           ],
           "yaxis": "y"
          },
          {
           "alignmentgroup": "True",
           "hovertemplate": "country=%{x}<br>year=1967<br>counts=%{y}<extra></extra>",
           "ids": [
            "Russia"
           ],
           "legendgroup": "Russia",
           "marker": {
            "color": "#FF6692",
            "pattern": {
             "shape": ""
            }
           },
           "name": "Russia",
           "offsetgroup": "Russia",
           "orientation": "v",
           "showlegend": true,
           "textposition": "auto",
           "type": "bar",
           "x": [
            "Russia"
           ],
           "xaxis": "x",
           "y": [
            37
           ],
           "yaxis": "y"
          },
          {
           "alignmentgroup": "True",
           "hovertemplate": "country=%{x}<br>year=1967<br>counts=%{y}<extra></extra>",
           "ids": [
            "USA"
           ],
           "legendgroup": "USA",
           "marker": {
            "color": "#B6E880",
            "pattern": {
             "shape": ""
            }
           },
           "name": "USA",
           "offsetgroup": "USA",
           "orientation": "v",
           "showlegend": true,
           "textposition": "auto",
           "type": "bar",
           "x": [
            "USA"
           ],
           "xaxis": "x",
           "y": [
            26
           ],
           "yaxis": "y"
          }
         ],
         "name": "1967"
        },
        {
         "data": [
          {
           "alignmentgroup": "True",
           "hovertemplate": "country=%{x}<br>year=1968<br>counts=%{y}<extra></extra>",
           "ids": [
            "China"
           ],
           "legendgroup": "China",
           "marker": {
            "color": "#636efa",
            "pattern": {
             "shape": ""
            }
           },
           "name": "China",
           "offsetgroup": "China",
           "orientation": "v",
           "showlegend": true,
           "textposition": "auto",
           "type": "bar",
           "x": [
            "China"
           ],
           "xaxis": "x",
           "y": [
            0
           ],
           "yaxis": "y"
          },
          {
           "alignmentgroup": "True",
           "hovertemplate": "country=%{x}<br>year=1968<br>counts=%{y}<extra></extra>",
           "ids": [
            "France"
           ],
           "legendgroup": "France",
           "marker": {
            "color": "#EF553B",
            "pattern": {
             "shape": ""
            }
           },
           "name": "France",
           "offsetgroup": "France",
           "orientation": "v",
           "showlegend": true,
           "textposition": "auto",
           "type": "bar",
           "x": [
            "France"
           ],
           "xaxis": "x",
           "y": [
            0
           ],
           "yaxis": "y"
          },
          {
           "alignmentgroup": "True",
           "hovertemplate": "country=%{x}<br>year=1968<br>counts=%{y}<extra></extra>",
           "ids": [
            "India"
           ],
           "legendgroup": "India",
           "marker": {
            "color": "#00cc96",
            "pattern": {
             "shape": ""
            }
           },
           "name": "India",
           "offsetgroup": "India",
           "orientation": "v",
           "showlegend": true,
           "textposition": "auto",
           "type": "bar",
           "x": [
            "India"
           ],
           "xaxis": "x",
           "y": [
            0
           ],
           "yaxis": "y"
          },
          {
           "alignmentgroup": "True",
           "hovertemplate": "country=%{x}<br>year=1968<br>counts=%{y}<extra></extra>",
           "ids": [
            "Japan"
           ],
           "legendgroup": "Japan",
           "marker": {
            "color": "#ab63fa",
            "pattern": {
             "shape": ""
            }
           },
           "name": "Japan",
           "offsetgroup": "Japan",
           "orientation": "v",
           "showlegend": true,
           "textposition": "auto",
           "type": "bar",
           "x": [
            "Japan"
           ],
           "xaxis": "x",
           "y": [
            0
           ],
           "yaxis": "y"
          },
          {
           "alignmentgroup": "True",
           "hovertemplate": "country=%{x}<br>year=1968<br>counts=%{y}<extra></extra>",
           "ids": [
            "Kazakhstan"
           ],
           "legendgroup": "Kazakhstan",
           "marker": {
            "color": "#FFA15A",
            "pattern": {
             "shape": ""
            }
           },
           "name": "Kazakhstan",
           "offsetgroup": "Kazakhstan",
           "orientation": "v",
           "showlegend": true,
           "textposition": "auto",
           "type": "bar",
           "x": [
            "Kazakhstan"
           ],
           "xaxis": "x",
           "y": [
            40
           ],
           "yaxis": "y"
          },
          {
           "alignmentgroup": "True",
           "hovertemplate": "country=%{x}<br>year=1968<br>counts=%{y}<extra></extra>",
           "ids": [
            "Other"
           ],
           "legendgroup": "Other",
           "marker": {
            "color": "#19d3f3",
            "pattern": {
             "shape": ""
            }
           },
           "name": "Other",
           "offsetgroup": "Other",
           "orientation": "v",
           "showlegend": true,
           "textposition": "auto",
           "type": "bar",
           "x": [
            "Other"
           ],
           "xaxis": "x",
           "y": [
            1
           ],
           "yaxis": "y"
          },
          {
           "alignmentgroup": "True",
           "hovertemplate": "country=%{x}<br>year=1968<br>counts=%{y}<extra></extra>",
           "ids": [
            "Russia"
           ],
           "legendgroup": "Russia",
           "marker": {
            "color": "#FF6692",
            "pattern": {
             "shape": ""
            }
           },
           "name": "Russia",
           "offsetgroup": "Russia",
           "orientation": "v",
           "showlegend": true,
           "textposition": "auto",
           "type": "bar",
           "x": [
            "Russia"
           ],
           "xaxis": "x",
           "y": [
            40
           ],
           "yaxis": "y"
          },
          {
           "alignmentgroup": "True",
           "hovertemplate": "country=%{x}<br>year=1968<br>counts=%{y}<extra></extra>",
           "ids": [
            "USA"
           ],
           "legendgroup": "USA",
           "marker": {
            "color": "#B6E880",
            "pattern": {
             "shape": ""
            }
           },
           "name": "USA",
           "offsetgroup": "USA",
           "orientation": "v",
           "showlegend": true,
           "textposition": "auto",
           "type": "bar",
           "x": [
            "USA"
           ],
           "xaxis": "x",
           "y": [
            22
           ],
           "yaxis": "y"
          }
         ],
         "name": "1968"
        },
        {
         "data": [
          {
           "alignmentgroup": "True",
           "hovertemplate": "country=%{x}<br>year=1969<br>counts=%{y}<extra></extra>",
           "ids": [
            "China"
           ],
           "legendgroup": "China",
           "marker": {
            "color": "#636efa",
            "pattern": {
             "shape": ""
            }
           },
           "name": "China",
           "offsetgroup": "China",
           "orientation": "v",
           "showlegend": true,
           "textposition": "auto",
           "type": "bar",
           "x": [
            "China"
           ],
           "xaxis": "x",
           "y": [
            1
           ],
           "yaxis": "y"
          },
          {
           "alignmentgroup": "True",
           "hovertemplate": "country=%{x}<br>year=1969<br>counts=%{y}<extra></extra>",
           "ids": [
            "France"
           ],
           "legendgroup": "France",
           "marker": {
            "color": "#EF553B",
            "pattern": {
             "shape": ""
            }
           },
           "name": "France",
           "offsetgroup": "France",
           "orientation": "v",
           "showlegend": true,
           "textposition": "auto",
           "type": "bar",
           "x": [
            "France"
           ],
           "xaxis": "x",
           "y": [
            0
           ],
           "yaxis": "y"
          },
          {
           "alignmentgroup": "True",
           "hovertemplate": "country=%{x}<br>year=1969<br>counts=%{y}<extra></extra>",
           "ids": [
            "India"
           ],
           "legendgroup": "India",
           "marker": {
            "color": "#00cc96",
            "pattern": {
             "shape": ""
            }
           },
           "name": "India",
           "offsetgroup": "India",
           "orientation": "v",
           "showlegend": true,
           "textposition": "auto",
           "type": "bar",
           "x": [
            "India"
           ],
           "xaxis": "x",
           "y": [
            0
           ],
           "yaxis": "y"
          },
          {
           "alignmentgroup": "True",
           "hovertemplate": "country=%{x}<br>year=1969<br>counts=%{y}<extra></extra>",
           "ids": [
            "Japan"
           ],
           "legendgroup": "Japan",
           "marker": {
            "color": "#ab63fa",
            "pattern": {
             "shape": ""
            }
           },
           "name": "Japan",
           "offsetgroup": "Japan",
           "orientation": "v",
           "showlegend": true,
           "textposition": "auto",
           "type": "bar",
           "x": [
            "Japan"
           ],
           "xaxis": "x",
           "y": [
            1
           ],
           "yaxis": "y"
          },
          {
           "alignmentgroup": "True",
           "hovertemplate": "country=%{x}<br>year=1969<br>counts=%{y}<extra></extra>",
           "ids": [
            "Kazakhstan"
           ],
           "legendgroup": "Kazakhstan",
           "marker": {
            "color": "#FFA15A",
            "pattern": {
             "shape": ""
            }
           },
           "name": "Kazakhstan",
           "offsetgroup": "Kazakhstan",
           "orientation": "v",
           "showlegend": true,
           "textposition": "auto",
           "type": "bar",
           "x": [
            "Kazakhstan"
           ],
           "xaxis": "x",
           "y": [
            38
           ],
           "yaxis": "y"
          },
          {
           "alignmentgroup": "True",
           "hovertemplate": "country=%{x}<br>year=1969<br>counts=%{y}<extra></extra>",
           "ids": [
            "Other"
           ],
           "legendgroup": "Other",
           "marker": {
            "color": "#19d3f3",
            "pattern": {
             "shape": ""
            }
           },
           "name": "Other",
           "offsetgroup": "Other",
           "orientation": "v",
           "showlegend": true,
           "textposition": "auto",
           "type": "bar",
           "x": [
            "Other"
           ],
           "xaxis": "x",
           "y": [
            1
           ],
           "yaxis": "y"
          },
          {
           "alignmentgroup": "True",
           "hovertemplate": "country=%{x}<br>year=1969<br>counts=%{y}<extra></extra>",
           "ids": [
            "Russia"
           ],
           "legendgroup": "Russia",
           "marker": {
            "color": "#FF6692",
            "pattern": {
             "shape": ""
            }
           },
           "name": "Russia",
           "offsetgroup": "Russia",
           "orientation": "v",
           "showlegend": true,
           "textposition": "auto",
           "type": "bar",
           "x": [
            "Russia"
           ],
           "xaxis": "x",
           "y": [
            45
           ],
           "yaxis": "y"
          },
          {
           "alignmentgroup": "True",
           "hovertemplate": "country=%{x}<br>year=1969<br>counts=%{y}<extra></extra>",
           "ids": [
            "USA"
           ],
           "legendgroup": "USA",
           "marker": {
            "color": "#B6E880",
            "pattern": {
             "shape": ""
            }
           },
           "name": "USA",
           "offsetgroup": "USA",
           "orientation": "v",
           "showlegend": true,
           "textposition": "auto",
           "type": "bar",
           "x": [
            "USA"
           ],
           "xaxis": "x",
           "y": [
            17
           ],
           "yaxis": "y"
          }
         ],
         "name": "1969"
        },
        {
         "data": [
          {
           "alignmentgroup": "True",
           "hovertemplate": "country=%{x}<br>year=1970<br>counts=%{y}<extra></extra>",
           "ids": [
            "China"
           ],
           "legendgroup": "China",
           "marker": {
            "color": "#636efa",
            "pattern": {
             "shape": ""
            }
           },
           "name": "China",
           "offsetgroup": "China",
           "orientation": "v",
           "showlegend": true,
           "textposition": "auto",
           "type": "bar",
           "x": [
            "China"
           ],
           "xaxis": "x",
           "y": [
            1
           ],
           "yaxis": "y"
          },
          {
           "alignmentgroup": "True",
           "hovertemplate": "country=%{x}<br>year=1970<br>counts=%{y}<extra></extra>",
           "ids": [
            "France"
           ],
           "legendgroup": "France",
           "marker": {
            "color": "#EF553B",
            "pattern": {
             "shape": ""
            }
           },
           "name": "France",
           "offsetgroup": "France",
           "orientation": "v",
           "showlegend": true,
           "textposition": "auto",
           "type": "bar",
           "x": [
            "France"
           ],
           "xaxis": "x",
           "y": [
            2
           ],
           "yaxis": "y"
          },
          {
           "alignmentgroup": "True",
           "hovertemplate": "country=%{x}<br>year=1970<br>counts=%{y}<extra></extra>",
           "ids": [
            "India"
           ],
           "legendgroup": "India",
           "marker": {
            "color": "#00cc96",
            "pattern": {
             "shape": ""
            }
           },
           "name": "India",
           "offsetgroup": "India",
           "orientation": "v",
           "showlegend": true,
           "textposition": "auto",
           "type": "bar",
           "x": [
            "India"
           ],
           "xaxis": "x",
           "y": [
            0
           ],
           "yaxis": "y"
          },
          {
           "alignmentgroup": "True",
           "hovertemplate": "country=%{x}<br>year=1970<br>counts=%{y}<extra></extra>",
           "ids": [
            "Japan"
           ],
           "legendgroup": "Japan",
           "marker": {
            "color": "#ab63fa",
            "pattern": {
             "shape": ""
            }
           },
           "name": "Japan",
           "offsetgroup": "Japan",
           "orientation": "v",
           "showlegend": true,
           "textposition": "auto",
           "type": "bar",
           "x": [
            "Japan"
           ],
           "xaxis": "x",
           "y": [
            2
           ],
           "yaxis": "y"
          },
          {
           "alignmentgroup": "True",
           "hovertemplate": "country=%{x}<br>year=1970<br>counts=%{y}<extra></extra>",
           "ids": [
            "Kazakhstan"
           ],
           "legendgroup": "Kazakhstan",
           "marker": {
            "color": "#FFA15A",
            "pattern": {
             "shape": ""
            }
           },
           "name": "Kazakhstan",
           "offsetgroup": "Kazakhstan",
           "orientation": "v",
           "showlegend": true,
           "textposition": "auto",
           "type": "bar",
           "x": [
            "Kazakhstan"
           ],
           "xaxis": "x",
           "y": [
            29
           ],
           "yaxis": "y"
          },
          {
           "alignmentgroup": "True",
           "hovertemplate": "country=%{x}<br>year=1970<br>counts=%{y}<extra></extra>",
           "ids": [
            "Other"
           ],
           "legendgroup": "Other",
           "marker": {
            "color": "#19d3f3",
            "pattern": {
             "shape": ""
            }
           },
           "name": "Other",
           "offsetgroup": "Other",
           "orientation": "v",
           "showlegend": true,
           "textposition": "auto",
           "type": "bar",
           "x": [
            "Other"
           ],
           "xaxis": "x",
           "y": [
            3
           ],
           "yaxis": "y"
          },
          {
           "alignmentgroup": "True",
           "hovertemplate": "country=%{x}<br>year=1970<br>counts=%{y}<extra></extra>",
           "ids": [
            "Russia"
           ],
           "legendgroup": "Russia",
           "marker": {
            "color": "#FF6692",
            "pattern": {
             "shape": ""
            }
           },
           "name": "Russia",
           "offsetgroup": "Russia",
           "orientation": "v",
           "showlegend": true,
           "textposition": "auto",
           "type": "bar",
           "x": [
            "Russia"
           ],
           "xaxis": "x",
           "y": [
            59
           ],
           "yaxis": "y"
          },
          {
           "alignmentgroup": "True",
           "hovertemplate": "country=%{x}<br>year=1970<br>counts=%{y}<extra></extra>",
           "ids": [
            "USA"
           ],
           "legendgroup": "USA",
           "marker": {
            "color": "#B6E880",
            "pattern": {
             "shape": ""
            }
           },
           "name": "USA",
           "offsetgroup": "USA",
           "orientation": "v",
           "showlegend": true,
           "textposition": "auto",
           "type": "bar",
           "x": [
            "USA"
           ],
           "xaxis": "x",
           "y": [
            11
           ],
           "yaxis": "y"
          }
         ],
         "name": "1970"
        },
        {
         "data": [
          {
           "alignmentgroup": "True",
           "hovertemplate": "country=%{x}<br>year=1971<br>counts=%{y}<extra></extra>",
           "ids": [
            "China"
           ],
           "legendgroup": "China",
           "marker": {
            "color": "#636efa",
            "pattern": {
             "shape": ""
            }
           },
           "name": "China",
           "offsetgroup": "China",
           "orientation": "v",
           "showlegend": true,
           "textposition": "auto",
           "type": "bar",
           "x": [
            "China"
           ],
           "xaxis": "x",
           "y": [
            1
           ],
           "yaxis": "y"
          },
          {
           "alignmentgroup": "True",
           "hovertemplate": "country=%{x}<br>year=1971<br>counts=%{y}<extra></extra>",
           "ids": [
            "France"
           ],
           "legendgroup": "France",
           "marker": {
            "color": "#EF553B",
            "pattern": {
             "shape": ""
            }
           },
           "name": "France",
           "offsetgroup": "France",
           "orientation": "v",
           "showlegend": true,
           "textposition": "auto",
           "type": "bar",
           "x": [
            "France"
           ],
           "xaxis": "x",
           "y": [
            3
           ],
           "yaxis": "y"
          },
          {
           "alignmentgroup": "True",
           "hovertemplate": "country=%{x}<br>year=1971<br>counts=%{y}<extra></extra>",
           "ids": [
            "India"
           ],
           "legendgroup": "India",
           "marker": {
            "color": "#00cc96",
            "pattern": {
             "shape": ""
            }
           },
           "name": "India",
           "offsetgroup": "India",
           "orientation": "v",
           "showlegend": true,
           "textposition": "auto",
           "type": "bar",
           "x": [
            "India"
           ],
           "xaxis": "x",
           "y": [
            0
           ],
           "yaxis": "y"
          },
          {
           "alignmentgroup": "True",
           "hovertemplate": "country=%{x}<br>year=1971<br>counts=%{y}<extra></extra>",
           "ids": [
            "Japan"
           ],
           "legendgroup": "Japan",
           "marker": {
            "color": "#ab63fa",
            "pattern": {
             "shape": ""
            }
           },
           "name": "Japan",
           "offsetgroup": "Japan",
           "orientation": "v",
           "showlegend": true,
           "textposition": "auto",
           "type": "bar",
           "x": [
            "Japan"
           ],
           "xaxis": "x",
           "y": [
            3
           ],
           "yaxis": "y"
          },
          {
           "alignmentgroup": "True",
           "hovertemplate": "country=%{x}<br>year=1971<br>counts=%{y}<extra></extra>",
           "ids": [
            "Kazakhstan"
           ],
           "legendgroup": "Kazakhstan",
           "marker": {
            "color": "#FFA15A",
            "pattern": {
             "shape": ""
            }
           },
           "name": "Kazakhstan",
           "offsetgroup": "Kazakhstan",
           "orientation": "v",
           "showlegend": true,
           "textposition": "auto",
           "type": "bar",
           "x": [
            "Kazakhstan"
           ],
           "xaxis": "x",
           "y": [
            31
           ],
           "yaxis": "y"
          },
          {
           "alignmentgroup": "True",
           "hovertemplate": "country=%{x}<br>year=1971<br>counts=%{y}<extra></extra>",
           "ids": [
            "Other"
           ],
           "legendgroup": "Other",
           "marker": {
            "color": "#19d3f3",
            "pattern": {
             "shape": ""
            }
           },
           "name": "Other",
           "offsetgroup": "Other",
           "orientation": "v",
           "showlegend": true,
           "textposition": "auto",
           "type": "bar",
           "x": [
            "Other"
           ],
           "xaxis": "x",
           "y": [
            3
           ],
           "yaxis": "y"
          },
          {
           "alignmentgroup": "True",
           "hovertemplate": "country=%{x}<br>year=1971<br>counts=%{y}<extra></extra>",
           "ids": [
            "Russia"
           ],
           "legendgroup": "Russia",
           "marker": {
            "color": "#FF6692",
            "pattern": {
             "shape": ""
            }
           },
           "name": "Russia",
           "offsetgroup": "Russia",
           "orientation": "v",
           "showlegend": true,
           "textposition": "auto",
           "type": "bar",
           "x": [
            "Russia"
           ],
           "xaxis": "x",
           "y": [
            62
           ],
           "yaxis": "y"
          },
          {
           "alignmentgroup": "True",
           "hovertemplate": "country=%{x}<br>year=1971<br>counts=%{y}<extra></extra>",
           "ids": [
            "USA"
           ],
           "legendgroup": "USA",
           "marker": {
            "color": "#B6E880",
            "pattern": {
             "shape": ""
            }
           },
           "name": "USA",
           "offsetgroup": "USA",
           "orientation": "v",
           "showlegend": true,
           "textposition": "auto",
           "type": "bar",
           "x": [
            "USA"
           ],
           "xaxis": "x",
           "y": [
            16
           ],
           "yaxis": "y"
          }
         ],
         "name": "1971"
        },
        {
         "data": [
          {
           "alignmentgroup": "True",
           "hovertemplate": "country=%{x}<br>year=1972<br>counts=%{y}<extra></extra>",
           "ids": [
            "China"
           ],
           "legendgroup": "China",
           "marker": {
            "color": "#636efa",
            "pattern": {
             "shape": ""
            }
           },
           "name": "China",
           "offsetgroup": "China",
           "orientation": "v",
           "showlegend": true,
           "textposition": "auto",
           "type": "bar",
           "x": [
            "China"
           ],
           "xaxis": "x",
           "y": [
            1
           ],
           "yaxis": "y"
          },
          {
           "alignmentgroup": "True",
           "hovertemplate": "country=%{x}<br>year=1972<br>counts=%{y}<extra></extra>",
           "ids": [
            "France"
           ],
           "legendgroup": "France",
           "marker": {
            "color": "#EF553B",
            "pattern": {
             "shape": ""
            }
           },
           "name": "France",
           "offsetgroup": "France",
           "orientation": "v",
           "showlegend": true,
           "textposition": "auto",
           "type": "bar",
           "x": [
            "France"
           ],
           "xaxis": "x",
           "y": [
            0
           ],
           "yaxis": "y"
          },
          {
           "alignmentgroup": "True",
           "hovertemplate": "country=%{x}<br>year=1972<br>counts=%{y}<extra></extra>",
           "ids": [
            "India"
           ],
           "legendgroup": "India",
           "marker": {
            "color": "#00cc96",
            "pattern": {
             "shape": ""
            }
           },
           "name": "India",
           "offsetgroup": "India",
           "orientation": "v",
           "showlegend": true,
           "textposition": "auto",
           "type": "bar",
           "x": [
            "India"
           ],
           "xaxis": "x",
           "y": [
            0
           ],
           "yaxis": "y"
          },
          {
           "alignmentgroup": "True",
           "hovertemplate": "country=%{x}<br>year=1972<br>counts=%{y}<extra></extra>",
           "ids": [
            "Japan"
           ],
           "legendgroup": "Japan",
           "marker": {
            "color": "#ab63fa",
            "pattern": {
             "shape": ""
            }
           },
           "name": "Japan",
           "offsetgroup": "Japan",
           "orientation": "v",
           "showlegend": true,
           "textposition": "auto",
           "type": "bar",
           "x": [
            "Japan"
           ],
           "xaxis": "x",
           "y": [
            1
           ],
           "yaxis": "y"
          },
          {
           "alignmentgroup": "True",
           "hovertemplate": "country=%{x}<br>year=1972<br>counts=%{y}<extra></extra>",
           "ids": [
            "Kazakhstan"
           ],
           "legendgroup": "Kazakhstan",
           "marker": {
            "color": "#FFA15A",
            "pattern": {
             "shape": ""
            }
           },
           "name": "Kazakhstan",
           "offsetgroup": "Kazakhstan",
           "orientation": "v",
           "showlegend": true,
           "textposition": "auto",
           "type": "bar",
           "x": [
            "Kazakhstan"
           ],
           "xaxis": "x",
           "y": [
            22
           ],
           "yaxis": "y"
          },
          {
           "alignmentgroup": "True",
           "hovertemplate": "country=%{x}<br>year=1972<br>counts=%{y}<extra></extra>",
           "ids": [
            "Other"
           ],
           "legendgroup": "Other",
           "marker": {
            "color": "#19d3f3",
            "pattern": {
             "shape": ""
            }
           },
           "name": "Other",
           "offsetgroup": "Other",
           "orientation": "v",
           "showlegend": true,
           "textposition": "auto",
           "type": "bar",
           "x": [
            "Other"
           ],
           "xaxis": "x",
           "y": [
            1
           ],
           "yaxis": "y"
          },
          {
           "alignmentgroup": "True",
           "hovertemplate": "country=%{x}<br>year=1972<br>counts=%{y}<extra></extra>",
           "ids": [
            "Russia"
           ],
           "legendgroup": "Russia",
           "marker": {
            "color": "#FF6692",
            "pattern": {
             "shape": ""
            }
           },
           "name": "Russia",
           "offsetgroup": "Russia",
           "orientation": "v",
           "showlegend": true,
           "textposition": "auto",
           "type": "bar",
           "x": [
            "Russia"
           ],
           "xaxis": "x",
           "y": [
            57
           ],
           "yaxis": "y"
          },
          {
           "alignmentgroup": "True",
           "hovertemplate": "country=%{x}<br>year=1972<br>counts=%{y}<extra></extra>",
           "ids": [
            "USA"
           ],
           "legendgroup": "USA",
           "marker": {
            "color": "#B6E880",
            "pattern": {
             "shape": ""
            }
           },
           "name": "USA",
           "offsetgroup": "USA",
           "orientation": "v",
           "showlegend": true,
           "textposition": "auto",
           "type": "bar",
           "x": [
            "USA"
           ],
           "xaxis": "x",
           "y": [
            17
           ],
           "yaxis": "y"
          }
         ],
         "name": "1972"
        },
        {
         "data": [
          {
           "alignmentgroup": "True",
           "hovertemplate": "country=%{x}<br>year=1973<br>counts=%{y}<extra></extra>",
           "ids": [
            "China"
           ],
           "legendgroup": "China",
           "marker": {
            "color": "#636efa",
            "pattern": {
             "shape": ""
            }
           },
           "name": "China",
           "offsetgroup": "China",
           "orientation": "v",
           "showlegend": true,
           "textposition": "auto",
           "type": "bar",
           "x": [
            "China"
           ],
           "xaxis": "x",
           "y": [
            1
           ],
           "yaxis": "y"
          },
          {
           "alignmentgroup": "True",
           "hovertemplate": "country=%{x}<br>year=1973<br>counts=%{y}<extra></extra>",
           "ids": [
            "France"
           ],
           "legendgroup": "France",
           "marker": {
            "color": "#EF553B",
            "pattern": {
             "shape": ""
            }
           },
           "name": "France",
           "offsetgroup": "France",
           "orientation": "v",
           "showlegend": true,
           "textposition": "auto",
           "type": "bar",
           "x": [
            "France"
           ],
           "xaxis": "x",
           "y": [
            1
           ],
           "yaxis": "y"
          },
          {
           "alignmentgroup": "True",
           "hovertemplate": "country=%{x}<br>year=1973<br>counts=%{y}<extra></extra>",
           "ids": [
            "India"
           ],
           "legendgroup": "India",
           "marker": {
            "color": "#00cc96",
            "pattern": {
             "shape": ""
            }
           },
           "name": "India",
           "offsetgroup": "India",
           "orientation": "v",
           "showlegend": true,
           "textposition": "auto",
           "type": "bar",
           "x": [
            "India"
           ],
           "xaxis": "x",
           "y": [
            0
           ],
           "yaxis": "y"
          },
          {
           "alignmentgroup": "True",
           "hovertemplate": "country=%{x}<br>year=1973<br>counts=%{y}<extra></extra>",
           "ids": [
            "Japan"
           ],
           "legendgroup": "Japan",
           "marker": {
            "color": "#ab63fa",
            "pattern": {
             "shape": ""
            }
           },
           "name": "Japan",
           "offsetgroup": "Japan",
           "orientation": "v",
           "showlegend": true,
           "textposition": "auto",
           "type": "bar",
           "x": [
            "Japan"
           ],
           "xaxis": "x",
           "y": [
            0
           ],
           "yaxis": "y"
          },
          {
           "alignmentgroup": "True",
           "hovertemplate": "country=%{x}<br>year=1973<br>counts=%{y}<extra></extra>",
           "ids": [
            "Kazakhstan"
           ],
           "legendgroup": "Kazakhstan",
           "marker": {
            "color": "#FFA15A",
            "pattern": {
             "shape": ""
            }
           },
           "name": "Kazakhstan",
           "offsetgroup": "Kazakhstan",
           "orientation": "v",
           "showlegend": true,
           "textposition": "auto",
           "type": "bar",
           "x": [
            "Kazakhstan"
           ],
           "xaxis": "x",
           "y": [
            17
           ],
           "yaxis": "y"
          },
          {
           "alignmentgroup": "True",
           "hovertemplate": "country=%{x}<br>year=1973<br>counts=%{y}<extra></extra>",
           "ids": [
            "Other"
           ],
           "legendgroup": "Other",
           "marker": {
            "color": "#19d3f3",
            "pattern": {
             "shape": ""
            }
           },
           "name": "Other",
           "offsetgroup": "Other",
           "orientation": "v",
           "showlegend": true,
           "textposition": "auto",
           "type": "bar",
           "x": [
            "Other"
           ],
           "xaxis": "x",
           "y": [
            0
           ],
           "yaxis": "y"
          },
          {
           "alignmentgroup": "True",
           "hovertemplate": "country=%{x}<br>year=1973<br>counts=%{y}<extra></extra>",
           "ids": [
            "Russia"
           ],
           "legendgroup": "Russia",
           "marker": {
            "color": "#FF6692",
            "pattern": {
             "shape": ""
            }
           },
           "name": "Russia",
           "offsetgroup": "Russia",
           "orientation": "v",
           "showlegend": true,
           "textposition": "auto",
           "type": "bar",
           "x": [
            "Russia"
           ],
           "xaxis": "x",
           "y": [
            67
           ],
           "yaxis": "y"
          },
          {
           "alignmentgroup": "True",
           "hovertemplate": "country=%{x}<br>year=1973<br>counts=%{y}<extra></extra>",
           "ids": [
            "USA"
           ],
           "legendgroup": "USA",
           "marker": {
            "color": "#B6E880",
            "pattern": {
             "shape": ""
            }
           },
           "name": "USA",
           "offsetgroup": "USA",
           "orientation": "v",
           "showlegend": true,
           "textposition": "auto",
           "type": "bar",
           "x": [
            "USA"
           ],
           "xaxis": "x",
           "y": [
            17
           ],
           "yaxis": "y"
          }
         ],
         "name": "1973"
        },
        {
         "data": [
          {
           "alignmentgroup": "True",
           "hovertemplate": "country=%{x}<br>year=1974<br>counts=%{y}<extra></extra>",
           "ids": [
            "China"
           ],
           "legendgroup": "China",
           "marker": {
            "color": "#636efa",
            "pattern": {
             "shape": ""
            }
           },
           "name": "China",
           "offsetgroup": "China",
           "orientation": "v",
           "showlegend": true,
           "textposition": "auto",
           "type": "bar",
           "x": [
            "China"
           ],
           "xaxis": "x",
           "y": [
            2
           ],
           "yaxis": "y"
          },
          {
           "alignmentgroup": "True",
           "hovertemplate": "country=%{x}<br>year=1974<br>counts=%{y}<extra></extra>",
           "ids": [
            "France"
           ],
           "legendgroup": "France",
           "marker": {
            "color": "#EF553B",
            "pattern": {
             "shape": ""
            }
           },
           "name": "France",
           "offsetgroup": "France",
           "orientation": "v",
           "showlegend": true,
           "textposition": "auto",
           "type": "bar",
           "x": [
            "France"
           ],
           "xaxis": "x",
           "y": [
            0
           ],
           "yaxis": "y"
          },
          {
           "alignmentgroup": "True",
           "hovertemplate": "country=%{x}<br>year=1974<br>counts=%{y}<extra></extra>",
           "ids": [
            "India"
           ],
           "legendgroup": "India",
           "marker": {
            "color": "#00cc96",
            "pattern": {
             "shape": ""
            }
           },
           "name": "India",
           "offsetgroup": "India",
           "orientation": "v",
           "showlegend": true,
           "textposition": "auto",
           "type": "bar",
           "x": [
            "India"
           ],
           "xaxis": "x",
           "y": [
            0
           ],
           "yaxis": "y"
          },
          {
           "alignmentgroup": "True",
           "hovertemplate": "country=%{x}<br>year=1974<br>counts=%{y}<extra></extra>",
           "ids": [
            "Japan"
           ],
           "legendgroup": "Japan",
           "marker": {
            "color": "#ab63fa",
            "pattern": {
             "shape": ""
            }
           },
           "name": "Japan",
           "offsetgroup": "Japan",
           "orientation": "v",
           "showlegend": true,
           "textposition": "auto",
           "type": "bar",
           "x": [
            "Japan"
           ],
           "xaxis": "x",
           "y": [
            1
           ],
           "yaxis": "y"
          },
          {
           "alignmentgroup": "True",
           "hovertemplate": "country=%{x}<br>year=1974<br>counts=%{y}<extra></extra>",
           "ids": [
            "Kazakhstan"
           ],
           "legendgroup": "Kazakhstan",
           "marker": {
            "color": "#FFA15A",
            "pattern": {
             "shape": ""
            }
           },
           "name": "Kazakhstan",
           "offsetgroup": "Kazakhstan",
           "orientation": "v",
           "showlegend": true,
           "textposition": "auto",
           "type": "bar",
           "x": [
            "Kazakhstan"
           ],
           "xaxis": "x",
           "y": [
            23
           ],
           "yaxis": "y"
          },
          {
           "alignmentgroup": "True",
           "hovertemplate": "country=%{x}<br>year=1974<br>counts=%{y}<extra></extra>",
           "ids": [
            "Other"
           ],
           "legendgroup": "Other",
           "marker": {
            "color": "#19d3f3",
            "pattern": {
             "shape": ""
            }
           },
           "name": "Other",
           "offsetgroup": "Other",
           "orientation": "v",
           "showlegend": true,
           "textposition": "auto",
           "type": "bar",
           "x": [
            "Other"
           ],
           "xaxis": "x",
           "y": [
            2
           ],
           "yaxis": "y"
          },
          {
           "alignmentgroup": "True",
           "hovertemplate": "country=%{x}<br>year=1974<br>counts=%{y}<extra></extra>",
           "ids": [
            "Russia"
           ],
           "legendgroup": "Russia",
           "marker": {
            "color": "#FF6692",
            "pattern": {
             "shape": ""
            }
           },
           "name": "Russia",
           "offsetgroup": "Russia",
           "orientation": "v",
           "showlegend": true,
           "textposition": "auto",
           "type": "bar",
           "x": [
            "Russia"
           ],
           "xaxis": "x",
           "y": [
            60
           ],
           "yaxis": "y"
          },
          {
           "alignmentgroup": "True",
           "hovertemplate": "country=%{x}<br>year=1974<br>counts=%{y}<extra></extra>",
           "ids": [
            "USA"
           ],
           "legendgroup": "USA",
           "marker": {
            "color": "#B6E880",
            "pattern": {
             "shape": ""
            }
           },
           "name": "USA",
           "offsetgroup": "USA",
           "orientation": "v",
           "showlegend": true,
           "textposition": "auto",
           "type": "bar",
           "x": [
            "USA"
           ],
           "xaxis": "x",
           "y": [
            10
           ],
           "yaxis": "y"
          }
         ],
         "name": "1974"
        },
        {
         "data": [
          {
           "alignmentgroup": "True",
           "hovertemplate": "country=%{x}<br>year=1975<br>counts=%{y}<extra></extra>",
           "ids": [
            "China"
           ],
           "legendgroup": "China",
           "marker": {
            "color": "#636efa",
            "pattern": {
             "shape": ""
            }
           },
           "name": "China",
           "offsetgroup": "China",
           "orientation": "v",
           "showlegend": true,
           "textposition": "auto",
           "type": "bar",
           "x": [
            "China"
           ],
           "xaxis": "x",
           "y": [
            3
           ],
           "yaxis": "y"
          },
          {
           "alignmentgroup": "True",
           "hovertemplate": "country=%{x}<br>year=1975<br>counts=%{y}<extra></extra>",
           "ids": [
            "France"
           ],
           "legendgroup": "France",
           "marker": {
            "color": "#EF553B",
            "pattern": {
             "shape": ""
            }
           },
           "name": "France",
           "offsetgroup": "France",
           "orientation": "v",
           "showlegend": true,
           "textposition": "auto",
           "type": "bar",
           "x": [
            "France"
           ],
           "xaxis": "x",
           "y": [
            3
           ],
           "yaxis": "y"
          },
          {
           "alignmentgroup": "True",
           "hovertemplate": "country=%{x}<br>year=1975<br>counts=%{y}<extra></extra>",
           "ids": [
            "India"
           ],
           "legendgroup": "India",
           "marker": {
            "color": "#00cc96",
            "pattern": {
             "shape": ""
            }
           },
           "name": "India",
           "offsetgroup": "India",
           "orientation": "v",
           "showlegend": true,
           "textposition": "auto",
           "type": "bar",
           "x": [
            "India"
           ],
           "xaxis": "x",
           "y": [
            0
           ],
           "yaxis": "y"
          },
          {
           "alignmentgroup": "True",
           "hovertemplate": "country=%{x}<br>year=1975<br>counts=%{y}<extra></extra>",
           "ids": [
            "Japan"
           ],
           "legendgroup": "Japan",
           "marker": {
            "color": "#ab63fa",
            "pattern": {
             "shape": ""
            }
           },
           "name": "Japan",
           "offsetgroup": "Japan",
           "orientation": "v",
           "showlegend": true,
           "textposition": "auto",
           "type": "bar",
           "x": [
            "Japan"
           ],
           "xaxis": "x",
           "y": [
            2
           ],
           "yaxis": "y"
          },
          {
           "alignmentgroup": "True",
           "hovertemplate": "country=%{x}<br>year=1975<br>counts=%{y}<extra></extra>",
           "ids": [
            "Kazakhstan"
           ],
           "legendgroup": "Kazakhstan",
           "marker": {
            "color": "#FFA15A",
            "pattern": {
             "shape": ""
            }
           },
           "name": "Kazakhstan",
           "offsetgroup": "Kazakhstan",
           "orientation": "v",
           "showlegend": true,
           "textposition": "auto",
           "type": "bar",
           "x": [
            "Kazakhstan"
           ],
           "xaxis": "x",
           "y": [
            23
           ],
           "yaxis": "y"
          },
          {
           "alignmentgroup": "True",
           "hovertemplate": "country=%{x}<br>year=1975<br>counts=%{y}<extra></extra>",
           "ids": [
            "Other"
           ],
           "legendgroup": "Other",
           "marker": {
            "color": "#19d3f3",
            "pattern": {
             "shape": ""
            }
           },
           "name": "Other",
           "offsetgroup": "Other",
           "orientation": "v",
           "showlegend": true,
           "textposition": "auto",
           "type": "bar",
           "x": [
            "Other"
           ],
           "xaxis": "x",
           "y": [
            1
           ],
           "yaxis": "y"
          },
          {
           "alignmentgroup": "True",
           "hovertemplate": "country=%{x}<br>year=1975<br>counts=%{y}<extra></extra>",
           "ids": [
            "Russia"
           ],
           "legendgroup": "Russia",
           "marker": {
            "color": "#FF6692",
            "pattern": {
             "shape": ""
            }
           },
           "name": "Russia",
           "offsetgroup": "Russia",
           "orientation": "v",
           "showlegend": true,
           "textposition": "auto",
           "type": "bar",
           "x": [
            "Russia"
           ],
           "xaxis": "x",
           "y": [
            66
           ],
           "yaxis": "y"
          },
          {
           "alignmentgroup": "True",
           "hovertemplate": "country=%{x}<br>year=1975<br>counts=%{y}<extra></extra>",
           "ids": [
            "USA"
           ],
           "legendgroup": "USA",
           "marker": {
            "color": "#B6E880",
            "pattern": {
             "shape": ""
            }
           },
           "name": "USA",
           "offsetgroup": "USA",
           "orientation": "v",
           "showlegend": true,
           "textposition": "auto",
           "type": "bar",
           "x": [
            "USA"
           ],
           "xaxis": "x",
           "y": [
            15
           ],
           "yaxis": "y"
          }
         ],
         "name": "1975"
        },
        {
         "data": [
          {
           "alignmentgroup": "True",
           "hovertemplate": "country=%{x}<br>year=1976<br>counts=%{y}<extra></extra>",
           "ids": [
            "China"
           ],
           "legendgroup": "China",
           "marker": {
            "color": "#636efa",
            "pattern": {
             "shape": ""
            }
           },
           "name": "China",
           "offsetgroup": "China",
           "orientation": "v",
           "showlegend": true,
           "textposition": "auto",
           "type": "bar",
           "x": [
            "China"
           ],
           "xaxis": "x",
           "y": [
            3
           ],
           "yaxis": "y"
          },
          {
           "alignmentgroup": "True",
           "hovertemplate": "country=%{x}<br>year=1976<br>counts=%{y}<extra></extra>",
           "ids": [
            "France"
           ],
           "legendgroup": "France",
           "marker": {
            "color": "#EF553B",
            "pattern": {
             "shape": ""
            }
           },
           "name": "France",
           "offsetgroup": "France",
           "orientation": "v",
           "showlegend": true,
           "textposition": "auto",
           "type": "bar",
           "x": [
            "France"
           ],
           "xaxis": "x",
           "y": [
            0
           ],
           "yaxis": "y"
          },
          {
           "alignmentgroup": "True",
           "hovertemplate": "country=%{x}<br>year=1976<br>counts=%{y}<extra></extra>",
           "ids": [
            "India"
           ],
           "legendgroup": "India",
           "marker": {
            "color": "#00cc96",
            "pattern": {
             "shape": ""
            }
           },
           "name": "India",
           "offsetgroup": "India",
           "orientation": "v",
           "showlegend": true,
           "textposition": "auto",
           "type": "bar",
           "x": [
            "India"
           ],
           "xaxis": "x",
           "y": [
            0
           ],
           "yaxis": "y"
          },
          {
           "alignmentgroup": "True",
           "hovertemplate": "country=%{x}<br>year=1976<br>counts=%{y}<extra></extra>",
           "ids": [
            "Japan"
           ],
           "legendgroup": "Japan",
           "marker": {
            "color": "#ab63fa",
            "pattern": {
             "shape": ""
            }
           },
           "name": "Japan",
           "offsetgroup": "Japan",
           "orientation": "v",
           "showlegend": true,
           "textposition": "auto",
           "type": "bar",
           "x": [
            "Japan"
           ],
           "xaxis": "x",
           "y": [
            2
           ],
           "yaxis": "y"
          },
          {
           "alignmentgroup": "True",
           "hovertemplate": "country=%{x}<br>year=1976<br>counts=%{y}<extra></extra>",
           "ids": [
            "Kazakhstan"
           ],
           "legendgroup": "Kazakhstan",
           "marker": {
            "color": "#FFA15A",
            "pattern": {
             "shape": ""
            }
           },
           "name": "Kazakhstan",
           "offsetgroup": "Kazakhstan",
           "orientation": "v",
           "showlegend": true,
           "textposition": "auto",
           "type": "bar",
           "x": [
            "Kazakhstan"
           ],
           "xaxis": "x",
           "y": [
            29
           ],
           "yaxis": "y"
          },
          {
           "alignmentgroup": "True",
           "hovertemplate": "country=%{x}<br>year=1976<br>counts=%{y}<extra></extra>",
           "ids": [
            "Other"
           ],
           "legendgroup": "Other",
           "marker": {
            "color": "#19d3f3",
            "pattern": {
             "shape": ""
            }
           },
           "name": "Other",
           "offsetgroup": "Other",
           "orientation": "v",
           "showlegend": true,
           "textposition": "auto",
           "type": "bar",
           "x": [
            "Other"
           ],
           "xaxis": "x",
           "y": [
            0
           ],
           "yaxis": "y"
          },
          {
           "alignmentgroup": "True",
           "hovertemplate": "country=%{x}<br>year=1976<br>counts=%{y}<extra></extra>",
           "ids": [
            "Russia"
           ],
           "legendgroup": "Russia",
           "marker": {
            "color": "#FF6692",
            "pattern": {
             "shape": ""
            }
           },
           "name": "Russia",
           "offsetgroup": "Russia",
           "orientation": "v",
           "showlegend": true,
           "textposition": "auto",
           "type": "bar",
           "x": [
            "Russia"
           ],
           "xaxis": "x",
           "y": [
            66
           ],
           "yaxis": "y"
          },
          {
           "alignmentgroup": "True",
           "hovertemplate": "country=%{x}<br>year=1976<br>counts=%{y}<extra></extra>",
           "ids": [
            "USA"
           ],
           "legendgroup": "USA",
           "marker": {
            "color": "#B6E880",
            "pattern": {
             "shape": ""
            }
           },
           "name": "USA",
           "offsetgroup": "USA",
           "orientation": "v",
           "showlegend": true,
           "textposition": "auto",
           "type": "bar",
           "x": [
            "USA"
           ],
           "xaxis": "x",
           "y": [
            13
           ],
           "yaxis": "y"
          }
         ],
         "name": "1976"
        },
        {
         "data": [
          {
           "alignmentgroup": "True",
           "hovertemplate": "country=%{x}<br>year=1977<br>counts=%{y}<extra></extra>",
           "ids": [
            "China"
           ],
           "legendgroup": "China",
           "marker": {
            "color": "#636efa",
            "pattern": {
             "shape": ""
            }
           },
           "name": "China",
           "offsetgroup": "China",
           "orientation": "v",
           "showlegend": true,
           "textposition": "auto",
           "type": "bar",
           "x": [
            "China"
           ],
           "xaxis": "x",
           "y": [
            1
           ],
           "yaxis": "y"
          },
          {
           "alignmentgroup": "True",
           "hovertemplate": "country=%{x}<br>year=1977<br>counts=%{y}<extra></extra>",
           "ids": [
            "France"
           ],
           "legendgroup": "France",
           "marker": {
            "color": "#EF553B",
            "pattern": {
             "shape": ""
            }
           },
           "name": "France",
           "offsetgroup": "France",
           "orientation": "v",
           "showlegend": true,
           "textposition": "auto",
           "type": "bar",
           "x": [
            "France"
           ],
           "xaxis": "x",
           "y": [
            0
           ],
           "yaxis": "y"
          },
          {
           "alignmentgroup": "True",
           "hovertemplate": "country=%{x}<br>year=1977<br>counts=%{y}<extra></extra>",
           "ids": [
            "India"
           ],
           "legendgroup": "India",
           "marker": {
            "color": "#00cc96",
            "pattern": {
             "shape": ""
            }
           },
           "name": "India",
           "offsetgroup": "India",
           "orientation": "v",
           "showlegend": true,
           "textposition": "auto",
           "type": "bar",
           "x": [
            "India"
           ],
           "xaxis": "x",
           "y": [
            0
           ],
           "yaxis": "y"
          },
          {
           "alignmentgroup": "True",
           "hovertemplate": "country=%{x}<br>year=1977<br>counts=%{y}<extra></extra>",
           "ids": [
            "Japan"
           ],
           "legendgroup": "Japan",
           "marker": {
            "color": "#ab63fa",
            "pattern": {
             "shape": ""
            }
           },
           "name": "Japan",
           "offsetgroup": "Japan",
           "orientation": "v",
           "showlegend": true,
           "textposition": "auto",
           "type": "bar",
           "x": [
            "Japan"
           ],
           "xaxis": "x",
           "y": [
            2
           ],
           "yaxis": "y"
          },
          {
           "alignmentgroup": "True",
           "hovertemplate": "country=%{x}<br>year=1977<br>counts=%{y}<extra></extra>",
           "ids": [
            "Kazakhstan"
           ],
           "legendgroup": "Kazakhstan",
           "marker": {
            "color": "#FFA15A",
            "pattern": {
             "shape": ""
            }
           },
           "name": "Kazakhstan",
           "offsetgroup": "Kazakhstan",
           "orientation": "v",
           "showlegend": true,
           "textposition": "auto",
           "type": "bar",
           "x": [
            "Kazakhstan"
           ],
           "xaxis": "x",
           "y": [
            25
           ],
           "yaxis": "y"
          },
          {
           "alignmentgroup": "True",
           "hovertemplate": "country=%{x}<br>year=1977<br>counts=%{y}<extra></extra>",
           "ids": [
            "Other"
           ],
           "legendgroup": "Other",
           "marker": {
            "color": "#19d3f3",
            "pattern": {
             "shape": ""
            }
           },
           "name": "Other",
           "offsetgroup": "Other",
           "orientation": "v",
           "showlegend": true,
           "textposition": "auto",
           "type": "bar",
           "x": [
            "Other"
           ],
           "xaxis": "x",
           "y": [
            0
           ],
           "yaxis": "y"
          },
          {
           "alignmentgroup": "True",
           "hovertemplate": "country=%{x}<br>year=1977<br>counts=%{y}<extra></extra>",
           "ids": [
            "Russia"
           ],
           "legendgroup": "Russia",
           "marker": {
            "color": "#FF6692",
            "pattern": {
             "shape": ""
            }
           },
           "name": "Russia",
           "offsetgroup": "Russia",
           "orientation": "v",
           "showlegend": true,
           "textposition": "auto",
           "type": "bar",
           "x": [
            "Russia"
           ],
           "xaxis": "x",
           "y": [
            72
           ],
           "yaxis": "y"
          },
          {
           "alignmentgroup": "True",
           "hovertemplate": "country=%{x}<br>year=1977<br>counts=%{y}<extra></extra>",
           "ids": [
            "USA"
           ],
           "legendgroup": "USA",
           "marker": {
            "color": "#B6E880",
            "pattern": {
             "shape": ""
            }
           },
           "name": "USA",
           "offsetgroup": "USA",
           "orientation": "v",
           "showlegend": true,
           "textposition": "auto",
           "type": "bar",
           "x": [
            "USA"
           ],
           "xaxis": "x",
           "y": [
            14
           ],
           "yaxis": "y"
          }
         ],
         "name": "1977"
        },
        {
         "data": [
          {
           "alignmentgroup": "True",
           "hovertemplate": "country=%{x}<br>year=1978<br>counts=%{y}<extra></extra>",
           "ids": [
            "China"
           ],
           "legendgroup": "China",
           "marker": {
            "color": "#636efa",
            "pattern": {
             "shape": ""
            }
           },
           "name": "China",
           "offsetgroup": "China",
           "orientation": "v",
           "showlegend": true,
           "textposition": "auto",
           "type": "bar",
           "x": [
            "China"
           ],
           "xaxis": "x",
           "y": [
            2
           ],
           "yaxis": "y"
          },
          {
           "alignmentgroup": "True",
           "hovertemplate": "country=%{x}<br>year=1978<br>counts=%{y}<extra></extra>",
           "ids": [
            "France"
           ],
           "legendgroup": "France",
           "marker": {
            "color": "#EF553B",
            "pattern": {
             "shape": ""
            }
           },
           "name": "France",
           "offsetgroup": "France",
           "orientation": "v",
           "showlegend": true,
           "textposition": "auto",
           "type": "bar",
           "x": [
            "France"
           ],
           "xaxis": "x",
           "y": [
            0
           ],
           "yaxis": "y"
          },
          {
           "alignmentgroup": "True",
           "hovertemplate": "country=%{x}<br>year=1978<br>counts=%{y}<extra></extra>",
           "ids": [
            "India"
           ],
           "legendgroup": "India",
           "marker": {
            "color": "#00cc96",
            "pattern": {
             "shape": ""
            }
           },
           "name": "India",
           "offsetgroup": "India",
           "orientation": "v",
           "showlegend": true,
           "textposition": "auto",
           "type": "bar",
           "x": [
            "India"
           ],
           "xaxis": "x",
           "y": [
            0
           ],
           "yaxis": "y"
          },
          {
           "alignmentgroup": "True",
           "hovertemplate": "country=%{x}<br>year=1978<br>counts=%{y}<extra></extra>",
           "ids": [
            "Japan"
           ],
           "legendgroup": "Japan",
           "marker": {
            "color": "#ab63fa",
            "pattern": {
             "shape": ""
            }
           },
           "name": "Japan",
           "offsetgroup": "Japan",
           "orientation": "v",
           "showlegend": true,
           "textposition": "auto",
           "type": "bar",
           "x": [
            "Japan"
           ],
           "xaxis": "x",
           "y": [
            3
           ],
           "yaxis": "y"
          },
          {
           "alignmentgroup": "True",
           "hovertemplate": "country=%{x}<br>year=1978<br>counts=%{y}<extra></extra>",
           "ids": [
            "Kazakhstan"
           ],
           "legendgroup": "Kazakhstan",
           "marker": {
            "color": "#FFA15A",
            "pattern": {
             "shape": ""
            }
           },
           "name": "Kazakhstan",
           "offsetgroup": "Kazakhstan",
           "orientation": "v",
           "showlegend": true,
           "textposition": "auto",
           "type": "bar",
           "x": [
            "Kazakhstan"
           ],
           "xaxis": "x",
           "y": [
            9
           ],
           "yaxis": "y"
          },
          {
           "alignmentgroup": "True",
           "hovertemplate": "country=%{x}<br>year=1978<br>counts=%{y}<extra></extra>",
           "ids": [
            "Other"
           ],
           "legendgroup": "Other",
           "marker": {
            "color": "#19d3f3",
            "pattern": {
             "shape": ""
            }
           },
           "name": "Other",
           "offsetgroup": "Other",
           "orientation": "v",
           "showlegend": true,
           "textposition": "auto",
           "type": "bar",
           "x": [
            "Other"
           ],
           "xaxis": "x",
           "y": [
            0
           ],
           "yaxis": "y"
          },
          {
           "alignmentgroup": "True",
           "hovertemplate": "country=%{x}<br>year=1978<br>counts=%{y}<extra></extra>",
           "ids": [
            "Russia"
           ],
           "legendgroup": "Russia",
           "marker": {
            "color": "#FF6692",
            "pattern": {
             "shape": ""
            }
           },
           "name": "Russia",
           "offsetgroup": "Russia",
           "orientation": "v",
           "showlegend": true,
           "textposition": "auto",
           "type": "bar",
           "x": [
            "Russia"
           ],
           "xaxis": "x",
           "y": [
            62
           ],
           "yaxis": "y"
          },
          {
           "alignmentgroup": "True",
           "hovertemplate": "country=%{x}<br>year=1978<br>counts=%{y}<extra></extra>",
           "ids": [
            "USA"
           ],
           "legendgroup": "USA",
           "marker": {
            "color": "#B6E880",
            "pattern": {
             "shape": ""
            }
           },
           "name": "USA",
           "offsetgroup": "USA",
           "orientation": "v",
           "showlegend": true,
           "textposition": "auto",
           "type": "bar",
           "x": [
            "USA"
           ],
           "xaxis": "x",
           "y": [
            21
           ],
           "yaxis": "y"
          }
         ],
         "name": "1978"
        },
        {
         "data": [
          {
           "alignmentgroup": "True",
           "hovertemplate": "country=%{x}<br>year=1979<br>counts=%{y}<extra></extra>",
           "ids": [
            "China"
           ],
           "legendgroup": "China",
           "marker": {
            "color": "#636efa",
            "pattern": {
             "shape": ""
            }
           },
           "name": "China",
           "offsetgroup": "China",
           "orientation": "v",
           "showlegend": true,
           "textposition": "auto",
           "type": "bar",
           "x": [
            "China"
           ],
           "xaxis": "x",
           "y": [
            1
           ],
           "yaxis": "y"
          },
          {
           "alignmentgroup": "True",
           "hovertemplate": "country=%{x}<br>year=1979<br>counts=%{y}<extra></extra>",
           "ids": [
            "France"
           ],
           "legendgroup": "France",
           "marker": {
            "color": "#EF553B",
            "pattern": {
             "shape": ""
            }
           },
           "name": "France",
           "offsetgroup": "France",
           "orientation": "v",
           "showlegend": true,
           "textposition": "auto",
           "type": "bar",
           "x": [
            "France"
           ],
           "xaxis": "x",
           "y": [
            1
           ],
           "yaxis": "y"
          },
          {
           "alignmentgroup": "True",
           "hovertemplate": "country=%{x}<br>year=1979<br>counts=%{y}<extra></extra>",
           "ids": [
            "India"
           ],
           "legendgroup": "India",
           "marker": {
            "color": "#00cc96",
            "pattern": {
             "shape": ""
            }
           },
           "name": "India",
           "offsetgroup": "India",
           "orientation": "v",
           "showlegend": true,
           "textposition": "auto",
           "type": "bar",
           "x": [
            "India"
           ],
           "xaxis": "x",
           "y": [
            1
           ],
           "yaxis": "y"
          },
          {
           "alignmentgroup": "True",
           "hovertemplate": "country=%{x}<br>year=1979<br>counts=%{y}<extra></extra>",
           "ids": [
            "Japan"
           ],
           "legendgroup": "Japan",
           "marker": {
            "color": "#ab63fa",
            "pattern": {
             "shape": ""
            }
           },
           "name": "Japan",
           "offsetgroup": "Japan",
           "orientation": "v",
           "showlegend": true,
           "textposition": "auto",
           "type": "bar",
           "x": [
            "Japan"
           ],
           "xaxis": "x",
           "y": [
            1
           ],
           "yaxis": "y"
          },
          {
           "alignmentgroup": "True",
           "hovertemplate": "country=%{x}<br>year=1979<br>counts=%{y}<extra></extra>",
           "ids": [
            "Kazakhstan"
           ],
           "legendgroup": "Kazakhstan",
           "marker": {
            "color": "#FFA15A",
            "pattern": {
             "shape": ""
            }
           },
           "name": "Kazakhstan",
           "offsetgroup": "Kazakhstan",
           "orientation": "v",
           "showlegend": true,
           "textposition": "auto",
           "type": "bar",
           "x": [
            "Kazakhstan"
           ],
           "xaxis": "x",
           "y": [
            3
           ],
           "yaxis": "y"
          },
          {
           "alignmentgroup": "True",
           "hovertemplate": "country=%{x}<br>year=1979<br>counts=%{y}<extra></extra>",
           "ids": [
            "Other"
           ],
           "legendgroup": "Other",
           "marker": {
            "color": "#19d3f3",
            "pattern": {
             "shape": ""
            }
           },
           "name": "Other",
           "offsetgroup": "Other",
           "orientation": "v",
           "showlegend": true,
           "textposition": "auto",
           "type": "bar",
           "x": [
            "Other"
           ],
           "xaxis": "x",
           "y": [
            0
           ],
           "yaxis": "y"
          },
          {
           "alignmentgroup": "True",
           "hovertemplate": "country=%{x}<br>year=1979<br>counts=%{y}<extra></extra>",
           "ids": [
            "Russia"
           ],
           "legendgroup": "Russia",
           "marker": {
            "color": "#FF6692",
            "pattern": {
             "shape": ""
            }
           },
           "name": "Russia",
           "offsetgroup": "Russia",
           "orientation": "v",
           "showlegend": true,
           "textposition": "auto",
           "type": "bar",
           "x": [
            "Russia"
           ],
           "xaxis": "x",
           "y": [
            33
           ],
           "yaxis": "y"
          },
          {
           "alignmentgroup": "True",
           "hovertemplate": "country=%{x}<br>year=1979<br>counts=%{y}<extra></extra>",
           "ids": [
            "USA"
           ],
           "legendgroup": "USA",
           "marker": {
            "color": "#B6E880",
            "pattern": {
             "shape": ""
            }
           },
           "name": "USA",
           "offsetgroup": "USA",
           "orientation": "v",
           "showlegend": true,
           "textposition": "auto",
           "type": "bar",
           "x": [
            "USA"
           ],
           "xaxis": "x",
           "y": [
            9
           ],
           "yaxis": "y"
          }
         ],
         "name": "1979"
        },
        {
         "data": [
          {
           "alignmentgroup": "True",
           "hovertemplate": "country=%{x}<br>year=1980<br>counts=%{y}<extra></extra>",
           "ids": [
            "China"
           ],
           "legendgroup": "China",
           "marker": {
            "color": "#636efa",
            "pattern": {
             "shape": ""
            }
           },
           "name": "China",
           "offsetgroup": "China",
           "orientation": "v",
           "showlegend": true,
           "textposition": "auto",
           "type": "bar",
           "x": [
            "China"
           ],
           "xaxis": "x",
           "y": [
            0
           ],
           "yaxis": "y"
          },
          {
           "alignmentgroup": "True",
           "hovertemplate": "country=%{x}<br>year=1980<br>counts=%{y}<extra></extra>",
           "ids": [
            "France"
           ],
           "legendgroup": "France",
           "marker": {
            "color": "#EF553B",
            "pattern": {
             "shape": ""
            }
           },
           "name": "France",
           "offsetgroup": "France",
           "orientation": "v",
           "showlegend": true,
           "textposition": "auto",
           "type": "bar",
           "x": [
            "France"
           ],
           "xaxis": "x",
           "y": [
            1
           ],
           "yaxis": "y"
          },
          {
           "alignmentgroup": "True",
           "hovertemplate": "country=%{x}<br>year=1980<br>counts=%{y}<extra></extra>",
           "ids": [
            "India"
           ],
           "legendgroup": "India",
           "marker": {
            "color": "#00cc96",
            "pattern": {
             "shape": ""
            }
           },
           "name": "India",
           "offsetgroup": "India",
           "orientation": "v",
           "showlegend": true,
           "textposition": "auto",
           "type": "bar",
           "x": [
            "India"
           ],
           "xaxis": "x",
           "y": [
            1
           ],
           "yaxis": "y"
          },
          {
           "alignmentgroup": "True",
           "hovertemplate": "country=%{x}<br>year=1980<br>counts=%{y}<extra></extra>",
           "ids": [
            "Japan"
           ],
           "legendgroup": "Japan",
           "marker": {
            "color": "#ab63fa",
            "pattern": {
             "shape": ""
            }
           },
           "name": "Japan",
           "offsetgroup": "Japan",
           "orientation": "v",
           "showlegend": true,
           "textposition": "auto",
           "type": "bar",
           "x": [
            "Japan"
           ],
           "xaxis": "x",
           "y": [
            2
           ],
           "yaxis": "y"
          },
          {
           "alignmentgroup": "True",
           "hovertemplate": "country=%{x}<br>year=1980<br>counts=%{y}<extra></extra>",
           "ids": [
            "Kazakhstan"
           ],
           "legendgroup": "Kazakhstan",
           "marker": {
            "color": "#FFA15A",
            "pattern": {
             "shape": ""
            }
           },
           "name": "Kazakhstan",
           "offsetgroup": "Kazakhstan",
           "orientation": "v",
           "showlegend": true,
           "textposition": "auto",
           "type": "bar",
           "x": [
            "Kazakhstan"
           ],
           "xaxis": "x",
           "y": [
            6
           ],
           "yaxis": "y"
          },
          {
           "alignmentgroup": "True",
           "hovertemplate": "country=%{x}<br>year=1980<br>counts=%{y}<extra></extra>",
           "ids": [
            "Other"
           ],
           "legendgroup": "Other",
           "marker": {
            "color": "#19d3f3",
            "pattern": {
             "shape": ""
            }
           },
           "name": "Other",
           "offsetgroup": "Other",
           "orientation": "v",
           "showlegend": true,
           "textposition": "auto",
           "type": "bar",
           "x": [
            "Other"
           ],
           "xaxis": "x",
           "y": [
            0
           ],
           "yaxis": "y"
          },
          {
           "alignmentgroup": "True",
           "hovertemplate": "country=%{x}<br>year=1980<br>counts=%{y}<extra></extra>",
           "ids": [
            "Russia"
           ],
           "legendgroup": "Russia",
           "marker": {
            "color": "#FF6692",
            "pattern": {
             "shape": ""
            }
           },
           "name": "Russia",
           "offsetgroup": "Russia",
           "orientation": "v",
           "showlegend": true,
           "textposition": "auto",
           "type": "bar",
           "x": [
            "Russia"
           ],
           "xaxis": "x",
           "y": [
            34
           ],
           "yaxis": "y"
          },
          {
           "alignmentgroup": "True",
           "hovertemplate": "country=%{x}<br>year=1980<br>counts=%{y}<extra></extra>",
           "ids": [
            "USA"
           ],
           "legendgroup": "USA",
           "marker": {
            "color": "#B6E880",
            "pattern": {
             "shape": ""
            }
           },
           "name": "USA",
           "offsetgroup": "USA",
           "orientation": "v",
           "showlegend": true,
           "textposition": "auto",
           "type": "bar",
           "x": [
            "USA"
           ],
           "xaxis": "x",
           "y": [
            11
           ],
           "yaxis": "y"
          }
         ],
         "name": "1980"
        },
        {
         "data": [
          {
           "alignmentgroup": "True",
           "hovertemplate": "country=%{x}<br>year=1981<br>counts=%{y}<extra></extra>",
           "ids": [
            "China"
           ],
           "legendgroup": "China",
           "marker": {
            "color": "#636efa",
            "pattern": {
             "shape": ""
            }
           },
           "name": "China",
           "offsetgroup": "China",
           "orientation": "v",
           "showlegend": true,
           "textposition": "auto",
           "type": "bar",
           "x": [
            "China"
           ],
           "xaxis": "x",
           "y": [
            1
           ],
           "yaxis": "y"
          },
          {
           "alignmentgroup": "True",
           "hovertemplate": "country=%{x}<br>year=1981<br>counts=%{y}<extra></extra>",
           "ids": [
            "France"
           ],
           "legendgroup": "France",
           "marker": {
            "color": "#EF553B",
            "pattern": {
             "shape": ""
            }
           },
           "name": "France",
           "offsetgroup": "France",
           "orientation": "v",
           "showlegend": true,
           "textposition": "auto",
           "type": "bar",
           "x": [
            "France"
           ],
           "xaxis": "x",
           "y": [
            2
           ],
           "yaxis": "y"
          },
          {
           "alignmentgroup": "True",
           "hovertemplate": "country=%{x}<br>year=1981<br>counts=%{y}<extra></extra>",
           "ids": [
            "India"
           ],
           "legendgroup": "India",
           "marker": {
            "color": "#00cc96",
            "pattern": {
             "shape": ""
            }
           },
           "name": "India",
           "offsetgroup": "India",
           "orientation": "v",
           "showlegend": true,
           "textposition": "auto",
           "type": "bar",
           "x": [
            "India"
           ],
           "xaxis": "x",
           "y": [
            1
           ],
           "yaxis": "y"
          },
          {
           "alignmentgroup": "True",
           "hovertemplate": "country=%{x}<br>year=1981<br>counts=%{y}<extra></extra>",
           "ids": [
            "Japan"
           ],
           "legendgroup": "Japan",
           "marker": {
            "color": "#ab63fa",
            "pattern": {
             "shape": ""
            }
           },
           "name": "Japan",
           "offsetgroup": "Japan",
           "orientation": "v",
           "showlegend": true,
           "textposition": "auto",
           "type": "bar",
           "x": [
            "Japan"
           ],
           "xaxis": "x",
           "y": [
            3
           ],
           "yaxis": "y"
          },
          {
           "alignmentgroup": "True",
           "hovertemplate": "country=%{x}<br>year=1981<br>counts=%{y}<extra></extra>",
           "ids": [
            "Kazakhstan"
           ],
           "legendgroup": "Kazakhstan",
           "marker": {
            "color": "#FFA15A",
            "pattern": {
             "shape": ""
            }
           },
           "name": "Kazakhstan",
           "offsetgroup": "Kazakhstan",
           "orientation": "v",
           "showlegend": true,
           "textposition": "auto",
           "type": "bar",
           "x": [
            "Kazakhstan"
           ],
           "xaxis": "x",
           "y": [
            10
           ],
           "yaxis": "y"
          },
          {
           "alignmentgroup": "True",
           "hovertemplate": "country=%{x}<br>year=1981<br>counts=%{y}<extra></extra>",
           "ids": [
            "Other"
           ],
           "legendgroup": "Other",
           "marker": {
            "color": "#19d3f3",
            "pattern": {
             "shape": ""
            }
           },
           "name": "Other",
           "offsetgroup": "Other",
           "orientation": "v",
           "showlegend": true,
           "textposition": "auto",
           "type": "bar",
           "x": [
            "Other"
           ],
           "xaxis": "x",
           "y": [
            0
           ],
           "yaxis": "y"
          },
          {
           "alignmentgroup": "True",
           "hovertemplate": "country=%{x}<br>year=1981<br>counts=%{y}<extra></extra>",
           "ids": [
            "Russia"
           ],
           "legendgroup": "Russia",
           "marker": {
            "color": "#FF6692",
            "pattern": {
             "shape": ""
            }
           },
           "name": "Russia",
           "offsetgroup": "Russia",
           "orientation": "v",
           "showlegend": true,
           "textposition": "auto",
           "type": "bar",
           "x": [
            "Russia"
           ],
           "xaxis": "x",
           "y": [
            41
           ],
           "yaxis": "y"
          },
          {
           "alignmentgroup": "True",
           "hovertemplate": "country=%{x}<br>year=1981<br>counts=%{y}<extra></extra>",
           "ids": [
            "USA"
           ],
           "legendgroup": "USA",
           "marker": {
            "color": "#B6E880",
            "pattern": {
             "shape": ""
            }
           },
           "name": "USA",
           "offsetgroup": "USA",
           "orientation": "v",
           "showlegend": true,
           "textposition": "auto",
           "type": "bar",
           "x": [
            "USA"
           ],
           "xaxis": "x",
           "y": [
            13
           ],
           "yaxis": "y"
          }
         ],
         "name": "1981"
        },
        {
         "data": [
          {
           "alignmentgroup": "True",
           "hovertemplate": "country=%{x}<br>year=1982<br>counts=%{y}<extra></extra>",
           "ids": [
            "China"
           ],
           "legendgroup": "China",
           "marker": {
            "color": "#636efa",
            "pattern": {
             "shape": ""
            }
           },
           "name": "China",
           "offsetgroup": "China",
           "orientation": "v",
           "showlegend": true,
           "textposition": "auto",
           "type": "bar",
           "x": [
            "China"
           ],
           "xaxis": "x",
           "y": [
            1
           ],
           "yaxis": "y"
          },
          {
           "alignmentgroup": "True",
           "hovertemplate": "country=%{x}<br>year=1982<br>counts=%{y}<extra></extra>",
           "ids": [
            "France"
           ],
           "legendgroup": "France",
           "marker": {
            "color": "#EF553B",
            "pattern": {
             "shape": ""
            }
           },
           "name": "France",
           "offsetgroup": "France",
           "orientation": "v",
           "showlegend": true,
           "textposition": "auto",
           "type": "bar",
           "x": [
            "France"
           ],
           "xaxis": "x",
           "y": [
            1
           ],
           "yaxis": "y"
          },
          {
           "alignmentgroup": "True",
           "hovertemplate": "country=%{x}<br>year=1982<br>counts=%{y}<extra></extra>",
           "ids": [
            "India"
           ],
           "legendgroup": "India",
           "marker": {
            "color": "#00cc96",
            "pattern": {
             "shape": ""
            }
           },
           "name": "India",
           "offsetgroup": "India",
           "orientation": "v",
           "showlegend": true,
           "textposition": "auto",
           "type": "bar",
           "x": [
            "India"
           ],
           "xaxis": "x",
           "y": [
            0
           ],
           "yaxis": "y"
          },
          {
           "alignmentgroup": "True",
           "hovertemplate": "country=%{x}<br>year=1982<br>counts=%{y}<extra></extra>",
           "ids": [
            "Japan"
           ],
           "legendgroup": "Japan",
           "marker": {
            "color": "#ab63fa",
            "pattern": {
             "shape": ""
            }
           },
           "name": "Japan",
           "offsetgroup": "Japan",
           "orientation": "v",
           "showlegend": true,
           "textposition": "auto",
           "type": "bar",
           "x": [
            "Japan"
           ],
           "xaxis": "x",
           "y": [
            1
           ],
           "yaxis": "y"
          },
          {
           "alignmentgroup": "True",
           "hovertemplate": "country=%{x}<br>year=1982<br>counts=%{y}<extra></extra>",
           "ids": [
            "Kazakhstan"
           ],
           "legendgroup": "Kazakhstan",
           "marker": {
            "color": "#FFA15A",
            "pattern": {
             "shape": ""
            }
           },
           "name": "Kazakhstan",
           "offsetgroup": "Kazakhstan",
           "orientation": "v",
           "showlegend": true,
           "textposition": "auto",
           "type": "bar",
           "x": [
            "Kazakhstan"
           ],
           "xaxis": "x",
           "y": [
            10
           ],
           "yaxis": "y"
          },
          {
           "alignmentgroup": "True",
           "hovertemplate": "country=%{x}<br>year=1982<br>counts=%{y}<extra></extra>",
           "ids": [
            "Other"
           ],
           "legendgroup": "Other",
           "marker": {
            "color": "#19d3f3",
            "pattern": {
             "shape": ""
            }
           },
           "name": "Other",
           "offsetgroup": "Other",
           "orientation": "v",
           "showlegend": true,
           "textposition": "auto",
           "type": "bar",
           "x": [
            "Other"
           ],
           "xaxis": "x",
           "y": [
            0
           ],
           "yaxis": "y"
          },
          {
           "alignmentgroup": "True",
           "hovertemplate": "country=%{x}<br>year=1982<br>counts=%{y}<extra></extra>",
           "ids": [
            "Russia"
           ],
           "legendgroup": "Russia",
           "marker": {
            "color": "#FF6692",
            "pattern": {
             "shape": ""
            }
           },
           "name": "Russia",
           "offsetgroup": "Russia",
           "orientation": "v",
           "showlegend": true,
           "textposition": "auto",
           "type": "bar",
           "x": [
            "Russia"
           ],
           "xaxis": "x",
           "y": [
            43
           ],
           "yaxis": "y"
          },
          {
           "alignmentgroup": "True",
           "hovertemplate": "country=%{x}<br>year=1982<br>counts=%{y}<extra></extra>",
           "ids": [
            "USA"
           ],
           "legendgroup": "USA",
           "marker": {
            "color": "#B6E880",
            "pattern": {
             "shape": ""
            }
           },
           "name": "USA",
           "offsetgroup": "USA",
           "orientation": "v",
           "showlegend": true,
           "textposition": "auto",
           "type": "bar",
           "x": [
            "USA"
           ],
           "xaxis": "x",
           "y": [
            11
           ],
           "yaxis": "y"
          }
         ],
         "name": "1982"
        },
        {
         "data": [
          {
           "alignmentgroup": "True",
           "hovertemplate": "country=%{x}<br>year=1983<br>counts=%{y}<extra></extra>",
           "ids": [
            "China"
           ],
           "legendgroup": "China",
           "marker": {
            "color": "#636efa",
            "pattern": {
             "shape": ""
            }
           },
           "name": "China",
           "offsetgroup": "China",
           "orientation": "v",
           "showlegend": true,
           "textposition": "auto",
           "type": "bar",
           "x": [
            "China"
           ],
           "xaxis": "x",
           "y": [
            1
           ],
           "yaxis": "y"
          },
          {
           "alignmentgroup": "True",
           "hovertemplate": "country=%{x}<br>year=1983<br>counts=%{y}<extra></extra>",
           "ids": [
            "France"
           ],
           "legendgroup": "France",
           "marker": {
            "color": "#EF553B",
            "pattern": {
             "shape": ""
            }
           },
           "name": "France",
           "offsetgroup": "France",
           "orientation": "v",
           "showlegend": true,
           "textposition": "auto",
           "type": "bar",
           "x": [
            "France"
           ],
           "xaxis": "x",
           "y": [
            2
           ],
           "yaxis": "y"
          },
          {
           "alignmentgroup": "True",
           "hovertemplate": "country=%{x}<br>year=1983<br>counts=%{y}<extra></extra>",
           "ids": [
            "India"
           ],
           "legendgroup": "India",
           "marker": {
            "color": "#00cc96",
            "pattern": {
             "shape": ""
            }
           },
           "name": "India",
           "offsetgroup": "India",
           "orientation": "v",
           "showlegend": true,
           "textposition": "auto",
           "type": "bar",
           "x": [
            "India"
           ],
           "xaxis": "x",
           "y": [
            1
           ],
           "yaxis": "y"
          },
          {
           "alignmentgroup": "True",
           "hovertemplate": "country=%{x}<br>year=1983<br>counts=%{y}<extra></extra>",
           "ids": [
            "Japan"
           ],
           "legendgroup": "Japan",
           "marker": {
            "color": "#ab63fa",
            "pattern": {
             "shape": ""
            }
           },
           "name": "Japan",
           "offsetgroup": "Japan",
           "orientation": "v",
           "showlegend": true,
           "textposition": "auto",
           "type": "bar",
           "x": [
            "Japan"
           ],
           "xaxis": "x",
           "y": [
            3
           ],
           "yaxis": "y"
          },
          {
           "alignmentgroup": "True",
           "hovertemplate": "country=%{x}<br>year=1983<br>counts=%{y}<extra></extra>",
           "ids": [
            "Kazakhstan"
           ],
           "legendgroup": "Kazakhstan",
           "marker": {
            "color": "#FFA15A",
            "pattern": {
             "shape": ""
            }
           },
           "name": "Kazakhstan",
           "offsetgroup": "Kazakhstan",
           "orientation": "v",
           "showlegend": true,
           "textposition": "auto",
           "type": "bar",
           "x": [
            "Kazakhstan"
           ],
           "xaxis": "x",
           "y": [
            6
           ],
           "yaxis": "y"
          },
          {
           "alignmentgroup": "True",
           "hovertemplate": "country=%{x}<br>year=1983<br>counts=%{y}<extra></extra>",
           "ids": [
            "Other"
           ],
           "legendgroup": "Other",
           "marker": {
            "color": "#19d3f3",
            "pattern": {
             "shape": ""
            }
           },
           "name": "Other",
           "offsetgroup": "Other",
           "orientation": "v",
           "showlegend": true,
           "textposition": "auto",
           "type": "bar",
           "x": [
            "Other"
           ],
           "xaxis": "x",
           "y": [
            0
           ],
           "yaxis": "y"
          },
          {
           "alignmentgroup": "True",
           "hovertemplate": "country=%{x}<br>year=1983<br>counts=%{y}<extra></extra>",
           "ids": [
            "Russia"
           ],
           "legendgroup": "Russia",
           "marker": {
            "color": "#FF6692",
            "pattern": {
             "shape": ""
            }
           },
           "name": "Russia",
           "offsetgroup": "Russia",
           "orientation": "v",
           "showlegend": true,
           "textposition": "auto",
           "type": "bar",
           "x": [
            "Russia"
           ],
           "xaxis": "x",
           "y": [
            40
           ],
           "yaxis": "y"
          },
          {
           "alignmentgroup": "True",
           "hovertemplate": "country=%{x}<br>year=1983<br>counts=%{y}<extra></extra>",
           "ids": [
            "USA"
           ],
           "legendgroup": "USA",
           "marker": {
            "color": "#B6E880",
            "pattern": {
             "shape": ""
            }
           },
           "name": "USA",
           "offsetgroup": "USA",
           "orientation": "v",
           "showlegend": true,
           "textposition": "auto",
           "type": "bar",
           "x": [
            "USA"
           ],
           "xaxis": "x",
           "y": [
            13
           ],
           "yaxis": "y"
          }
         ],
         "name": "1983"
        },
        {
         "data": [
          {
           "alignmentgroup": "True",
           "hovertemplate": "country=%{x}<br>year=1984<br>counts=%{y}<extra></extra>",
           "ids": [
            "China"
           ],
           "legendgroup": "China",
           "marker": {
            "color": "#636efa",
            "pattern": {
             "shape": ""
            }
           },
           "name": "China",
           "offsetgroup": "China",
           "orientation": "v",
           "showlegend": true,
           "textposition": "auto",
           "type": "bar",
           "x": [
            "China"
           ],
           "xaxis": "x",
           "y": [
            3
           ],
           "yaxis": "y"
          },
          {
           "alignmentgroup": "True",
           "hovertemplate": "country=%{x}<br>year=1984<br>counts=%{y}<extra></extra>",
           "ids": [
            "France"
           ],
           "legendgroup": "France",
           "marker": {
            "color": "#EF553B",
            "pattern": {
             "shape": ""
            }
           },
           "name": "France",
           "offsetgroup": "France",
           "orientation": "v",
           "showlegend": true,
           "textposition": "auto",
           "type": "bar",
           "x": [
            "France"
           ],
           "xaxis": "x",
           "y": [
            4
           ],
           "yaxis": "y"
          },
          {
           "alignmentgroup": "True",
           "hovertemplate": "country=%{x}<br>year=1984<br>counts=%{y}<extra></extra>",
           "ids": [
            "India"
           ],
           "legendgroup": "India",
           "marker": {
            "color": "#00cc96",
            "pattern": {
             "shape": ""
            }
           },
           "name": "India",
           "offsetgroup": "India",
           "orientation": "v",
           "showlegend": true,
           "textposition": "auto",
           "type": "bar",
           "x": [
            "India"
           ],
           "xaxis": "x",
           "y": [
            0
           ],
           "yaxis": "y"
          },
          {
           "alignmentgroup": "True",
           "hovertemplate": "country=%{x}<br>year=1984<br>counts=%{y}<extra></extra>",
           "ids": [
            "Japan"
           ],
           "legendgroup": "Japan",
           "marker": {
            "color": "#ab63fa",
            "pattern": {
             "shape": ""
            }
           },
           "name": "Japan",
           "offsetgroup": "Japan",
           "orientation": "v",
           "showlegend": true,
           "textposition": "auto",
           "type": "bar",
           "x": [
            "Japan"
           ],
           "xaxis": "x",
           "y": [
            3
           ],
           "yaxis": "y"
          },
          {
           "alignmentgroup": "True",
           "hovertemplate": "country=%{x}<br>year=1984<br>counts=%{y}<extra></extra>",
           "ids": [
            "Kazakhstan"
           ],
           "legendgroup": "Kazakhstan",
           "marker": {
            "color": "#FFA15A",
            "pattern": {
             "shape": ""
            }
           },
           "name": "Kazakhstan",
           "offsetgroup": "Kazakhstan",
           "orientation": "v",
           "showlegend": true,
           "textposition": "auto",
           "type": "bar",
           "x": [
            "Kazakhstan"
           ],
           "xaxis": "x",
           "y": [
            4
           ],
           "yaxis": "y"
          },
          {
           "alignmentgroup": "True",
           "hovertemplate": "country=%{x}<br>year=1984<br>counts=%{y}<extra></extra>",
           "ids": [
            "Other"
           ],
           "legendgroup": "Other",
           "marker": {
            "color": "#19d3f3",
            "pattern": {
             "shape": ""
            }
           },
           "name": "Other",
           "offsetgroup": "Other",
           "orientation": "v",
           "showlegend": true,
           "textposition": "auto",
           "type": "bar",
           "x": [
            "Other"
           ],
           "xaxis": "x",
           "y": [
            0
           ],
           "yaxis": "y"
          },
          {
           "alignmentgroup": "True",
           "hovertemplate": "country=%{x}<br>year=1984<br>counts=%{y}<extra></extra>",
           "ids": [
            "Russia"
           ],
           "legendgroup": "Russia",
           "marker": {
            "color": "#FF6692",
            "pattern": {
             "shape": ""
            }
           },
           "name": "Russia",
           "offsetgroup": "Russia",
           "orientation": "v",
           "showlegend": true,
           "textposition": "auto",
           "type": "bar",
           "x": [
            "Russia"
           ],
           "xaxis": "x",
           "y": [
            38
           ],
           "yaxis": "y"
          },
          {
           "alignmentgroup": "True",
           "hovertemplate": "country=%{x}<br>year=1984<br>counts=%{y}<extra></extra>",
           "ids": [
            "USA"
           ],
           "legendgroup": "USA",
           "marker": {
            "color": "#B6E880",
            "pattern": {
             "shape": ""
            }
           },
           "name": "USA",
           "offsetgroup": "USA",
           "orientation": "v",
           "showlegend": true,
           "textposition": "auto",
           "type": "bar",
           "x": [
            "USA"
           ],
           "xaxis": "x",
           "y": [
            17
           ],
           "yaxis": "y"
          }
         ],
         "name": "1984"
        },
        {
         "data": [
          {
           "alignmentgroup": "True",
           "hovertemplate": "country=%{x}<br>year=1985<br>counts=%{y}<extra></extra>",
           "ids": [
            "China"
           ],
           "legendgroup": "China",
           "marker": {
            "color": "#636efa",
            "pattern": {
             "shape": ""
            }
           },
           "name": "China",
           "offsetgroup": "China",
           "orientation": "v",
           "showlegend": true,
           "textposition": "auto",
           "type": "bar",
           "x": [
            "China"
           ],
           "xaxis": "x",
           "y": [
            1
           ],
           "yaxis": "y"
          },
          {
           "alignmentgroup": "True",
           "hovertemplate": "country=%{x}<br>year=1985<br>counts=%{y}<extra></extra>",
           "ids": [
            "France"
           ],
           "legendgroup": "France",
           "marker": {
            "color": "#EF553B",
            "pattern": {
             "shape": ""
            }
           },
           "name": "France",
           "offsetgroup": "France",
           "orientation": "v",
           "showlegend": true,
           "textposition": "auto",
           "type": "bar",
           "x": [
            "France"
           ],
           "xaxis": "x",
           "y": [
            4
           ],
           "yaxis": "y"
          },
          {
           "alignmentgroup": "True",
           "hovertemplate": "country=%{x}<br>year=1985<br>counts=%{y}<extra></extra>",
           "ids": [
            "India"
           ],
           "legendgroup": "India",
           "marker": {
            "color": "#00cc96",
            "pattern": {
             "shape": ""
            }
           },
           "name": "India",
           "offsetgroup": "India",
           "orientation": "v",
           "showlegend": true,
           "textposition": "auto",
           "type": "bar",
           "x": [
            "India"
           ],
           "xaxis": "x",
           "y": [
            0
           ],
           "yaxis": "y"
          },
          {
           "alignmentgroup": "True",
           "hovertemplate": "country=%{x}<br>year=1985<br>counts=%{y}<extra></extra>",
           "ids": [
            "Japan"
           ],
           "legendgroup": "Japan",
           "marker": {
            "color": "#ab63fa",
            "pattern": {
             "shape": ""
            }
           },
           "name": "Japan",
           "offsetgroup": "Japan",
           "orientation": "v",
           "showlegend": true,
           "textposition": "auto",
           "type": "bar",
           "x": [
            "Japan"
           ],
           "xaxis": "x",
           "y": [
            2
           ],
           "yaxis": "y"
          },
          {
           "alignmentgroup": "True",
           "hovertemplate": "country=%{x}<br>year=1985<br>counts=%{y}<extra></extra>",
           "ids": [
            "Kazakhstan"
           ],
           "legendgroup": "Kazakhstan",
           "marker": {
            "color": "#FFA15A",
            "pattern": {
             "shape": ""
            }
           },
           "name": "Kazakhstan",
           "offsetgroup": "Kazakhstan",
           "orientation": "v",
           "showlegend": true,
           "textposition": "auto",
           "type": "bar",
           "x": [
            "Kazakhstan"
           ],
           "xaxis": "x",
           "y": [
            12
           ],
           "yaxis": "y"
          },
          {
           "alignmentgroup": "True",
           "hovertemplate": "country=%{x}<br>year=1985<br>counts=%{y}<extra></extra>",
           "ids": [
            "Other"
           ],
           "legendgroup": "Other",
           "marker": {
            "color": "#19d3f3",
            "pattern": {
             "shape": ""
            }
           },
           "name": "Other",
           "offsetgroup": "Other",
           "orientation": "v",
           "showlegend": true,
           "textposition": "auto",
           "type": "bar",
           "x": [
            "Other"
           ],
           "xaxis": "x",
           "y": [
            0
           ],
           "yaxis": "y"
          },
          {
           "alignmentgroup": "True",
           "hovertemplate": "country=%{x}<br>year=1985<br>counts=%{y}<extra></extra>",
           "ids": [
            "Russia"
           ],
           "legendgroup": "Russia",
           "marker": {
            "color": "#FF6692",
            "pattern": {
             "shape": ""
            }
           },
           "name": "Russia",
           "offsetgroup": "Russia",
           "orientation": "v",
           "showlegend": true,
           "textposition": "auto",
           "type": "bar",
           "x": [
            "Russia"
           ],
           "xaxis": "x",
           "y": [
            39
           ],
           "yaxis": "y"
          },
          {
           "alignmentgroup": "True",
           "hovertemplate": "country=%{x}<br>year=1985<br>counts=%{y}<extra></extra>",
           "ids": [
            "USA"
           ],
           "legendgroup": "USA",
           "marker": {
            "color": "#B6E880",
            "pattern": {
             "shape": ""
            }
           },
           "name": "USA",
           "offsetgroup": "USA",
           "orientation": "v",
           "showlegend": true,
           "textposition": "auto",
           "type": "bar",
           "x": [
            "USA"
           ],
           "xaxis": "x",
           "y": [
            16
           ],
           "yaxis": "y"
          }
         ],
         "name": "1985"
        },
        {
         "data": [
          {
           "alignmentgroup": "True",
           "hovertemplate": "country=%{x}<br>year=1986<br>counts=%{y}<extra></extra>",
           "ids": [
            "China"
           ],
           "legendgroup": "China",
           "marker": {
            "color": "#636efa",
            "pattern": {
             "shape": ""
            }
           },
           "name": "China",
           "offsetgroup": "China",
           "orientation": "v",
           "showlegend": true,
           "textposition": "auto",
           "type": "bar",
           "x": [
            "China"
           ],
           "xaxis": "x",
           "y": [
            2
           ],
           "yaxis": "y"
          },
          {
           "alignmentgroup": "True",
           "hovertemplate": "country=%{x}<br>year=1986<br>counts=%{y}<extra></extra>",
           "ids": [
            "France"
           ],
           "legendgroup": "France",
           "marker": {
            "color": "#EF553B",
            "pattern": {
             "shape": ""
            }
           },
           "name": "France",
           "offsetgroup": "France",
           "orientation": "v",
           "showlegend": true,
           "textposition": "auto",
           "type": "bar",
           "x": [
            "France"
           ],
           "xaxis": "x",
           "y": [
            3
           ],
           "yaxis": "y"
          },
          {
           "alignmentgroup": "True",
           "hovertemplate": "country=%{x}<br>year=1986<br>counts=%{y}<extra></extra>",
           "ids": [
            "India"
           ],
           "legendgroup": "India",
           "marker": {
            "color": "#00cc96",
            "pattern": {
             "shape": ""
            }
           },
           "name": "India",
           "offsetgroup": "India",
           "orientation": "v",
           "showlegend": true,
           "textposition": "auto",
           "type": "bar",
           "x": [
            "India"
           ],
           "xaxis": "x",
           "y": [
            0
           ],
           "yaxis": "y"
          },
          {
           "alignmentgroup": "True",
           "hovertemplate": "country=%{x}<br>year=1986<br>counts=%{y}<extra></extra>",
           "ids": [
            "Japan"
           ],
           "legendgroup": "Japan",
           "marker": {
            "color": "#ab63fa",
            "pattern": {
             "shape": ""
            }
           },
           "name": "Japan",
           "offsetgroup": "Japan",
           "orientation": "v",
           "showlegend": true,
           "textposition": "auto",
           "type": "bar",
           "x": [
            "Japan"
           ],
           "xaxis": "x",
           "y": [
            2
           ],
           "yaxis": "y"
          },
          {
           "alignmentgroup": "True",
           "hovertemplate": "country=%{x}<br>year=1986<br>counts=%{y}<extra></extra>",
           "ids": [
            "Kazakhstan"
           ],
           "legendgroup": "Kazakhstan",
           "marker": {
            "color": "#FFA15A",
            "pattern": {
             "shape": ""
            }
           },
           "name": "Kazakhstan",
           "offsetgroup": "Kazakhstan",
           "orientation": "v",
           "showlegend": true,
           "textposition": "auto",
           "type": "bar",
           "x": [
            "Kazakhstan"
           ],
           "xaxis": "x",
           "y": [
            7
           ],
           "yaxis": "y"
          },
          {
           "alignmentgroup": "True",
           "hovertemplate": "country=%{x}<br>year=1986<br>counts=%{y}<extra></extra>",
           "ids": [
            "Other"
           ],
           "legendgroup": "Other",
           "marker": {
            "color": "#19d3f3",
            "pattern": {
             "shape": ""
            }
           },
           "name": "Other",
           "offsetgroup": "Other",
           "orientation": "v",
           "showlegend": true,
           "textposition": "auto",
           "type": "bar",
           "x": [
            "Other"
           ],
           "xaxis": "x",
           "y": [
            0
           ],
           "yaxis": "y"
          },
          {
           "alignmentgroup": "True",
           "hovertemplate": "country=%{x}<br>year=1986<br>counts=%{y}<extra></extra>",
           "ids": [
            "Russia"
           ],
           "legendgroup": "Russia",
           "marker": {
            "color": "#FF6692",
            "pattern": {
             "shape": ""
            }
           },
           "name": "Russia",
           "offsetgroup": "Russia",
           "orientation": "v",
           "showlegend": true,
           "textposition": "auto",
           "type": "bar",
           "x": [
            "Russia"
           ],
           "xaxis": "x",
           "y": [
            42
           ],
           "yaxis": "y"
          },
          {
           "alignmentgroup": "True",
           "hovertemplate": "country=%{x}<br>year=1986<br>counts=%{y}<extra></extra>",
           "ids": [
            "USA"
           ],
           "legendgroup": "USA",
           "marker": {
            "color": "#B6E880",
            "pattern": {
             "shape": ""
            }
           },
           "name": "USA",
           "offsetgroup": "USA",
           "orientation": "v",
           "showlegend": true,
           "textposition": "auto",
           "type": "bar",
           "x": [
            "USA"
           ],
           "xaxis": "x",
           "y": [
            6
           ],
           "yaxis": "y"
          }
         ],
         "name": "1986"
        },
        {
         "data": [
          {
           "alignmentgroup": "True",
           "hovertemplate": "country=%{x}<br>year=1987<br>counts=%{y}<extra></extra>",
           "ids": [
            "China"
           ],
           "legendgroup": "China",
           "marker": {
            "color": "#636efa",
            "pattern": {
             "shape": ""
            }
           },
           "name": "China",
           "offsetgroup": "China",
           "orientation": "v",
           "showlegend": true,
           "textposition": "auto",
           "type": "bar",
           "x": [
            "China"
           ],
           "xaxis": "x",
           "y": [
            2
           ],
           "yaxis": "y"
          },
          {
           "alignmentgroup": "True",
           "hovertemplate": "country=%{x}<br>year=1987<br>counts=%{y}<extra></extra>",
           "ids": [
            "France"
           ],
           "legendgroup": "France",
           "marker": {
            "color": "#EF553B",
            "pattern": {
             "shape": ""
            }
           },
           "name": "France",
           "offsetgroup": "France",
           "orientation": "v",
           "showlegend": true,
           "textposition": "auto",
           "type": "bar",
           "x": [
            "France"
           ],
           "xaxis": "x",
           "y": [
            2
           ],
           "yaxis": "y"
          },
          {
           "alignmentgroup": "True",
           "hovertemplate": "country=%{x}<br>year=1987<br>counts=%{y}<extra></extra>",
           "ids": [
            "India"
           ],
           "legendgroup": "India",
           "marker": {
            "color": "#00cc96",
            "pattern": {
             "shape": ""
            }
           },
           "name": "India",
           "offsetgroup": "India",
           "orientation": "v",
           "showlegend": true,
           "textposition": "auto",
           "type": "bar",
           "x": [
            "India"
           ],
           "xaxis": "x",
           "y": [
            1
           ],
           "yaxis": "y"
          },
          {
           "alignmentgroup": "True",
           "hovertemplate": "country=%{x}<br>year=1987<br>counts=%{y}<extra></extra>",
           "ids": [
            "Japan"
           ],
           "legendgroup": "Japan",
           "marker": {
            "color": "#ab63fa",
            "pattern": {
             "shape": ""
            }
           },
           "name": "Japan",
           "offsetgroup": "Japan",
           "orientation": "v",
           "showlegend": true,
           "textposition": "auto",
           "type": "bar",
           "x": [
            "Japan"
           ],
           "xaxis": "x",
           "y": [
            3
           ],
           "yaxis": "y"
          },
          {
           "alignmentgroup": "True",
           "hovertemplate": "country=%{x}<br>year=1987<br>counts=%{y}<extra></extra>",
           "ids": [
            "Kazakhstan"
           ],
           "legendgroup": "Kazakhstan",
           "marker": {
            "color": "#FFA15A",
            "pattern": {
             "shape": ""
            }
           },
           "name": "Kazakhstan",
           "offsetgroup": "Kazakhstan",
           "orientation": "v",
           "showlegend": true,
           "textposition": "auto",
           "type": "bar",
           "x": [
            "Kazakhstan"
           ],
           "xaxis": "x",
           "y": [
            12
           ],
           "yaxis": "y"
          },
          {
           "alignmentgroup": "True",
           "hovertemplate": "country=%{x}<br>year=1987<br>counts=%{y}<extra></extra>",
           "ids": [
            "Other"
           ],
           "legendgroup": "Other",
           "marker": {
            "color": "#19d3f3",
            "pattern": {
             "shape": ""
            }
           },
           "name": "Other",
           "offsetgroup": "Other",
           "orientation": "v",
           "showlegend": true,
           "textposition": "auto",
           "type": "bar",
           "x": [
            "Other"
           ],
           "xaxis": "x",
           "y": [
            0
           ],
           "yaxis": "y"
          },
          {
           "alignmentgroup": "True",
           "hovertemplate": "country=%{x}<br>year=1987<br>counts=%{y}<extra></extra>",
           "ids": [
            "Russia"
           ],
           "legendgroup": "Russia",
           "marker": {
            "color": "#FF6692",
            "pattern": {
             "shape": ""
            }
           },
           "name": "Russia",
           "offsetgroup": "Russia",
           "orientation": "v",
           "showlegend": true,
           "textposition": "auto",
           "type": "bar",
           "x": [
            "Russia"
           ],
           "xaxis": "x",
           "y": [
            30
           ],
           "yaxis": "y"
          },
          {
           "alignmentgroup": "True",
           "hovertemplate": "country=%{x}<br>year=1987<br>counts=%{y}<extra></extra>",
           "ids": [
            "USA"
           ],
           "legendgroup": "USA",
           "marker": {
            "color": "#B6E880",
            "pattern": {
             "shape": ""
            }
           },
           "name": "USA",
           "offsetgroup": "USA",
           "orientation": "v",
           "showlegend": true,
           "textposition": "auto",
           "type": "bar",
           "x": [
            "USA"
           ],
           "xaxis": "x",
           "y": [
            6
           ],
           "yaxis": "y"
          }
         ],
         "name": "1987"
        },
        {
         "data": [
          {
           "alignmentgroup": "True",
           "hovertemplate": "country=%{x}<br>year=1988<br>counts=%{y}<extra></extra>",
           "ids": [
            "China"
           ],
           "legendgroup": "China",
           "marker": {
            "color": "#636efa",
            "pattern": {
             "shape": ""
            }
           },
           "name": "China",
           "offsetgroup": "China",
           "orientation": "v",
           "showlegend": true,
           "textposition": "auto",
           "type": "bar",
           "x": [
            "China"
           ],
           "xaxis": "x",
           "y": [
            4
           ],
           "yaxis": "y"
          },
          {
           "alignmentgroup": "True",
           "hovertemplate": "country=%{x}<br>year=1988<br>counts=%{y}<extra></extra>",
           "ids": [
            "France"
           ],
           "legendgroup": "France",
           "marker": {
            "color": "#EF553B",
            "pattern": {
             "shape": ""
            }
           },
           "name": "France",
           "offsetgroup": "France",
           "orientation": "v",
           "showlegend": true,
           "textposition": "auto",
           "type": "bar",
           "x": [
            "France"
           ],
           "xaxis": "x",
           "y": [
            7
           ],
           "yaxis": "y"
          },
          {
           "alignmentgroup": "True",
           "hovertemplate": "country=%{x}<br>year=1988<br>counts=%{y}<extra></extra>",
           "ids": [
            "India"
           ],
           "legendgroup": "India",
           "marker": {
            "color": "#00cc96",
            "pattern": {
             "shape": ""
            }
           },
           "name": "India",
           "offsetgroup": "India",
           "orientation": "v",
           "showlegend": true,
           "textposition": "auto",
           "type": "bar",
           "x": [
            "India"
           ],
           "xaxis": "x",
           "y": [
            1
           ],
           "yaxis": "y"
          },
          {
           "alignmentgroup": "True",
           "hovertemplate": "country=%{x}<br>year=1988<br>counts=%{y}<extra></extra>",
           "ids": [
            "Japan"
           ],
           "legendgroup": "Japan",
           "marker": {
            "color": "#ab63fa",
            "pattern": {
             "shape": ""
            }
           },
           "name": "Japan",
           "offsetgroup": "Japan",
           "orientation": "v",
           "showlegend": true,
           "textposition": "auto",
           "type": "bar",
           "x": [
            "Japan"
           ],
           "xaxis": "x",
           "y": [
            2
           ],
           "yaxis": "y"
          },
          {
           "alignmentgroup": "True",
           "hovertemplate": "country=%{x}<br>year=1988<br>counts=%{y}<extra></extra>",
           "ids": [
            "Kazakhstan"
           ],
           "legendgroup": "Kazakhstan",
           "marker": {
            "color": "#FFA15A",
            "pattern": {
             "shape": ""
            }
           },
           "name": "Kazakhstan",
           "offsetgroup": "Kazakhstan",
           "orientation": "v",
           "showlegend": true,
           "textposition": "auto",
           "type": "bar",
           "x": [
            "Kazakhstan"
           ],
           "xaxis": "x",
           "y": [
            9
           ],
           "yaxis": "y"
          },
          {
           "alignmentgroup": "True",
           "hovertemplate": "country=%{x}<br>year=1988<br>counts=%{y}<extra></extra>",
           "ids": [
            "Other"
           ],
           "legendgroup": "Other",
           "marker": {
            "color": "#19d3f3",
            "pattern": {
             "shape": ""
            }
           },
           "name": "Other",
           "offsetgroup": "Other",
           "orientation": "v",
           "showlegend": true,
           "textposition": "auto",
           "type": "bar",
           "x": [
            "Other"
           ],
           "xaxis": "x",
           "y": [
            2
           ],
           "yaxis": "y"
          },
          {
           "alignmentgroup": "True",
           "hovertemplate": "country=%{x}<br>year=1988<br>counts=%{y}<extra></extra>",
           "ids": [
            "Russia"
           ],
           "legendgroup": "Russia",
           "marker": {
            "color": "#FF6692",
            "pattern": {
             "shape": ""
            }
           },
           "name": "Russia",
           "offsetgroup": "Russia",
           "orientation": "v",
           "showlegend": true,
           "textposition": "auto",
           "type": "bar",
           "x": [
            "Russia"
           ],
           "xaxis": "x",
           "y": [
            27
           ],
           "yaxis": "y"
          },
          {
           "alignmentgroup": "True",
           "hovertemplate": "country=%{x}<br>year=1988<br>counts=%{y}<extra></extra>",
           "ids": [
            "USA"
           ],
           "legendgroup": "USA",
           "marker": {
            "color": "#B6E880",
            "pattern": {
             "shape": ""
            }
           },
           "name": "USA",
           "offsetgroup": "USA",
           "orientation": "v",
           "showlegend": true,
           "textposition": "auto",
           "type": "bar",
           "x": [
            "USA"
           ],
           "xaxis": "x",
           "y": [
            7
           ],
           "yaxis": "y"
          }
         ],
         "name": "1988"
        },
        {
         "data": [
          {
           "alignmentgroup": "True",
           "hovertemplate": "country=%{x}<br>year=1989<br>counts=%{y}<extra></extra>",
           "ids": [
            "China"
           ],
           "legendgroup": "China",
           "marker": {
            "color": "#636efa",
            "pattern": {
             "shape": ""
            }
           },
           "name": "China",
           "offsetgroup": "China",
           "orientation": "v",
           "showlegend": true,
           "textposition": "auto",
           "type": "bar",
           "x": [
            "China"
           ],
           "xaxis": "x",
           "y": [
            0
           ],
           "yaxis": "y"
          },
          {
           "alignmentgroup": "True",
           "hovertemplate": "country=%{x}<br>year=1989<br>counts=%{y}<extra></extra>",
           "ids": [
            "France"
           ],
           "legendgroup": "France",
           "marker": {
            "color": "#EF553B",
            "pattern": {
             "shape": ""
            }
           },
           "name": "France",
           "offsetgroup": "France",
           "orientation": "v",
           "showlegend": true,
           "textposition": "auto",
           "type": "bar",
           "x": [
            "France"
           ],
           "xaxis": "x",
           "y": [
            7
           ],
           "yaxis": "y"
          },
          {
           "alignmentgroup": "True",
           "hovertemplate": "country=%{x}<br>year=1989<br>counts=%{y}<extra></extra>",
           "ids": [
            "India"
           ],
           "legendgroup": "India",
           "marker": {
            "color": "#00cc96",
            "pattern": {
             "shape": ""
            }
           },
           "name": "India",
           "offsetgroup": "India",
           "orientation": "v",
           "showlegend": true,
           "textposition": "auto",
           "type": "bar",
           "x": [
            "India"
           ],
           "xaxis": "x",
           "y": [
            1
           ],
           "yaxis": "y"
          },
          {
           "alignmentgroup": "True",
           "hovertemplate": "country=%{x}<br>year=1989<br>counts=%{y}<extra></extra>",
           "ids": [
            "Japan"
           ],
           "legendgroup": "Japan",
           "marker": {
            "color": "#ab63fa",
            "pattern": {
             "shape": ""
            }
           },
           "name": "Japan",
           "offsetgroup": "Japan",
           "orientation": "v",
           "showlegend": true,
           "textposition": "auto",
           "type": "bar",
           "x": [
            "Japan"
           ],
           "xaxis": "x",
           "y": [
            2
           ],
           "yaxis": "y"
          },
          {
           "alignmentgroup": "True",
           "hovertemplate": "country=%{x}<br>year=1989<br>counts=%{y}<extra></extra>",
           "ids": [
            "Kazakhstan"
           ],
           "legendgroup": "Kazakhstan",
           "marker": {
            "color": "#FFA15A",
            "pattern": {
             "shape": ""
            }
           },
           "name": "Kazakhstan",
           "offsetgroup": "Kazakhstan",
           "orientation": "v",
           "showlegend": true,
           "textposition": "auto",
           "type": "bar",
           "x": [
            "Kazakhstan"
           ],
           "xaxis": "x",
           "y": [
            4
           ],
           "yaxis": "y"
          },
          {
           "alignmentgroup": "True",
           "hovertemplate": "country=%{x}<br>year=1989<br>counts=%{y}<extra></extra>",
           "ids": [
            "Other"
           ],
           "legendgroup": "Other",
           "marker": {
            "color": "#19d3f3",
            "pattern": {
             "shape": ""
            }
           },
           "name": "Other",
           "offsetgroup": "Other",
           "orientation": "v",
           "showlegend": true,
           "textposition": "auto",
           "type": "bar",
           "x": [
            "Other"
           ],
           "xaxis": "x",
           "y": [
            0
           ],
           "yaxis": "y"
          },
          {
           "alignmentgroup": "True",
           "hovertemplate": "country=%{x}<br>year=1989<br>counts=%{y}<extra></extra>",
           "ids": [
            "Russia"
           ],
           "legendgroup": "Russia",
           "marker": {
            "color": "#FF6692",
            "pattern": {
             "shape": ""
            }
           },
           "name": "Russia",
           "offsetgroup": "Russia",
           "orientation": "v",
           "showlegend": true,
           "textposition": "auto",
           "type": "bar",
           "x": [
            "Russia"
           ],
           "xaxis": "x",
           "y": [
            22
           ],
           "yaxis": "y"
          },
          {
           "alignmentgroup": "True",
           "hovertemplate": "country=%{x}<br>year=1989<br>counts=%{y}<extra></extra>",
           "ids": [
            "USA"
           ],
           "legendgroup": "USA",
           "marker": {
            "color": "#B6E880",
            "pattern": {
             "shape": ""
            }
           },
           "name": "USA",
           "offsetgroup": "USA",
           "orientation": "v",
           "showlegend": true,
           "textposition": "auto",
           "type": "bar",
           "x": [
            "USA"
           ],
           "xaxis": "x",
           "y": [
            16
           ],
           "yaxis": "y"
          }
         ],
         "name": "1989"
        },
        {
         "data": [
          {
           "alignmentgroup": "True",
           "hovertemplate": "country=%{x}<br>year=1990<br>counts=%{y}<extra></extra>",
           "ids": [
            "China"
           ],
           "legendgroup": "China",
           "marker": {
            "color": "#636efa",
            "pattern": {
             "shape": ""
            }
           },
           "name": "China",
           "offsetgroup": "China",
           "orientation": "v",
           "showlegend": true,
           "textposition": "auto",
           "type": "bar",
           "x": [
            "China"
           ],
           "xaxis": "x",
           "y": [
            5
           ],
           "yaxis": "y"
          },
          {
           "alignmentgroup": "True",
           "hovertemplate": "country=%{x}<br>year=1990<br>counts=%{y}<extra></extra>",
           "ids": [
            "France"
           ],
           "legendgroup": "France",
           "marker": {
            "color": "#EF553B",
            "pattern": {
             "shape": ""
            }
           },
           "name": "France",
           "offsetgroup": "France",
           "orientation": "v",
           "showlegend": true,
           "textposition": "auto",
           "type": "bar",
           "x": [
            "France"
           ],
           "xaxis": "x",
           "y": [
            6
           ],
           "yaxis": "y"
          },
          {
           "alignmentgroup": "True",
           "hovertemplate": "country=%{x}<br>year=1990<br>counts=%{y}<extra></extra>",
           "ids": [
            "India"
           ],
           "legendgroup": "India",
           "marker": {
            "color": "#00cc96",
            "pattern": {
             "shape": ""
            }
           },
           "name": "India",
           "offsetgroup": "India",
           "orientation": "v",
           "showlegend": true,
           "textposition": "auto",
           "type": "bar",
           "x": [
            "India"
           ],
           "xaxis": "x",
           "y": [
            0
           ],
           "yaxis": "y"
          },
          {
           "alignmentgroup": "True",
           "hovertemplate": "country=%{x}<br>year=1990<br>counts=%{y}<extra></extra>",
           "ids": [
            "Japan"
           ],
           "legendgroup": "Japan",
           "marker": {
            "color": "#ab63fa",
            "pattern": {
             "shape": ""
            }
           },
           "name": "Japan",
           "offsetgroup": "Japan",
           "orientation": "v",
           "showlegend": true,
           "textposition": "auto",
           "type": "bar",
           "x": [
            "Japan"
           ],
           "xaxis": "x",
           "y": [
            5
           ],
           "yaxis": "y"
          },
          {
           "alignmentgroup": "True",
           "hovertemplate": "country=%{x}<br>year=1990<br>counts=%{y}<extra></extra>",
           "ids": [
            "Kazakhstan"
           ],
           "legendgroup": "Kazakhstan",
           "marker": {
            "color": "#FFA15A",
            "pattern": {
             "shape": ""
            }
           },
           "name": "Kazakhstan",
           "offsetgroup": "Kazakhstan",
           "orientation": "v",
           "showlegend": true,
           "textposition": "auto",
           "type": "bar",
           "x": [
            "Kazakhstan"
           ],
           "xaxis": "x",
           "y": [
            7
           ],
           "yaxis": "y"
          },
          {
           "alignmentgroup": "True",
           "hovertemplate": "country=%{x}<br>year=1990<br>counts=%{y}<extra></extra>",
           "ids": [
            "Other"
           ],
           "legendgroup": "Other",
           "marker": {
            "color": "#19d3f3",
            "pattern": {
             "shape": ""
            }
           },
           "name": "Other",
           "offsetgroup": "Other",
           "orientation": "v",
           "showlegend": true,
           "textposition": "auto",
           "type": "bar",
           "x": [
            "Other"
           ],
           "xaxis": "x",
           "y": [
            1
           ],
           "yaxis": "y"
          },
          {
           "alignmentgroup": "True",
           "hovertemplate": "country=%{x}<br>year=1990<br>counts=%{y}<extra></extra>",
           "ids": [
            "Russia"
           ],
           "legendgroup": "Russia",
           "marker": {
            "color": "#FF6692",
            "pattern": {
             "shape": ""
            }
           },
           "name": "Russia",
           "offsetgroup": "Russia",
           "orientation": "v",
           "showlegend": true,
           "textposition": "auto",
           "type": "bar",
           "x": [
            "Russia"
           ],
           "xaxis": "x",
           "y": [
            30
           ],
           "yaxis": "y"
          },
          {
           "alignmentgroup": "True",
           "hovertemplate": "country=%{x}<br>year=1990<br>counts=%{y}<extra></extra>",
           "ids": [
            "USA"
           ],
           "legendgroup": "USA",
           "marker": {
            "color": "#B6E880",
            "pattern": {
             "shape": ""
            }
           },
           "name": "USA",
           "offsetgroup": "USA",
           "orientation": "v",
           "showlegend": true,
           "textposition": "auto",
           "type": "bar",
           "x": [
            "USA"
           ],
           "xaxis": "x",
           "y": [
            26
           ],
           "yaxis": "y"
          }
         ],
         "name": "1990"
        },
        {
         "data": [
          {
           "alignmentgroup": "True",
           "hovertemplate": "country=%{x}<br>year=1991<br>counts=%{y}<extra></extra>",
           "ids": [
            "China"
           ],
           "legendgroup": "China",
           "marker": {
            "color": "#636efa",
            "pattern": {
             "shape": ""
            }
           },
           "name": "China",
           "offsetgroup": "China",
           "orientation": "v",
           "showlegend": true,
           "textposition": "auto",
           "type": "bar",
           "x": [
            "China"
           ],
           "xaxis": "x",
           "y": [
            1
           ],
           "yaxis": "y"
          },
          {
           "alignmentgroup": "True",
           "hovertemplate": "country=%{x}<br>year=1991<br>counts=%{y}<extra></extra>",
           "ids": [
            "France"
           ],
           "legendgroup": "France",
           "marker": {
            "color": "#EF553B",
            "pattern": {
             "shape": ""
            }
           },
           "name": "France",
           "offsetgroup": "France",
           "orientation": "v",
           "showlegend": true,
           "textposition": "auto",
           "type": "bar",
           "x": [
            "France"
           ],
           "xaxis": "x",
           "y": [
            8
           ],
           "yaxis": "y"
          },
          {
           "alignmentgroup": "True",
           "hovertemplate": "country=%{x}<br>year=1991<br>counts=%{y}<extra></extra>",
           "ids": [
            "India"
           ],
           "legendgroup": "India",
           "marker": {
            "color": "#00cc96",
            "pattern": {
             "shape": ""
            }
           },
           "name": "India",
           "offsetgroup": "India",
           "orientation": "v",
           "showlegend": true,
           "textposition": "auto",
           "type": "bar",
           "x": [
            "India"
           ],
           "xaxis": "x",
           "y": [
            0
           ],
           "yaxis": "y"
          },
          {
           "alignmentgroup": "True",
           "hovertemplate": "country=%{x}<br>year=1991<br>counts=%{y}<extra></extra>",
           "ids": [
            "Japan"
           ],
           "legendgroup": "Japan",
           "marker": {
            "color": "#ab63fa",
            "pattern": {
             "shape": ""
            }
           },
           "name": "Japan",
           "offsetgroup": "Japan",
           "orientation": "v",
           "showlegend": true,
           "textposition": "auto",
           "type": "bar",
           "x": [
            "Japan"
           ],
           "xaxis": "x",
           "y": [
            3
           ],
           "yaxis": "y"
          },
          {
           "alignmentgroup": "True",
           "hovertemplate": "country=%{x}<br>year=1991<br>counts=%{y}<extra></extra>",
           "ids": [
            "Kazakhstan"
           ],
           "legendgroup": "Kazakhstan",
           "marker": {
            "color": "#FFA15A",
            "pattern": {
             "shape": ""
            }
           },
           "name": "Kazakhstan",
           "offsetgroup": "Kazakhstan",
           "orientation": "v",
           "showlegend": true,
           "textposition": "auto",
           "type": "bar",
           "x": [
            "Kazakhstan"
           ],
           "xaxis": "x",
           "y": [
            4
           ],
           "yaxis": "y"
          },
          {
           "alignmentgroup": "True",
           "hovertemplate": "country=%{x}<br>year=1991<br>counts=%{y}<extra></extra>",
           "ids": [
            "Other"
           ],
           "legendgroup": "Other",
           "marker": {
            "color": "#19d3f3",
            "pattern": {
             "shape": ""
            }
           },
           "name": "Other",
           "offsetgroup": "Other",
           "orientation": "v",
           "showlegend": true,
           "textposition": "auto",
           "type": "bar",
           "x": [
            "Other"
           ],
           "xaxis": "x",
           "y": [
            0
           ],
           "yaxis": "y"
          },
          {
           "alignmentgroup": "True",
           "hovertemplate": "country=%{x}<br>year=1991<br>counts=%{y}<extra></extra>",
           "ids": [
            "Russia"
           ],
           "legendgroup": "Russia",
           "marker": {
            "color": "#FF6692",
            "pattern": {
             "shape": ""
            }
           },
           "name": "Russia",
           "offsetgroup": "Russia",
           "orientation": "v",
           "showlegend": true,
           "textposition": "auto",
           "type": "bar",
           "x": [
            "Russia"
           ],
           "xaxis": "x",
           "y": [
            25
           ],
           "yaxis": "y"
          },
          {
           "alignmentgroup": "True",
           "hovertemplate": "country=%{x}<br>year=1991<br>counts=%{y}<extra></extra>",
           "ids": [
            "USA"
           ],
           "legendgroup": "USA",
           "marker": {
            "color": "#B6E880",
            "pattern": {
             "shape": ""
            }
           },
           "name": "USA",
           "offsetgroup": "USA",
           "orientation": "v",
           "showlegend": true,
           "textposition": "auto",
           "type": "bar",
           "x": [
            "USA"
           ],
           "xaxis": "x",
           "y": [
            18
           ],
           "yaxis": "y"
          }
         ],
         "name": "1991"
        },
        {
         "data": [
          {
           "alignmentgroup": "True",
           "hovertemplate": "country=%{x}<br>year=1992<br>counts=%{y}<extra></extra>",
           "ids": [
            "China"
           ],
           "legendgroup": "China",
           "marker": {
            "color": "#636efa",
            "pattern": {
             "shape": ""
            }
           },
           "name": "China",
           "offsetgroup": "China",
           "orientation": "v",
           "showlegend": true,
           "textposition": "auto",
           "type": "bar",
           "x": [
            "China"
           ],
           "xaxis": "x",
           "y": [
            4
           ],
           "yaxis": "y"
          },
          {
           "alignmentgroup": "True",
           "hovertemplate": "country=%{x}<br>year=1992<br>counts=%{y}<extra></extra>",
           "ids": [
            "France"
           ],
           "legendgroup": "France",
           "marker": {
            "color": "#EF553B",
            "pattern": {
             "shape": ""
            }
           },
           "name": "France",
           "offsetgroup": "France",
           "orientation": "v",
           "showlegend": true,
           "textposition": "auto",
           "type": "bar",
           "x": [
            "France"
           ],
           "xaxis": "x",
           "y": [
            7
           ],
           "yaxis": "y"
          },
          {
           "alignmentgroup": "True",
           "hovertemplate": "country=%{x}<br>year=1992<br>counts=%{y}<extra></extra>",
           "ids": [
            "India"
           ],
           "legendgroup": "India",
           "marker": {
            "color": "#00cc96",
            "pattern": {
             "shape": ""
            }
           },
           "name": "India",
           "offsetgroup": "India",
           "orientation": "v",
           "showlegend": true,
           "textposition": "auto",
           "type": "bar",
           "x": [
            "India"
           ],
           "xaxis": "x",
           "y": [
            0
           ],
           "yaxis": "y"
          },
          {
           "alignmentgroup": "True",
           "hovertemplate": "country=%{x}<br>year=1992<br>counts=%{y}<extra></extra>",
           "ids": [
            "Japan"
           ],
           "legendgroup": "Japan",
           "marker": {
            "color": "#ab63fa",
            "pattern": {
             "shape": ""
            }
           },
           "name": "Japan",
           "offsetgroup": "Japan",
           "orientation": "v",
           "showlegend": true,
           "textposition": "auto",
           "type": "bar",
           "x": [
            "Japan"
           ],
           "xaxis": "x",
           "y": [
            1
           ],
           "yaxis": "y"
          },
          {
           "alignmentgroup": "True",
           "hovertemplate": "country=%{x}<br>year=1992<br>counts=%{y}<extra></extra>",
           "ids": [
            "Kazakhstan"
           ],
           "legendgroup": "Kazakhstan",
           "marker": {
            "color": "#FFA15A",
            "pattern": {
             "shape": ""
            }
           },
           "name": "Kazakhstan",
           "offsetgroup": "Kazakhstan",
           "orientation": "v",
           "showlegend": true,
           "textposition": "auto",
           "type": "bar",
           "x": [
            "Kazakhstan"
           ],
           "xaxis": "x",
           "y": [
            3
           ],
           "yaxis": "y"
          },
          {
           "alignmentgroup": "True",
           "hovertemplate": "country=%{x}<br>year=1992<br>counts=%{y}<extra></extra>",
           "ids": [
            "Other"
           ],
           "legendgroup": "Other",
           "marker": {
            "color": "#19d3f3",
            "pattern": {
             "shape": ""
            }
           },
           "name": "Other",
           "offsetgroup": "Other",
           "orientation": "v",
           "showlegend": true,
           "textposition": "auto",
           "type": "bar",
           "x": [
            "Other"
           ],
           "xaxis": "x",
           "y": [
            0
           ],
           "yaxis": "y"
          },
          {
           "alignmentgroup": "True",
           "hovertemplate": "country=%{x}<br>year=1992<br>counts=%{y}<extra></extra>",
           "ids": [
            "Russia"
           ],
           "legendgroup": "Russia",
           "marker": {
            "color": "#FF6692",
            "pattern": {
             "shape": ""
            }
           },
           "name": "Russia",
           "offsetgroup": "Russia",
           "orientation": "v",
           "showlegend": true,
           "textposition": "auto",
           "type": "bar",
           "x": [
            "Russia"
           ],
           "xaxis": "x",
           "y": [
            20
           ],
           "yaxis": "y"
          },
          {
           "alignmentgroup": "True",
           "hovertemplate": "country=%{x}<br>year=1992<br>counts=%{y}<extra></extra>",
           "ids": [
            "USA"
           ],
           "legendgroup": "USA",
           "marker": {
            "color": "#B6E880",
            "pattern": {
             "shape": ""
            }
           },
           "name": "USA",
           "offsetgroup": "USA",
           "orientation": "v",
           "showlegend": true,
           "textposition": "auto",
           "type": "bar",
           "x": [
            "USA"
           ],
           "xaxis": "x",
           "y": [
            27
           ],
           "yaxis": "y"
          }
         ],
         "name": "1992"
        },
        {
         "data": [
          {
           "alignmentgroup": "True",
           "hovertemplate": "country=%{x}<br>year=1993<br>counts=%{y}<extra></extra>",
           "ids": [
            "China"
           ],
           "legendgroup": "China",
           "marker": {
            "color": "#636efa",
            "pattern": {
             "shape": ""
            }
           },
           "name": "China",
           "offsetgroup": "China",
           "orientation": "v",
           "showlegend": true,
           "textposition": "auto",
           "type": "bar",
           "x": [
            "China"
           ],
           "xaxis": "x",
           "y": [
            1
           ],
           "yaxis": "y"
          },
          {
           "alignmentgroup": "True",
           "hovertemplate": "country=%{x}<br>year=1993<br>counts=%{y}<extra></extra>",
           "ids": [
            "France"
           ],
           "legendgroup": "France",
           "marker": {
            "color": "#EF553B",
            "pattern": {
             "shape": ""
            }
           },
           "name": "France",
           "offsetgroup": "France",
           "orientation": "v",
           "showlegend": true,
           "textposition": "auto",
           "type": "bar",
           "x": [
            "France"
           ],
           "xaxis": "x",
           "y": [
            7
           ],
           "yaxis": "y"
          },
          {
           "alignmentgroup": "True",
           "hovertemplate": "country=%{x}<br>year=1993<br>counts=%{y}<extra></extra>",
           "ids": [
            "India"
           ],
           "legendgroup": "India",
           "marker": {
            "color": "#00cc96",
            "pattern": {
             "shape": ""
            }
           },
           "name": "India",
           "offsetgroup": "India",
           "orientation": "v",
           "showlegend": true,
           "textposition": "auto",
           "type": "bar",
           "x": [
            "India"
           ],
           "xaxis": "x",
           "y": [
            1
           ],
           "yaxis": "y"
          },
          {
           "alignmentgroup": "True",
           "hovertemplate": "country=%{x}<br>year=1993<br>counts=%{y}<extra></extra>",
           "ids": [
            "Japan"
           ],
           "legendgroup": "Japan",
           "marker": {
            "color": "#ab63fa",
            "pattern": {
             "shape": ""
            }
           },
           "name": "Japan",
           "offsetgroup": "Japan",
           "orientation": "v",
           "showlegend": true,
           "textposition": "auto",
           "type": "bar",
           "x": [
            "Japan"
           ],
           "xaxis": "x",
           "y": [
            1
           ],
           "yaxis": "y"
          },
          {
           "alignmentgroup": "True",
           "hovertemplate": "country=%{x}<br>year=1993<br>counts=%{y}<extra></extra>",
           "ids": [
            "Kazakhstan"
           ],
           "legendgroup": "Kazakhstan",
           "marker": {
            "color": "#FFA15A",
            "pattern": {
             "shape": ""
            }
           },
           "name": "Kazakhstan",
           "offsetgroup": "Kazakhstan",
           "orientation": "v",
           "showlegend": true,
           "textposition": "auto",
           "type": "bar",
           "x": [
            "Kazakhstan"
           ],
           "xaxis": "x",
           "y": [
            6
           ],
           "yaxis": "y"
          },
          {
           "alignmentgroup": "True",
           "hovertemplate": "country=%{x}<br>year=1993<br>counts=%{y}<extra></extra>",
           "ids": [
            "Other"
           ],
           "legendgroup": "Other",
           "marker": {
            "color": "#19d3f3",
            "pattern": {
             "shape": ""
            }
           },
           "name": "Other",
           "offsetgroup": "Other",
           "orientation": "v",
           "showlegend": true,
           "textposition": "auto",
           "type": "bar",
           "x": [
            "Other"
           ],
           "xaxis": "x",
           "y": [
            0
           ],
           "yaxis": "y"
          },
          {
           "alignmentgroup": "True",
           "hovertemplate": "country=%{x}<br>year=1993<br>counts=%{y}<extra></extra>",
           "ids": [
            "Russia"
           ],
           "legendgroup": "Russia",
           "marker": {
            "color": "#FF6692",
            "pattern": {
             "shape": ""
            }
           },
           "name": "Russia",
           "offsetgroup": "Russia",
           "orientation": "v",
           "showlegend": true,
           "textposition": "auto",
           "type": "bar",
           "x": [
            "Russia"
           ],
           "xaxis": "x",
           "y": [
            21
           ],
           "yaxis": "y"
          },
          {
           "alignmentgroup": "True",
           "hovertemplate": "country=%{x}<br>year=1993<br>counts=%{y}<extra></extra>",
           "ids": [
            "USA"
           ],
           "legendgroup": "USA",
           "marker": {
            "color": "#B6E880",
            "pattern": {
             "shape": ""
            }
           },
           "name": "USA",
           "offsetgroup": "USA",
           "orientation": "v",
           "showlegend": true,
           "textposition": "auto",
           "type": "bar",
           "x": [
            "USA"
           ],
           "xaxis": "x",
           "y": [
            24
           ],
           "yaxis": "y"
          }
         ],
         "name": "1993"
        },
        {
         "data": [
          {
           "alignmentgroup": "True",
           "hovertemplate": "country=%{x}<br>year=1994<br>counts=%{y}<extra></extra>",
           "ids": [
            "China"
           ],
           "legendgroup": "China",
           "marker": {
            "color": "#636efa",
            "pattern": {
             "shape": ""
            }
           },
           "name": "China",
           "offsetgroup": "China",
           "orientation": "v",
           "showlegend": true,
           "textposition": "auto",
           "type": "bar",
           "x": [
            "China"
           ],
           "xaxis": "x",
           "y": [
            5
           ],
           "yaxis": "y"
          },
          {
           "alignmentgroup": "True",
           "hovertemplate": "country=%{x}<br>year=1994<br>counts=%{y}<extra></extra>",
           "ids": [
            "France"
           ],
           "legendgroup": "France",
           "marker": {
            "color": "#EF553B",
            "pattern": {
             "shape": ""
            }
           },
           "name": "France",
           "offsetgroup": "France",
           "orientation": "v",
           "showlegend": true,
           "textposition": "auto",
           "type": "bar",
           "x": [
            "France"
           ],
           "xaxis": "x",
           "y": [
            8
           ],
           "yaxis": "y"
          },
          {
           "alignmentgroup": "True",
           "hovertemplate": "country=%{x}<br>year=1994<br>counts=%{y}<extra></extra>",
           "ids": [
            "India"
           ],
           "legendgroup": "India",
           "marker": {
            "color": "#00cc96",
            "pattern": {
             "shape": ""
            }
           },
           "name": "India",
           "offsetgroup": "India",
           "orientation": "v",
           "showlegend": true,
           "textposition": "auto",
           "type": "bar",
           "x": [
            "India"
           ],
           "xaxis": "x",
           "y": [
            2
           ],
           "yaxis": "y"
          },
          {
           "alignmentgroup": "True",
           "hovertemplate": "country=%{x}<br>year=1994<br>counts=%{y}<extra></extra>",
           "ids": [
            "Japan"
           ],
           "legendgroup": "Japan",
           "marker": {
            "color": "#ab63fa",
            "pattern": {
             "shape": ""
            }
           },
           "name": "Japan",
           "offsetgroup": "Japan",
           "orientation": "v",
           "showlegend": true,
           "textposition": "auto",
           "type": "bar",
           "x": [
            "Japan"
           ],
           "xaxis": "x",
           "y": [
            2
           ],
           "yaxis": "y"
          },
          {
           "alignmentgroup": "True",
           "hovertemplate": "country=%{x}<br>year=1994<br>counts=%{y}<extra></extra>",
           "ids": [
            "Kazakhstan"
           ],
           "legendgroup": "Kazakhstan",
           "marker": {
            "color": "#FFA15A",
            "pattern": {
             "shape": ""
            }
           },
           "name": "Kazakhstan",
           "offsetgroup": "Kazakhstan",
           "orientation": "v",
           "showlegend": true,
           "textposition": "auto",
           "type": "bar",
           "x": [
            "Kazakhstan"
           ],
           "xaxis": "x",
           "y": [
            6
           ],
           "yaxis": "y"
          },
          {
           "alignmentgroup": "True",
           "hovertemplate": "country=%{x}<br>year=1994<br>counts=%{y}<extra></extra>",
           "ids": [
            "Other"
           ],
           "legendgroup": "Other",
           "marker": {
            "color": "#19d3f3",
            "pattern": {
             "shape": ""
            }
           },
           "name": "Other",
           "offsetgroup": "Other",
           "orientation": "v",
           "showlegend": true,
           "textposition": "auto",
           "type": "bar",
           "x": [
            "Other"
           ],
           "xaxis": "x",
           "y": [
            0
           ],
           "yaxis": "y"
          },
          {
           "alignmentgroup": "True",
           "hovertemplate": "country=%{x}<br>year=1994<br>counts=%{y}<extra></extra>",
           "ids": [
            "Russia"
           ],
           "legendgroup": "Russia",
           "marker": {
            "color": "#FF6692",
            "pattern": {
             "shape": ""
            }
           },
           "name": "Russia",
           "offsetgroup": "Russia",
           "orientation": "v",
           "showlegend": true,
           "textposition": "auto",
           "type": "bar",
           "x": [
            "Russia"
           ],
           "xaxis": "x",
           "y": [
            15
           ],
           "yaxis": "y"
          },
          {
           "alignmentgroup": "True",
           "hovertemplate": "country=%{x}<br>year=1994<br>counts=%{y}<extra></extra>",
           "ids": [
            "USA"
           ],
           "legendgroup": "USA",
           "marker": {
            "color": "#B6E880",
            "pattern": {
             "shape": ""
            }
           },
           "name": "USA",
           "offsetgroup": "USA",
           "orientation": "v",
           "showlegend": true,
           "textposition": "auto",
           "type": "bar",
           "x": [
            "USA"
           ],
           "xaxis": "x",
           "y": [
            26
           ],
           "yaxis": "y"
          }
         ],
         "name": "1994"
        },
        {
         "data": [
          {
           "alignmentgroup": "True",
           "hovertemplate": "country=%{x}<br>year=1995<br>counts=%{y}<extra></extra>",
           "ids": [
            "China"
           ],
           "legendgroup": "China",
           "marker": {
            "color": "#636efa",
            "pattern": {
             "shape": ""
            }
           },
           "name": "China",
           "offsetgroup": "China",
           "orientation": "v",
           "showlegend": true,
           "textposition": "auto",
           "type": "bar",
           "x": [
            "China"
           ],
           "xaxis": "x",
           "y": [
            3
           ],
           "yaxis": "y"
          },
          {
           "alignmentgroup": "True",
           "hovertemplate": "country=%{x}<br>year=1995<br>counts=%{y}<extra></extra>",
           "ids": [
            "France"
           ],
           "legendgroup": "France",
           "marker": {
            "color": "#EF553B",
            "pattern": {
             "shape": ""
            }
           },
           "name": "France",
           "offsetgroup": "France",
           "orientation": "v",
           "showlegend": true,
           "textposition": "auto",
           "type": "bar",
           "x": [
            "France"
           ],
           "xaxis": "x",
           "y": [
            11
           ],
           "yaxis": "y"
          },
          {
           "alignmentgroup": "True",
           "hovertemplate": "country=%{x}<br>year=1995<br>counts=%{y}<extra></extra>",
           "ids": [
            "India"
           ],
           "legendgroup": "India",
           "marker": {
            "color": "#00cc96",
            "pattern": {
             "shape": ""
            }
           },
           "name": "India",
           "offsetgroup": "India",
           "orientation": "v",
           "showlegend": true,
           "textposition": "auto",
           "type": "bar",
           "x": [
            "India"
           ],
           "xaxis": "x",
           "y": [
            0
           ],
           "yaxis": "y"
          },
          {
           "alignmentgroup": "True",
           "hovertemplate": "country=%{x}<br>year=1995<br>counts=%{y}<extra></extra>",
           "ids": [
            "Japan"
           ],
           "legendgroup": "Japan",
           "marker": {
            "color": "#ab63fa",
            "pattern": {
             "shape": ""
            }
           },
           "name": "Japan",
           "offsetgroup": "Japan",
           "orientation": "v",
           "showlegend": true,
           "textposition": "auto",
           "type": "bar",
           "x": [
            "Japan"
           ],
           "xaxis": "x",
           "y": [
            2
           ],
           "yaxis": "y"
          },
          {
           "alignmentgroup": "True",
           "hovertemplate": "country=%{x}<br>year=1995<br>counts=%{y}<extra></extra>",
           "ids": [
            "Kazakhstan"
           ],
           "legendgroup": "Kazakhstan",
           "marker": {
            "color": "#FFA15A",
            "pattern": {
             "shape": ""
            }
           },
           "name": "Kazakhstan",
           "offsetgroup": "Kazakhstan",
           "orientation": "v",
           "showlegend": true,
           "textposition": "auto",
           "type": "bar",
           "x": [
            "Kazakhstan"
           ],
           "xaxis": "x",
           "y": [
            4
           ],
           "yaxis": "y"
          },
          {
           "alignmentgroup": "True",
           "hovertemplate": "country=%{x}<br>year=1995<br>counts=%{y}<extra></extra>",
           "ids": [
            "Other"
           ],
           "legendgroup": "Other",
           "marker": {
            "color": "#19d3f3",
            "pattern": {
             "shape": ""
            }
           },
           "name": "Other",
           "offsetgroup": "Other",
           "orientation": "v",
           "showlegend": true,
           "textposition": "auto",
           "type": "bar",
           "x": [
            "Other"
           ],
           "xaxis": "x",
           "y": [
            1
           ],
           "yaxis": "y"
          },
          {
           "alignmentgroup": "True",
           "hovertemplate": "country=%{x}<br>year=1995<br>counts=%{y}<extra></extra>",
           "ids": [
            "Russia"
           ],
           "legendgroup": "Russia",
           "marker": {
            "color": "#FF6692",
            "pattern": {
             "shape": ""
            }
           },
           "name": "Russia",
           "offsetgroup": "Russia",
           "orientation": "v",
           "showlegend": true,
           "textposition": "auto",
           "type": "bar",
           "x": [
            "Russia"
           ],
           "xaxis": "x",
           "y": [
            10
           ],
           "yaxis": "y"
          },
          {
           "alignmentgroup": "True",
           "hovertemplate": "country=%{x}<br>year=1995<br>counts=%{y}<extra></extra>",
           "ids": [
            "USA"
           ],
           "legendgroup": "USA",
           "marker": {
            "color": "#B6E880",
            "pattern": {
             "shape": ""
            }
           },
           "name": "USA",
           "offsetgroup": "USA",
           "orientation": "v",
           "showlegend": true,
           "textposition": "auto",
           "type": "bar",
           "x": [
            "USA"
           ],
           "xaxis": "x",
           "y": [
            30
           ],
           "yaxis": "y"
          }
         ],
         "name": "1995"
        },
        {
         "data": [
          {
           "alignmentgroup": "True",
           "hovertemplate": "country=%{x}<br>year=1996<br>counts=%{y}<extra></extra>",
           "ids": [
            "China"
           ],
           "legendgroup": "China",
           "marker": {
            "color": "#636efa",
            "pattern": {
             "shape": ""
            }
           },
           "name": "China",
           "offsetgroup": "China",
           "orientation": "v",
           "showlegend": true,
           "textposition": "auto",
           "type": "bar",
           "x": [
            "China"
           ],
           "xaxis": "x",
           "y": [
            4
           ],
           "yaxis": "y"
          },
          {
           "alignmentgroup": "True",
           "hovertemplate": "country=%{x}<br>year=1996<br>counts=%{y}<extra></extra>",
           "ids": [
            "France"
           ],
           "legendgroup": "France",
           "marker": {
            "color": "#EF553B",
            "pattern": {
             "shape": ""
            }
           },
           "name": "France",
           "offsetgroup": "France",
           "orientation": "v",
           "showlegend": true,
           "textposition": "auto",
           "type": "bar",
           "x": [
            "France"
           ],
           "xaxis": "x",
           "y": [
            11
           ],
           "yaxis": "y"
          },
          {
           "alignmentgroup": "True",
           "hovertemplate": "country=%{x}<br>year=1996<br>counts=%{y}<extra></extra>",
           "ids": [
            "India"
           ],
           "legendgroup": "India",
           "marker": {
            "color": "#00cc96",
            "pattern": {
             "shape": ""
            }
           },
           "name": "India",
           "offsetgroup": "India",
           "orientation": "v",
           "showlegend": true,
           "textposition": "auto",
           "type": "bar",
           "x": [
            "India"
           ],
           "xaxis": "x",
           "y": [
            1
           ],
           "yaxis": "y"
          },
          {
           "alignmentgroup": "True",
           "hovertemplate": "country=%{x}<br>year=1996<br>counts=%{y}<extra></extra>",
           "ids": [
            "Japan"
           ],
           "legendgroup": "Japan",
           "marker": {
            "color": "#ab63fa",
            "pattern": {
             "shape": ""
            }
           },
           "name": "Japan",
           "offsetgroup": "Japan",
           "orientation": "v",
           "showlegend": true,
           "textposition": "auto",
           "type": "bar",
           "x": [
            "Japan"
           ],
           "xaxis": "x",
           "y": [
            1
           ],
           "yaxis": "y"
          },
          {
           "alignmentgroup": "True",
           "hovertemplate": "country=%{x}<br>year=1996<br>counts=%{y}<extra></extra>",
           "ids": [
            "Kazakhstan"
           ],
           "legendgroup": "Kazakhstan",
           "marker": {
            "color": "#FFA15A",
            "pattern": {
             "shape": ""
            }
           },
           "name": "Kazakhstan",
           "offsetgroup": "Kazakhstan",
           "orientation": "v",
           "showlegend": true,
           "textposition": "auto",
           "type": "bar",
           "x": [
            "Kazakhstan"
           ],
           "xaxis": "x",
           "y": [
            2
           ],
           "yaxis": "y"
          },
          {
           "alignmentgroup": "True",
           "hovertemplate": "country=%{x}<br>year=1996<br>counts=%{y}<extra></extra>",
           "ids": [
            "Other"
           ],
           "legendgroup": "Other",
           "marker": {
            "color": "#19d3f3",
            "pattern": {
             "shape": ""
            }
           },
           "name": "Other",
           "offsetgroup": "Other",
           "orientation": "v",
           "showlegend": true,
           "textposition": "auto",
           "type": "bar",
           "x": [
            "Other"
           ],
           "xaxis": "x",
           "y": [
            0
           ],
           "yaxis": "y"
          },
          {
           "alignmentgroup": "True",
           "hovertemplate": "country=%{x}<br>year=1996<br>counts=%{y}<extra></extra>",
           "ids": [
            "Russia"
           ],
           "legendgroup": "Russia",
           "marker": {
            "color": "#FF6692",
            "pattern": {
             "shape": ""
            }
           },
           "name": "Russia",
           "offsetgroup": "Russia",
           "orientation": "v",
           "showlegend": true,
           "textposition": "auto",
           "type": "bar",
           "x": [
            "Russia"
           ],
           "xaxis": "x",
           "y": [
            8
           ],
           "yaxis": "y"
          },
          {
           "alignmentgroup": "True",
           "hovertemplate": "country=%{x}<br>year=1996<br>counts=%{y}<extra></extra>",
           "ids": [
            "USA"
           ],
           "legendgroup": "USA",
           "marker": {
            "color": "#B6E880",
            "pattern": {
             "shape": ""
            }
           },
           "name": "USA",
           "offsetgroup": "USA",
           "orientation": "v",
           "showlegend": true,
           "textposition": "auto",
           "type": "bar",
           "x": [
            "USA"
           ],
           "xaxis": "x",
           "y": [
            33
           ],
           "yaxis": "y"
          }
         ],
         "name": "1996"
        },
        {
         "data": [
          {
           "alignmentgroup": "True",
           "hovertemplate": "country=%{x}<br>year=1997<br>counts=%{y}<extra></extra>",
           "ids": [
            "China"
           ],
           "legendgroup": "China",
           "marker": {
            "color": "#636efa",
            "pattern": {
             "shape": ""
            }
           },
           "name": "China",
           "offsetgroup": "China",
           "orientation": "v",
           "showlegend": true,
           "textposition": "auto",
           "type": "bar",
           "x": [
            "China"
           ],
           "xaxis": "x",
           "y": [
            6
           ],
           "yaxis": "y"
          },
          {
           "alignmentgroup": "True",
           "hovertemplate": "country=%{x}<br>year=1997<br>counts=%{y}<extra></extra>",
           "ids": [
            "France"
           ],
           "legendgroup": "France",
           "marker": {
            "color": "#EF553B",
            "pattern": {
             "shape": ""
            }
           },
           "name": "France",
           "offsetgroup": "France",
           "orientation": "v",
           "showlegend": true,
           "textposition": "auto",
           "type": "bar",
           "x": [
            "France"
           ],
           "xaxis": "x",
           "y": [
            12
           ],
           "yaxis": "y"
          },
          {
           "alignmentgroup": "True",
           "hovertemplate": "country=%{x}<br>year=1997<br>counts=%{y}<extra></extra>",
           "ids": [
            "India"
           ],
           "legendgroup": "India",
           "marker": {
            "color": "#00cc96",
            "pattern": {
             "shape": ""
            }
           },
           "name": "India",
           "offsetgroup": "India",
           "orientation": "v",
           "showlegend": true,
           "textposition": "auto",
           "type": "bar",
           "x": [
            "India"
           ],
           "xaxis": "x",
           "y": [
            1
           ],
           "yaxis": "y"
          },
          {
           "alignmentgroup": "True",
           "hovertemplate": "country=%{x}<br>year=1997<br>counts=%{y}<extra></extra>",
           "ids": [
            "Japan"
           ],
           "legendgroup": "Japan",
           "marker": {
            "color": "#ab63fa",
            "pattern": {
             "shape": ""
            }
           },
           "name": "Japan",
           "offsetgroup": "Japan",
           "orientation": "v",
           "showlegend": true,
           "textposition": "auto",
           "type": "bar",
           "x": [
            "Japan"
           ],
           "xaxis": "x",
           "y": [
            2
           ],
           "yaxis": "y"
          },
          {
           "alignmentgroup": "True",
           "hovertemplate": "country=%{x}<br>year=1997<br>counts=%{y}<extra></extra>",
           "ids": [
            "Kazakhstan"
           ],
           "legendgroup": "Kazakhstan",
           "marker": {
            "color": "#FFA15A",
            "pattern": {
             "shape": ""
            }
           },
           "name": "Kazakhstan",
           "offsetgroup": "Kazakhstan",
           "orientation": "v",
           "showlegend": true,
           "textposition": "auto",
           "type": "bar",
           "x": [
            "Kazakhstan"
           ],
           "xaxis": "x",
           "y": [
            3
           ],
           "yaxis": "y"
          },
          {
           "alignmentgroup": "True",
           "hovertemplate": "country=%{x}<br>year=1997<br>counts=%{y}<extra></extra>",
           "ids": [
            "Other"
           ],
           "legendgroup": "Other",
           "marker": {
            "color": "#19d3f3",
            "pattern": {
             "shape": ""
            }
           },
           "name": "Other",
           "offsetgroup": "Other",
           "orientation": "v",
           "showlegend": true,
           "textposition": "auto",
           "type": "bar",
           "x": [
            "Other"
           ],
           "xaxis": "x",
           "y": [
            3
           ],
           "yaxis": "y"
          },
          {
           "alignmentgroup": "True",
           "hovertemplate": "country=%{x}<br>year=1997<br>counts=%{y}<extra></extra>",
           "ids": [
            "Russia"
           ],
           "legendgroup": "Russia",
           "marker": {
            "color": "#FF6692",
            "pattern": {
             "shape": ""
            }
           },
           "name": "Russia",
           "offsetgroup": "Russia",
           "orientation": "v",
           "showlegend": true,
           "textposition": "auto",
           "type": "bar",
           "x": [
            "Russia"
           ],
           "xaxis": "x",
           "y": [
            7
           ],
           "yaxis": "y"
          },
          {
           "alignmentgroup": "True",
           "hovertemplate": "country=%{x}<br>year=1997<br>counts=%{y}<extra></extra>",
           "ids": [
            "USA"
           ],
           "legendgroup": "USA",
           "marker": {
            "color": "#B6E880",
            "pattern": {
             "shape": ""
            }
           },
           "name": "USA",
           "offsetgroup": "USA",
           "orientation": "v",
           "showlegend": true,
           "textposition": "auto",
           "type": "bar",
           "x": [
            "USA"
           ],
           "xaxis": "x",
           "y": [
            36
           ],
           "yaxis": "y"
          }
         ],
         "name": "1997"
        },
        {
         "data": [
          {
           "alignmentgroup": "True",
           "hovertemplate": "country=%{x}<br>year=1998<br>counts=%{y}<extra></extra>",
           "ids": [
            "China"
           ],
           "legendgroup": "China",
           "marker": {
            "color": "#636efa",
            "pattern": {
             "shape": ""
            }
           },
           "name": "China",
           "offsetgroup": "China",
           "orientation": "v",
           "showlegend": true,
           "textposition": "auto",
           "type": "bar",
           "x": [
            "China"
           ],
           "xaxis": "x",
           "y": [
            6
           ],
           "yaxis": "y"
          },
          {
           "alignmentgroup": "True",
           "hovertemplate": "country=%{x}<br>year=1998<br>counts=%{y}<extra></extra>",
           "ids": [
            "France"
           ],
           "legendgroup": "France",
           "marker": {
            "color": "#EF553B",
            "pattern": {
             "shape": ""
            }
           },
           "name": "France",
           "offsetgroup": "France",
           "orientation": "v",
           "showlegend": true,
           "textposition": "auto",
           "type": "bar",
           "x": [
            "France"
           ],
           "xaxis": "x",
           "y": [
            11
           ],
           "yaxis": "y"
          },
          {
           "alignmentgroup": "True",
           "hovertemplate": "country=%{x}<br>year=1998<br>counts=%{y}<extra></extra>",
           "ids": [
            "India"
           ],
           "legendgroup": "India",
           "marker": {
            "color": "#00cc96",
            "pattern": {
             "shape": ""
            }
           },
           "name": "India",
           "offsetgroup": "India",
           "orientation": "v",
           "showlegend": true,
           "textposition": "auto",
           "type": "bar",
           "x": [
            "India"
           ],
           "xaxis": "x",
           "y": [
            0
           ],
           "yaxis": "y"
          },
          {
           "alignmentgroup": "True",
           "hovertemplate": "country=%{x}<br>year=1998<br>counts=%{y}<extra></extra>",
           "ids": [
            "Japan"
           ],
           "legendgroup": "Japan",
           "marker": {
            "color": "#ab63fa",
            "pattern": {
             "shape": ""
            }
           },
           "name": "Japan",
           "offsetgroup": "Japan",
           "orientation": "v",
           "showlegend": true,
           "textposition": "auto",
           "type": "bar",
           "x": [
            "Japan"
           ],
           "xaxis": "x",
           "y": [
            2
           ],
           "yaxis": "y"
          },
          {
           "alignmentgroup": "True",
           "hovertemplate": "country=%{x}<br>year=1998<br>counts=%{y}<extra></extra>",
           "ids": [
            "Kazakhstan"
           ],
           "legendgroup": "Kazakhstan",
           "marker": {
            "color": "#FFA15A",
            "pattern": {
             "shape": ""
            }
           },
           "name": "Kazakhstan",
           "offsetgroup": "Kazakhstan",
           "orientation": "v",
           "showlegend": true,
           "textposition": "auto",
           "type": "bar",
           "x": [
            "Kazakhstan"
           ],
           "xaxis": "x",
           "y": [
            3
           ],
           "yaxis": "y"
          },
          {
           "alignmentgroup": "True",
           "hovertemplate": "country=%{x}<br>year=1998<br>counts=%{y}<extra></extra>",
           "ids": [
            "Other"
           ],
           "legendgroup": "Other",
           "marker": {
            "color": "#19d3f3",
            "pattern": {
             "shape": ""
            }
           },
           "name": "Other",
           "offsetgroup": "Other",
           "orientation": "v",
           "showlegend": true,
           "textposition": "auto",
           "type": "bar",
           "x": [
            "Other"
           ],
           "xaxis": "x",
           "y": [
            3
           ],
           "yaxis": "y"
          },
          {
           "alignmentgroup": "True",
           "hovertemplate": "country=%{x}<br>year=1998<br>counts=%{y}<extra></extra>",
           "ids": [
            "Russia"
           ],
           "legendgroup": "Russia",
           "marker": {
            "color": "#FF6692",
            "pattern": {
             "shape": ""
            }
           },
           "name": "Russia",
           "offsetgroup": "Russia",
           "orientation": "v",
           "showlegend": true,
           "textposition": "auto",
           "type": "bar",
           "x": [
            "Russia"
           ],
           "xaxis": "x",
           "y": [
            7
           ],
           "yaxis": "y"
          },
          {
           "alignmentgroup": "True",
           "hovertemplate": "country=%{x}<br>year=1998<br>counts=%{y}<extra></extra>",
           "ids": [
            "USA"
           ],
           "legendgroup": "USA",
           "marker": {
            "color": "#B6E880",
            "pattern": {
             "shape": ""
            }
           },
           "name": "USA",
           "offsetgroup": "USA",
           "orientation": "v",
           "showlegend": true,
           "textposition": "auto",
           "type": "bar",
           "x": [
            "USA"
           ],
           "xaxis": "x",
           "y": [
            36
           ],
           "yaxis": "y"
          }
         ],
         "name": "1998"
        },
        {
         "data": [
          {
           "alignmentgroup": "True",
           "hovertemplate": "country=%{x}<br>year=1999<br>counts=%{y}<extra></extra>",
           "ids": [
            "China"
           ],
           "legendgroup": "China",
           "marker": {
            "color": "#636efa",
            "pattern": {
             "shape": ""
            }
           },
           "name": "China",
           "offsetgroup": "China",
           "orientation": "v",
           "showlegend": true,
           "textposition": "auto",
           "type": "bar",
           "x": [
            "China"
           ],
           "xaxis": "x",
           "y": [
            4
           ],
           "yaxis": "y"
          },
          {
           "alignmentgroup": "True",
           "hovertemplate": "country=%{x}<br>year=1999<br>counts=%{y}<extra></extra>",
           "ids": [
            "France"
           ],
           "legendgroup": "France",
           "marker": {
            "color": "#EF553B",
            "pattern": {
             "shape": ""
            }
           },
           "name": "France",
           "offsetgroup": "France",
           "orientation": "v",
           "showlegend": true,
           "textposition": "auto",
           "type": "bar",
           "x": [
            "France"
           ],
           "xaxis": "x",
           "y": [
            10
           ],
           "yaxis": "y"
          },
          {
           "alignmentgroup": "True",
           "hovertemplate": "country=%{x}<br>year=1999<br>counts=%{y}<extra></extra>",
           "ids": [
            "India"
           ],
           "legendgroup": "India",
           "marker": {
            "color": "#00cc96",
            "pattern": {
             "shape": ""
            }
           },
           "name": "India",
           "offsetgroup": "India",
           "orientation": "v",
           "showlegend": true,
           "textposition": "auto",
           "type": "bar",
           "x": [
            "India"
           ],
           "xaxis": "x",
           "y": [
            1
           ],
           "yaxis": "y"
          },
          {
           "alignmentgroup": "True",
           "hovertemplate": "country=%{x}<br>year=1999<br>counts=%{y}<extra></extra>",
           "ids": [
            "Japan"
           ],
           "legendgroup": "Japan",
           "marker": {
            "color": "#ab63fa",
            "pattern": {
             "shape": ""
            }
           },
           "name": "Japan",
           "offsetgroup": "Japan",
           "orientation": "v",
           "showlegend": true,
           "textposition": "auto",
           "type": "bar",
           "x": [
            "Japan"
           ],
           "xaxis": "x",
           "y": [
            1
           ],
           "yaxis": "y"
          },
          {
           "alignmentgroup": "True",
           "hovertemplate": "country=%{x}<br>year=1999<br>counts=%{y}<extra></extra>",
           "ids": [
            "Kazakhstan"
           ],
           "legendgroup": "Kazakhstan",
           "marker": {
            "color": "#FFA15A",
            "pattern": {
             "shape": ""
            }
           },
           "name": "Kazakhstan",
           "offsetgroup": "Kazakhstan",
           "orientation": "v",
           "showlegend": true,
           "textposition": "auto",
           "type": "bar",
           "x": [
            "Kazakhstan"
           ],
           "xaxis": "x",
           "y": [
            3
           ],
           "yaxis": "y"
          },
          {
           "alignmentgroup": "True",
           "hovertemplate": "country=%{x}<br>year=1999<br>counts=%{y}<extra></extra>",
           "ids": [
            "Other"
           ],
           "legendgroup": "Other",
           "marker": {
            "color": "#19d3f3",
            "pattern": {
             "shape": ""
            }
           },
           "name": "Other",
           "offsetgroup": "Other",
           "orientation": "v",
           "showlegend": true,
           "textposition": "auto",
           "type": "bar",
           "x": [
            "Other"
           ],
           "xaxis": "x",
           "y": [
            3
           ],
           "yaxis": "y"
          },
          {
           "alignmentgroup": "True",
           "hovertemplate": "country=%{x}<br>year=1999<br>counts=%{y}<extra></extra>",
           "ids": [
            "Russia"
           ],
           "legendgroup": "Russia",
           "marker": {
            "color": "#FF6692",
            "pattern": {
             "shape": ""
            }
           },
           "name": "Russia",
           "offsetgroup": "Russia",
           "orientation": "v",
           "showlegend": true,
           "textposition": "auto",
           "type": "bar",
           "x": [
            "Russia"
           ],
           "xaxis": "x",
           "y": [
            4
           ],
           "yaxis": "y"
          },
          {
           "alignmentgroup": "True",
           "hovertemplate": "country=%{x}<br>year=1999<br>counts=%{y}<extra></extra>",
           "ids": [
            "USA"
           ],
           "legendgroup": "USA",
           "marker": {
            "color": "#B6E880",
            "pattern": {
             "shape": ""
            }
           },
           "name": "USA",
           "offsetgroup": "USA",
           "orientation": "v",
           "showlegend": true,
           "textposition": "auto",
           "type": "bar",
           "x": [
            "USA"
           ],
           "xaxis": "x",
           "y": [
            31
           ],
           "yaxis": "y"
          }
         ],
         "name": "1999"
        },
        {
         "data": [
          {
           "alignmentgroup": "True",
           "hovertemplate": "country=%{x}<br>year=2000<br>counts=%{y}<extra></extra>",
           "ids": [
            "China"
           ],
           "legendgroup": "China",
           "marker": {
            "color": "#636efa",
            "pattern": {
             "shape": ""
            }
           },
           "name": "China",
           "offsetgroup": "China",
           "orientation": "v",
           "showlegend": true,
           "textposition": "auto",
           "type": "bar",
           "x": [
            "China"
           ],
           "xaxis": "x",
           "y": [
            4
           ],
           "yaxis": "y"
          },
          {
           "alignmentgroup": "True",
           "hovertemplate": "country=%{x}<br>year=2000<br>counts=%{y}<extra></extra>",
           "ids": [
            "France"
           ],
           "legendgroup": "France",
           "marker": {
            "color": "#EF553B",
            "pattern": {
             "shape": ""
            }
           },
           "name": "France",
           "offsetgroup": "France",
           "orientation": "v",
           "showlegend": true,
           "textposition": "auto",
           "type": "bar",
           "x": [
            "France"
           ],
           "xaxis": "x",
           "y": [
            12
           ],
           "yaxis": "y"
          },
          {
           "alignmentgroup": "True",
           "hovertemplate": "country=%{x}<br>year=2000<br>counts=%{y}<extra></extra>",
           "ids": [
            "India"
           ],
           "legendgroup": "India",
           "marker": {
            "color": "#00cc96",
            "pattern": {
             "shape": ""
            }
           },
           "name": "India",
           "offsetgroup": "India",
           "orientation": "v",
           "showlegend": true,
           "textposition": "auto",
           "type": "bar",
           "x": [
            "India"
           ],
           "xaxis": "x",
           "y": [
            0
           ],
           "yaxis": "y"
          },
          {
           "alignmentgroup": "True",
           "hovertemplate": "country=%{x}<br>year=2000<br>counts=%{y}<extra></extra>",
           "ids": [
            "Japan"
           ],
           "legendgroup": "Japan",
           "marker": {
            "color": "#ab63fa",
            "pattern": {
             "shape": ""
            }
           },
           "name": "Japan",
           "offsetgroup": "Japan",
           "orientation": "v",
           "showlegend": true,
           "textposition": "auto",
           "type": "bar",
           "x": [
            "Japan"
           ],
           "xaxis": "x",
           "y": [
            1
           ],
           "yaxis": "y"
          },
          {
           "alignmentgroup": "True",
           "hovertemplate": "country=%{x}<br>year=2000<br>counts=%{y}<extra></extra>",
           "ids": [
            "Kazakhstan"
           ],
           "legendgroup": "Kazakhstan",
           "marker": {
            "color": "#FFA15A",
            "pattern": {
             "shape": ""
            }
           },
           "name": "Kazakhstan",
           "offsetgroup": "Kazakhstan",
           "orientation": "v",
           "showlegend": true,
           "textposition": "auto",
           "type": "bar",
           "x": [
            "Kazakhstan"
           ],
           "xaxis": "x",
           "y": [
            3
           ],
           "yaxis": "y"
          },
          {
           "alignmentgroup": "True",
           "hovertemplate": "country=%{x}<br>year=2000<br>counts=%{y}<extra></extra>",
           "ids": [
            "Other"
           ],
           "legendgroup": "Other",
           "marker": {
            "color": "#19d3f3",
            "pattern": {
             "shape": ""
            }
           },
           "name": "Other",
           "offsetgroup": "Other",
           "orientation": "v",
           "showlegend": true,
           "textposition": "auto",
           "type": "bar",
           "x": [
            "Other"
           ],
           "xaxis": "x",
           "y": [
            3
           ],
           "yaxis": "y"
          },
          {
           "alignmentgroup": "True",
           "hovertemplate": "country=%{x}<br>year=2000<br>counts=%{y}<extra></extra>",
           "ids": [
            "Russia"
           ],
           "legendgroup": "Russia",
           "marker": {
            "color": "#FF6692",
            "pattern": {
             "shape": ""
            }
           },
           "name": "Russia",
           "offsetgroup": "Russia",
           "orientation": "v",
           "showlegend": true,
           "textposition": "auto",
           "type": "bar",
           "x": [
            "Russia"
           ],
           "xaxis": "x",
           "y": [
            6
           ],
           "yaxis": "y"
          },
          {
           "alignmentgroup": "True",
           "hovertemplate": "country=%{x}<br>year=2000<br>counts=%{y}<extra></extra>",
           "ids": [
            "USA"
           ],
           "legendgroup": "USA",
           "marker": {
            "color": "#B6E880",
            "pattern": {
             "shape": ""
            }
           },
           "name": "USA",
           "offsetgroup": "USA",
           "orientation": "v",
           "showlegend": true,
           "textposition": "auto",
           "type": "bar",
           "x": [
            "USA"
           ],
           "xaxis": "x",
           "y": [
            28
           ],
           "yaxis": "y"
          }
         ],
         "name": "2000"
        },
        {
         "data": [
          {
           "alignmentgroup": "True",
           "hovertemplate": "country=%{x}<br>year=2001<br>counts=%{y}<extra></extra>",
           "ids": [
            "China"
           ],
           "legendgroup": "China",
           "marker": {
            "color": "#636efa",
            "pattern": {
             "shape": ""
            }
           },
           "name": "China",
           "offsetgroup": "China",
           "orientation": "v",
           "showlegend": true,
           "textposition": "auto",
           "type": "bar",
           "x": [
            "China"
           ],
           "xaxis": "x",
           "y": [
            1
           ],
           "yaxis": "y"
          },
          {
           "alignmentgroup": "True",
           "hovertemplate": "country=%{x}<br>year=2001<br>counts=%{y}<extra></extra>",
           "ids": [
            "France"
           ],
           "legendgroup": "France",
           "marker": {
            "color": "#EF553B",
            "pattern": {
             "shape": ""
            }
           },
           "name": "France",
           "offsetgroup": "France",
           "orientation": "v",
           "showlegend": true,
           "textposition": "auto",
           "type": "bar",
           "x": [
            "France"
           ],
           "xaxis": "x",
           "y": [
            8
           ],
           "yaxis": "y"
          },
          {
           "alignmentgroup": "True",
           "hovertemplate": "country=%{x}<br>year=2001<br>counts=%{y}<extra></extra>",
           "ids": [
            "India"
           ],
           "legendgroup": "India",
           "marker": {
            "color": "#00cc96",
            "pattern": {
             "shape": ""
            }
           },
           "name": "India",
           "offsetgroup": "India",
           "orientation": "v",
           "showlegend": true,
           "textposition": "auto",
           "type": "bar",
           "x": [
            "India"
           ],
           "xaxis": "x",
           "y": [
            2
           ],
           "yaxis": "y"
          },
          {
           "alignmentgroup": "True",
           "hovertemplate": "country=%{x}<br>year=2001<br>counts=%{y}<extra></extra>",
           "ids": [
            "Japan"
           ],
           "legendgroup": "Japan",
           "marker": {
            "color": "#ab63fa",
            "pattern": {
             "shape": ""
            }
           },
           "name": "Japan",
           "offsetgroup": "Japan",
           "orientation": "v",
           "showlegend": true,
           "textposition": "auto",
           "type": "bar",
           "x": [
            "Japan"
           ],
           "xaxis": "x",
           "y": [
            1
           ],
           "yaxis": "y"
          },
          {
           "alignmentgroup": "True",
           "hovertemplate": "country=%{x}<br>year=2001<br>counts=%{y}<extra></extra>",
           "ids": [
            "Kazakhstan"
           ],
           "legendgroup": "Kazakhstan",
           "marker": {
            "color": "#FFA15A",
            "pattern": {
             "shape": ""
            }
           },
           "name": "Kazakhstan",
           "offsetgroup": "Kazakhstan",
           "orientation": "v",
           "showlegend": true,
           "textposition": "auto",
           "type": "bar",
           "x": [
            "Kazakhstan"
           ],
           "xaxis": "x",
           "y": [
            2
           ],
           "yaxis": "y"
          },
          {
           "alignmentgroup": "True",
           "hovertemplate": "country=%{x}<br>year=2001<br>counts=%{y}<extra></extra>",
           "ids": [
            "Other"
           ],
           "legendgroup": "Other",
           "marker": {
            "color": "#19d3f3",
            "pattern": {
             "shape": ""
            }
           },
           "name": "Other",
           "offsetgroup": "Other",
           "orientation": "v",
           "showlegend": true,
           "textposition": "auto",
           "type": "bar",
           "x": [
            "Other"
           ],
           "xaxis": "x",
           "y": [
            2
           ],
           "yaxis": "y"
          },
          {
           "alignmentgroup": "True",
           "hovertemplate": "country=%{x}<br>year=2001<br>counts=%{y}<extra></extra>",
           "ids": [
            "Russia"
           ],
           "legendgroup": "Russia",
           "marker": {
            "color": "#FF6692",
            "pattern": {
             "shape": ""
            }
           },
           "name": "Russia",
           "offsetgroup": "Russia",
           "orientation": "v",
           "showlegend": true,
           "textposition": "auto",
           "type": "bar",
           "x": [
            "Russia"
           ],
           "xaxis": "x",
           "y": [
            5
           ],
           "yaxis": "y"
          },
          {
           "alignmentgroup": "True",
           "hovertemplate": "country=%{x}<br>year=2001<br>counts=%{y}<extra></extra>",
           "ids": [
            "USA"
           ],
           "legendgroup": "USA",
           "marker": {
            "color": "#B6E880",
            "pattern": {
             "shape": ""
            }
           },
           "name": "USA",
           "offsetgroup": "USA",
           "orientation": "v",
           "showlegend": true,
           "textposition": "auto",
           "type": "bar",
           "x": [
            "USA"
           ],
           "xaxis": "x",
           "y": [
            22
           ],
           "yaxis": "y"
          }
         ],
         "name": "2001"
        },
        {
         "data": [
          {
           "alignmentgroup": "True",
           "hovertemplate": "country=%{x}<br>year=2002<br>counts=%{y}<extra></extra>",
           "ids": [
            "China"
           ],
           "legendgroup": "China",
           "marker": {
            "color": "#636efa",
            "pattern": {
             "shape": ""
            }
           },
           "name": "China",
           "offsetgroup": "China",
           "orientation": "v",
           "showlegend": true,
           "textposition": "auto",
           "type": "bar",
           "x": [
            "China"
           ],
           "xaxis": "x",
           "y": [
            5
           ],
           "yaxis": "y"
          },
          {
           "alignmentgroup": "True",
           "hovertemplate": "country=%{x}<br>year=2002<br>counts=%{y}<extra></extra>",
           "ids": [
            "France"
           ],
           "legendgroup": "France",
           "marker": {
            "color": "#EF553B",
            "pattern": {
             "shape": ""
            }
           },
           "name": "France",
           "offsetgroup": "France",
           "orientation": "v",
           "showlegend": true,
           "textposition": "auto",
           "type": "bar",
           "x": [
            "France"
           ],
           "xaxis": "x",
           "y": [
            12
           ],
           "yaxis": "y"
          },
          {
           "alignmentgroup": "True",
           "hovertemplate": "country=%{x}<br>year=2002<br>counts=%{y}<extra></extra>",
           "ids": [
            "India"
           ],
           "legendgroup": "India",
           "marker": {
            "color": "#00cc96",
            "pattern": {
             "shape": ""
            }
           },
           "name": "India",
           "offsetgroup": "India",
           "orientation": "v",
           "showlegend": true,
           "textposition": "auto",
           "type": "bar",
           "x": [
            "India"
           ],
           "xaxis": "x",
           "y": [
            1
           ],
           "yaxis": "y"
          },
          {
           "alignmentgroup": "True",
           "hovertemplate": "country=%{x}<br>year=2002<br>counts=%{y}<extra></extra>",
           "ids": [
            "Japan"
           ],
           "legendgroup": "Japan",
           "marker": {
            "color": "#ab63fa",
            "pattern": {
             "shape": ""
            }
           },
           "name": "Japan",
           "offsetgroup": "Japan",
           "orientation": "v",
           "showlegend": true,
           "textposition": "auto",
           "type": "bar",
           "x": [
            "Japan"
           ],
           "xaxis": "x",
           "y": [
            3
           ],
           "yaxis": "y"
          },
          {
           "alignmentgroup": "True",
           "hovertemplate": "country=%{x}<br>year=2002<br>counts=%{y}<extra></extra>",
           "ids": [
            "Kazakhstan"
           ],
           "legendgroup": "Kazakhstan",
           "marker": {
            "color": "#FFA15A",
            "pattern": {
             "shape": ""
            }
           },
           "name": "Kazakhstan",
           "offsetgroup": "Kazakhstan",
           "orientation": "v",
           "showlegend": true,
           "textposition": "auto",
           "type": "bar",
           "x": [
            "Kazakhstan"
           ],
           "xaxis": "x",
           "y": [
            1
           ],
           "yaxis": "y"
          },
          {
           "alignmentgroup": "True",
           "hovertemplate": "country=%{x}<br>year=2002<br>counts=%{y}<extra></extra>",
           "ids": [
            "Other"
           ],
           "legendgroup": "Other",
           "marker": {
            "color": "#19d3f3",
            "pattern": {
             "shape": ""
            }
           },
           "name": "Other",
           "offsetgroup": "Other",
           "orientation": "v",
           "showlegend": true,
           "textposition": "auto",
           "type": "bar",
           "x": [
            "Other"
           ],
           "xaxis": "x",
           "y": [
            2
           ],
           "yaxis": "y"
          },
          {
           "alignmentgroup": "True",
           "hovertemplate": "country=%{x}<br>year=2002<br>counts=%{y}<extra></extra>",
           "ids": [
            "Russia"
           ],
           "legendgroup": "Russia",
           "marker": {
            "color": "#FF6692",
            "pattern": {
             "shape": ""
            }
           },
           "name": "Russia",
           "offsetgroup": "Russia",
           "orientation": "v",
           "showlegend": true,
           "textposition": "auto",
           "type": "bar",
           "x": [
            "Russia"
           ],
           "xaxis": "x",
           "y": [
            8
           ],
           "yaxis": "y"
          },
          {
           "alignmentgroup": "True",
           "hovertemplate": "country=%{x}<br>year=2002<br>counts=%{y}<extra></extra>",
           "ids": [
            "USA"
           ],
           "legendgroup": "USA",
           "marker": {
            "color": "#B6E880",
            "pattern": {
             "shape": ""
            }
           },
           "name": "USA",
           "offsetgroup": "USA",
           "orientation": "v",
           "showlegend": true,
           "textposition": "auto",
           "type": "bar",
           "x": [
            "USA"
           ],
           "xaxis": "x",
           "y": [
            17
           ],
           "yaxis": "y"
          }
         ],
         "name": "2002"
        },
        {
         "data": [
          {
           "alignmentgroup": "True",
           "hovertemplate": "country=%{x}<br>year=2003<br>counts=%{y}<extra></extra>",
           "ids": [
            "China"
           ],
           "legendgroup": "China",
           "marker": {
            "color": "#636efa",
            "pattern": {
             "shape": ""
            }
           },
           "name": "China",
           "offsetgroup": "China",
           "orientation": "v",
           "showlegend": true,
           "textposition": "auto",
           "type": "bar",
           "x": [
            "China"
           ],
           "xaxis": "x",
           "y": [
            7
           ],
           "yaxis": "y"
          },
          {
           "alignmentgroup": "True",
           "hovertemplate": "country=%{x}<br>year=2003<br>counts=%{y}<extra></extra>",
           "ids": [
            "France"
           ],
           "legendgroup": "France",
           "marker": {
            "color": "#EF553B",
            "pattern": {
             "shape": ""
            }
           },
           "name": "France",
           "offsetgroup": "France",
           "orientation": "v",
           "showlegend": true,
           "textposition": "auto",
           "type": "bar",
           "x": [
            "France"
           ],
           "xaxis": "x",
           "y": [
            4
           ],
           "yaxis": "y"
          },
          {
           "alignmentgroup": "True",
           "hovertemplate": "country=%{x}<br>year=2003<br>counts=%{y}<extra></extra>",
           "ids": [
            "India"
           ],
           "legendgroup": "India",
           "marker": {
            "color": "#00cc96",
            "pattern": {
             "shape": ""
            }
           },
           "name": "India",
           "offsetgroup": "India",
           "orientation": "v",
           "showlegend": true,
           "textposition": "auto",
           "type": "bar",
           "x": [
            "India"
           ],
           "xaxis": "x",
           "y": [
            2
           ],
           "yaxis": "y"
          },
          {
           "alignmentgroup": "True",
           "hovertemplate": "country=%{x}<br>year=2003<br>counts=%{y}<extra></extra>",
           "ids": [
            "Japan"
           ],
           "legendgroup": "Japan",
           "marker": {
            "color": "#ab63fa",
            "pattern": {
             "shape": ""
            }
           },
           "name": "Japan",
           "offsetgroup": "Japan",
           "orientation": "v",
           "showlegend": true,
           "textposition": "auto",
           "type": "bar",
           "x": [
            "Japan"
           ],
           "xaxis": "x",
           "y": [
            3
           ],
           "yaxis": "y"
          },
          {
           "alignmentgroup": "True",
           "hovertemplate": "country=%{x}<br>year=2003<br>counts=%{y}<extra></extra>",
           "ids": [
            "Kazakhstan"
           ],
           "legendgroup": "Kazakhstan",
           "marker": {
            "color": "#FFA15A",
            "pattern": {
             "shape": ""
            }
           },
           "name": "Kazakhstan",
           "offsetgroup": "Kazakhstan",
           "orientation": "v",
           "showlegend": true,
           "textposition": "auto",
           "type": "bar",
           "x": [
            "Kazakhstan"
           ],
           "xaxis": "x",
           "y": [
            2
           ],
           "yaxis": "y"
          },
          {
           "alignmentgroup": "True",
           "hovertemplate": "country=%{x}<br>year=2003<br>counts=%{y}<extra></extra>",
           "ids": [
            "Other"
           ],
           "legendgroup": "Other",
           "marker": {
            "color": "#19d3f3",
            "pattern": {
             "shape": ""
            }
           },
           "name": "Other",
           "offsetgroup": "Other",
           "orientation": "v",
           "showlegend": true,
           "textposition": "auto",
           "type": "bar",
           "x": [
            "Other"
           ],
           "xaxis": "x",
           "y": [
            4
           ],
           "yaxis": "y"
          },
          {
           "alignmentgroup": "True",
           "hovertemplate": "country=%{x}<br>year=2003<br>counts=%{y}<extra></extra>",
           "ids": [
            "Russia"
           ],
           "legendgroup": "Russia",
           "marker": {
            "color": "#FF6692",
            "pattern": {
             "shape": ""
            }
           },
           "name": "Russia",
           "offsetgroup": "Russia",
           "orientation": "v",
           "showlegend": true,
           "textposition": "auto",
           "type": "bar",
           "x": [
            "Russia"
           ],
           "xaxis": "x",
           "y": [
            7
           ],
           "yaxis": "y"
          },
          {
           "alignmentgroup": "True",
           "hovertemplate": "country=%{x}<br>year=2003<br>counts=%{y}<extra></extra>",
           "ids": [
            "USA"
           ],
           "legendgroup": "USA",
           "marker": {
            "color": "#B6E880",
            "pattern": {
             "shape": ""
            }
           },
           "name": "USA",
           "offsetgroup": "USA",
           "orientation": "v",
           "showlegend": true,
           "textposition": "auto",
           "type": "bar",
           "x": [
            "USA"
           ],
           "xaxis": "x",
           "y": [
            23
           ],
           "yaxis": "y"
          }
         ],
         "name": "2003"
        },
        {
         "data": [
          {
           "alignmentgroup": "True",
           "hovertemplate": "country=%{x}<br>year=2004<br>counts=%{y}<extra></extra>",
           "ids": [
            "China"
           ],
           "legendgroup": "China",
           "marker": {
            "color": "#636efa",
            "pattern": {
             "shape": ""
            }
           },
           "name": "China",
           "offsetgroup": "China",
           "orientation": "v",
           "showlegend": true,
           "textposition": "auto",
           "type": "bar",
           "x": [
            "China"
           ],
           "xaxis": "x",
           "y": [
            8
           ],
           "yaxis": "y"
          },
          {
           "alignmentgroup": "True",
           "hovertemplate": "country=%{x}<br>year=2004<br>counts=%{y}<extra></extra>",
           "ids": [
            "France"
           ],
           "legendgroup": "France",
           "marker": {
            "color": "#EF553B",
            "pattern": {
             "shape": ""
            }
           },
           "name": "France",
           "offsetgroup": "France",
           "orientation": "v",
           "showlegend": true,
           "textposition": "auto",
           "type": "bar",
           "x": [
            "France"
           ],
           "xaxis": "x",
           "y": [
            3
           ],
           "yaxis": "y"
          },
          {
           "alignmentgroup": "True",
           "hovertemplate": "country=%{x}<br>year=2004<br>counts=%{y}<extra></extra>",
           "ids": [
            "India"
           ],
           "legendgroup": "India",
           "marker": {
            "color": "#00cc96",
            "pattern": {
             "shape": ""
            }
           },
           "name": "India",
           "offsetgroup": "India",
           "orientation": "v",
           "showlegend": true,
           "textposition": "auto",
           "type": "bar",
           "x": [
            "India"
           ],
           "xaxis": "x",
           "y": [
            1
           ],
           "yaxis": "y"
          },
          {
           "alignmentgroup": "True",
           "hovertemplate": "country=%{x}<br>year=2004<br>counts=%{y}<extra></extra>",
           "ids": [
            "Japan"
           ],
           "legendgroup": "Japan",
           "marker": {
            "color": "#ab63fa",
            "pattern": {
             "shape": ""
            }
           },
           "name": "Japan",
           "offsetgroup": "Japan",
           "orientation": "v",
           "showlegend": true,
           "textposition": "auto",
           "type": "bar",
           "x": [
            "Japan"
           ],
           "xaxis": "x",
           "y": [
            0
           ],
           "yaxis": "y"
          },
          {
           "alignmentgroup": "True",
           "hovertemplate": "country=%{x}<br>year=2004<br>counts=%{y}<extra></extra>",
           "ids": [
            "Kazakhstan"
           ],
           "legendgroup": "Kazakhstan",
           "marker": {
            "color": "#FFA15A",
            "pattern": {
             "shape": ""
            }
           },
           "name": "Kazakhstan",
           "offsetgroup": "Kazakhstan",
           "orientation": "v",
           "showlegend": true,
           "textposition": "auto",
           "type": "bar",
           "x": [
            "Kazakhstan"
           ],
           "xaxis": "x",
           "y": [
            3
           ],
           "yaxis": "y"
          },
          {
           "alignmentgroup": "True",
           "hovertemplate": "country=%{x}<br>year=2004<br>counts=%{y}<extra></extra>",
           "ids": [
            "Other"
           ],
           "legendgroup": "Other",
           "marker": {
            "color": "#19d3f3",
            "pattern": {
             "shape": ""
            }
           },
           "name": "Other",
           "offsetgroup": "Other",
           "orientation": "v",
           "showlegend": true,
           "textposition": "auto",
           "type": "bar",
           "x": [
            "Other"
           ],
           "xaxis": "x",
           "y": [
            4
           ],
           "yaxis": "y"
          },
          {
           "alignmentgroup": "True",
           "hovertemplate": "country=%{x}<br>year=2004<br>counts=%{y}<extra></extra>",
           "ids": [
            "Russia"
           ],
           "legendgroup": "Russia",
           "marker": {
            "color": "#FF6692",
            "pattern": {
             "shape": ""
            }
           },
           "name": "Russia",
           "offsetgroup": "Russia",
           "orientation": "v",
           "showlegend": true,
           "textposition": "auto",
           "type": "bar",
           "x": [
            "Russia"
           ],
           "xaxis": "x",
           "y": [
            5
           ],
           "yaxis": "y"
          },
          {
           "alignmentgroup": "True",
           "hovertemplate": "country=%{x}<br>year=2004<br>counts=%{y}<extra></extra>",
           "ids": [
            "USA"
           ],
           "legendgroup": "USA",
           "marker": {
            "color": "#B6E880",
            "pattern": {
             "shape": ""
            }
           },
           "name": "USA",
           "offsetgroup": "USA",
           "orientation": "v",
           "showlegend": true,
           "textposition": "auto",
           "type": "bar",
           "x": [
            "USA"
           ],
           "xaxis": "x",
           "y": [
            16
           ],
           "yaxis": "y"
          }
         ],
         "name": "2004"
        },
        {
         "data": [
          {
           "alignmentgroup": "True",
           "hovertemplate": "country=%{x}<br>year=2005<br>counts=%{y}<extra></extra>",
           "ids": [
            "China"
           ],
           "legendgroup": "China",
           "marker": {
            "color": "#636efa",
            "pattern": {
             "shape": ""
            }
           },
           "name": "China",
           "offsetgroup": "China",
           "orientation": "v",
           "showlegend": true,
           "textposition": "auto",
           "type": "bar",
           "x": [
            "China"
           ],
           "xaxis": "x",
           "y": [
            5
           ],
           "yaxis": "y"
          },
          {
           "alignmentgroup": "True",
           "hovertemplate": "country=%{x}<br>year=2005<br>counts=%{y}<extra></extra>",
           "ids": [
            "France"
           ],
           "legendgroup": "France",
           "marker": {
            "color": "#EF553B",
            "pattern": {
             "shape": ""
            }
           },
           "name": "France",
           "offsetgroup": "France",
           "orientation": "v",
           "showlegend": true,
           "textposition": "auto",
           "type": "bar",
           "x": [
            "France"
           ],
           "xaxis": "x",
           "y": [
            5
           ],
           "yaxis": "y"
          },
          {
           "alignmentgroup": "True",
           "hovertemplate": "country=%{x}<br>year=2005<br>counts=%{y}<extra></extra>",
           "ids": [
            "India"
           ],
           "legendgroup": "India",
           "marker": {
            "color": "#00cc96",
            "pattern": {
             "shape": ""
            }
           },
           "name": "India",
           "offsetgroup": "India",
           "orientation": "v",
           "showlegend": true,
           "textposition": "auto",
           "type": "bar",
           "x": [
            "India"
           ],
           "xaxis": "x",
           "y": [
            1
           ],
           "yaxis": "y"
          },
          {
           "alignmentgroup": "True",
           "hovertemplate": "country=%{x}<br>year=2005<br>counts=%{y}<extra></extra>",
           "ids": [
            "Japan"
           ],
           "legendgroup": "Japan",
           "marker": {
            "color": "#ab63fa",
            "pattern": {
             "shape": ""
            }
           },
           "name": "Japan",
           "offsetgroup": "Japan",
           "orientation": "v",
           "showlegend": true,
           "textposition": "auto",
           "type": "bar",
           "x": [
            "Japan"
           ],
           "xaxis": "x",
           "y": [
            2
           ],
           "yaxis": "y"
          },
          {
           "alignmentgroup": "True",
           "hovertemplate": "country=%{x}<br>year=2005<br>counts=%{y}<extra></extra>",
           "ids": [
            "Kazakhstan"
           ],
           "legendgroup": "Kazakhstan",
           "marker": {
            "color": "#FFA15A",
            "pattern": {
             "shape": ""
            }
           },
           "name": "Kazakhstan",
           "offsetgroup": "Kazakhstan",
           "orientation": "v",
           "showlegend": true,
           "textposition": "auto",
           "type": "bar",
           "x": [
            "Kazakhstan"
           ],
           "xaxis": "x",
           "y": [
            1
           ],
           "yaxis": "y"
          },
          {
           "alignmentgroup": "True",
           "hovertemplate": "country=%{x}<br>year=2005<br>counts=%{y}<extra></extra>",
           "ids": [
            "Other"
           ],
           "legendgroup": "Other",
           "marker": {
            "color": "#19d3f3",
            "pattern": {
             "shape": ""
            }
           },
           "name": "Other",
           "offsetgroup": "Other",
           "orientation": "v",
           "showlegend": true,
           "textposition": "auto",
           "type": "bar",
           "x": [
            "Other"
           ],
           "xaxis": "x",
           "y": [
            5
           ],
           "yaxis": "y"
          },
          {
           "alignmentgroup": "True",
           "hovertemplate": "country=%{x}<br>year=2005<br>counts=%{y}<extra></extra>",
           "ids": [
            "Russia"
           ],
           "legendgroup": "Russia",
           "marker": {
            "color": "#FF6692",
            "pattern": {
             "shape": ""
            }
           },
           "name": "Russia",
           "offsetgroup": "Russia",
           "orientation": "v",
           "showlegend": true,
           "textposition": "auto",
           "type": "bar",
           "x": [
            "Russia"
           ],
           "xaxis": "x",
           "y": [
            6
           ],
           "yaxis": "y"
          },
          {
           "alignmentgroup": "True",
           "hovertemplate": "country=%{x}<br>year=2005<br>counts=%{y}<extra></extra>",
           "ids": [
            "USA"
           ],
           "legendgroup": "USA",
           "marker": {
            "color": "#B6E880",
            "pattern": {
             "shape": ""
            }
           },
           "name": "USA",
           "offsetgroup": "USA",
           "orientation": "v",
           "showlegend": true,
           "textposition": "auto",
           "type": "bar",
           "x": [
            "USA"
           ],
           "xaxis": "x",
           "y": [
            12
           ],
           "yaxis": "y"
          }
         ],
         "name": "2005"
        },
        {
         "data": [
          {
           "alignmentgroup": "True",
           "hovertemplate": "country=%{x}<br>year=2006<br>counts=%{y}<extra></extra>",
           "ids": [
            "China"
           ],
           "legendgroup": "China",
           "marker": {
            "color": "#636efa",
            "pattern": {
             "shape": ""
            }
           },
           "name": "China",
           "offsetgroup": "China",
           "orientation": "v",
           "showlegend": true,
           "textposition": "auto",
           "type": "bar",
           "x": [
            "China"
           ],
           "xaxis": "x",
           "y": [
            6
           ],
           "yaxis": "y"
          },
          {
           "alignmentgroup": "True",
           "hovertemplate": "country=%{x}<br>year=2006<br>counts=%{y}<extra></extra>",
           "ids": [
            "France"
           ],
           "legendgroup": "France",
           "marker": {
            "color": "#EF553B",
            "pattern": {
             "shape": ""
            }
           },
           "name": "France",
           "offsetgroup": "France",
           "orientation": "v",
           "showlegend": true,
           "textposition": "auto",
           "type": "bar",
           "x": [
            "France"
           ],
           "xaxis": "x",
           "y": [
            5
           ],
           "yaxis": "y"
          },
          {
           "alignmentgroup": "True",
           "hovertemplate": "country=%{x}<br>year=2006<br>counts=%{y}<extra></extra>",
           "ids": [
            "India"
           ],
           "legendgroup": "India",
           "marker": {
            "color": "#00cc96",
            "pattern": {
             "shape": ""
            }
           },
           "name": "India",
           "offsetgroup": "India",
           "orientation": "v",
           "showlegend": true,
           "textposition": "auto",
           "type": "bar",
           "x": [
            "India"
           ],
           "xaxis": "x",
           "y": [
            1
           ],
           "yaxis": "y"
          },
          {
           "alignmentgroup": "True",
           "hovertemplate": "country=%{x}<br>year=2006<br>counts=%{y}<extra></extra>",
           "ids": [
            "Japan"
           ],
           "legendgroup": "Japan",
           "marker": {
            "color": "#ab63fa",
            "pattern": {
             "shape": ""
            }
           },
           "name": "Japan",
           "offsetgroup": "Japan",
           "orientation": "v",
           "showlegend": true,
           "textposition": "auto",
           "type": "bar",
           "x": [
            "Japan"
           ],
           "xaxis": "x",
           "y": [
            6
           ],
           "yaxis": "y"
          },
          {
           "alignmentgroup": "True",
           "hovertemplate": "country=%{x}<br>year=2006<br>counts=%{y}<extra></extra>",
           "ids": [
            "Kazakhstan"
           ],
           "legendgroup": "Kazakhstan",
           "marker": {
            "color": "#FFA15A",
            "pattern": {
             "shape": ""
            }
           },
           "name": "Kazakhstan",
           "offsetgroup": "Kazakhstan",
           "orientation": "v",
           "showlegend": true,
           "textposition": "auto",
           "type": "bar",
           "x": [
            "Kazakhstan"
           ],
           "xaxis": "x",
           "y": [
            2
           ],
           "yaxis": "y"
          },
          {
           "alignmentgroup": "True",
           "hovertemplate": "country=%{x}<br>year=2006<br>counts=%{y}<extra></extra>",
           "ids": [
            "Other"
           ],
           "legendgroup": "Other",
           "marker": {
            "color": "#19d3f3",
            "pattern": {
             "shape": ""
            }
           },
           "name": "Other",
           "offsetgroup": "Other",
           "orientation": "v",
           "showlegend": true,
           "textposition": "auto",
           "type": "bar",
           "x": [
            "Other"
           ],
           "xaxis": "x",
           "y": [
            6
           ],
           "yaxis": "y"
          },
          {
           "alignmentgroup": "True",
           "hovertemplate": "country=%{x}<br>year=2006<br>counts=%{y}<extra></extra>",
           "ids": [
            "Russia"
           ],
           "legendgroup": "Russia",
           "marker": {
            "color": "#FF6692",
            "pattern": {
             "shape": ""
            }
           },
           "name": "Russia",
           "offsetgroup": "Russia",
           "orientation": "v",
           "showlegend": true,
           "textposition": "auto",
           "type": "bar",
           "x": [
            "Russia"
           ],
           "xaxis": "x",
           "y": [
            5
           ],
           "yaxis": "y"
          },
          {
           "alignmentgroup": "True",
           "hovertemplate": "country=%{x}<br>year=2006<br>counts=%{y}<extra></extra>",
           "ids": [
            "USA"
           ],
           "legendgroup": "USA",
           "marker": {
            "color": "#B6E880",
            "pattern": {
             "shape": ""
            }
           },
           "name": "USA",
           "offsetgroup": "USA",
           "orientation": "v",
           "showlegend": true,
           "textposition": "auto",
           "type": "bar",
           "x": [
            "USA"
           ],
           "xaxis": "x",
           "y": [
            18
           ],
           "yaxis": "y"
          }
         ],
         "name": "2006"
        },
        {
         "data": [
          {
           "alignmentgroup": "True",
           "hovertemplate": "country=%{x}<br>year=2007<br>counts=%{y}<extra></extra>",
           "ids": [
            "China"
           ],
           "legendgroup": "China",
           "marker": {
            "color": "#636efa",
            "pattern": {
             "shape": ""
            }
           },
           "name": "China",
           "offsetgroup": "China",
           "orientation": "v",
           "showlegend": true,
           "textposition": "auto",
           "type": "bar",
           "x": [
            "China"
           ],
           "xaxis": "x",
           "y": [
            10
           ],
           "yaxis": "y"
          },
          {
           "alignmentgroup": "True",
           "hovertemplate": "country=%{x}<br>year=2007<br>counts=%{y}<extra></extra>",
           "ids": [
            "France"
           ],
           "legendgroup": "France",
           "marker": {
            "color": "#EF553B",
            "pattern": {
             "shape": ""
            }
           },
           "name": "France",
           "offsetgroup": "France",
           "orientation": "v",
           "showlegend": true,
           "textposition": "auto",
           "type": "bar",
           "x": [
            "France"
           ],
           "xaxis": "x",
           "y": [
            6
           ],
           "yaxis": "y"
          },
          {
           "alignmentgroup": "True",
           "hovertemplate": "country=%{x}<br>year=2007<br>counts=%{y}<extra></extra>",
           "ids": [
            "India"
           ],
           "legendgroup": "India",
           "marker": {
            "color": "#00cc96",
            "pattern": {
             "shape": ""
            }
           },
           "name": "India",
           "offsetgroup": "India",
           "orientation": "v",
           "showlegend": true,
           "textposition": "auto",
           "type": "bar",
           "x": [
            "India"
           ],
           "xaxis": "x",
           "y": [
            3
           ],
           "yaxis": "y"
          },
          {
           "alignmentgroup": "True",
           "hovertemplate": "country=%{x}<br>year=2007<br>counts=%{y}<extra></extra>",
           "ids": [
            "Japan"
           ],
           "legendgroup": "Japan",
           "marker": {
            "color": "#ab63fa",
            "pattern": {
             "shape": ""
            }
           },
           "name": "Japan",
           "offsetgroup": "Japan",
           "orientation": "v",
           "showlegend": true,
           "textposition": "auto",
           "type": "bar",
           "x": [
            "Japan"
           ],
           "xaxis": "x",
           "y": [
            2
           ],
           "yaxis": "y"
          },
          {
           "alignmentgroup": "True",
           "hovertemplate": "country=%{x}<br>year=2007<br>counts=%{y}<extra></extra>",
           "ids": [
            "Kazakhstan"
           ],
           "legendgroup": "Kazakhstan",
           "marker": {
            "color": "#FFA15A",
            "pattern": {
             "shape": ""
            }
           },
           "name": "Kazakhstan",
           "offsetgroup": "Kazakhstan",
           "orientation": "v",
           "showlegend": true,
           "textposition": "auto",
           "type": "bar",
           "x": [
            "Kazakhstan"
           ],
           "xaxis": "x",
           "y": [
            3
           ],
           "yaxis": "y"
          },
          {
           "alignmentgroup": "True",
           "hovertemplate": "country=%{x}<br>year=2007<br>counts=%{y}<extra></extra>",
           "ids": [
            "Other"
           ],
           "legendgroup": "Other",
           "marker": {
            "color": "#19d3f3",
            "pattern": {
             "shape": ""
            }
           },
           "name": "Other",
           "offsetgroup": "Other",
           "orientation": "v",
           "showlegend": true,
           "textposition": "auto",
           "type": "bar",
           "x": [
            "Other"
           ],
           "xaxis": "x",
           "y": [
            2
           ],
           "yaxis": "y"
          },
          {
           "alignmentgroup": "True",
           "hovertemplate": "country=%{x}<br>year=2007<br>counts=%{y}<extra></extra>",
           "ids": [
            "Russia"
           ],
           "legendgroup": "Russia",
           "marker": {
            "color": "#FF6692",
            "pattern": {
             "shape": ""
            }
           },
           "name": "Russia",
           "offsetgroup": "Russia",
           "orientation": "v",
           "showlegend": true,
           "textposition": "auto",
           "type": "bar",
           "x": [
            "Russia"
           ],
           "xaxis": "x",
           "y": [
            5
           ],
           "yaxis": "y"
          },
          {
           "alignmentgroup": "True",
           "hovertemplate": "country=%{x}<br>year=2007<br>counts=%{y}<extra></extra>",
           "ids": [
            "USA"
           ],
           "legendgroup": "USA",
           "marker": {
            "color": "#B6E880",
            "pattern": {
             "shape": ""
            }
           },
           "name": "USA",
           "offsetgroup": "USA",
           "orientation": "v",
           "showlegend": true,
           "textposition": "auto",
           "type": "bar",
           "x": [
            "USA"
           ],
           "xaxis": "x",
           "y": [
            19
           ],
           "yaxis": "y"
          }
         ],
         "name": "2007"
        },
        {
         "data": [
          {
           "alignmentgroup": "True",
           "hovertemplate": "country=%{x}<br>year=2008<br>counts=%{y}<extra></extra>",
           "ids": [
            "China"
           ],
           "legendgroup": "China",
           "marker": {
            "color": "#636efa",
            "pattern": {
             "shape": ""
            }
           },
           "name": "China",
           "offsetgroup": "China",
           "orientation": "v",
           "showlegend": true,
           "textposition": "auto",
           "type": "bar",
           "x": [
            "China"
           ],
           "xaxis": "x",
           "y": [
            9
           ],
           "yaxis": "y"
          },
          {
           "alignmentgroup": "True",
           "hovertemplate": "country=%{x}<br>year=2008<br>counts=%{y}<extra></extra>",
           "ids": [
            "France"
           ],
           "legendgroup": "France",
           "marker": {
            "color": "#EF553B",
            "pattern": {
             "shape": ""
            }
           },
           "name": "France",
           "offsetgroup": "France",
           "orientation": "v",
           "showlegend": true,
           "textposition": "auto",
           "type": "bar",
           "x": [
            "France"
           ],
           "xaxis": "x",
           "y": [
            6
           ],
           "yaxis": "y"
          },
          {
           "alignmentgroup": "True",
           "hovertemplate": "country=%{x}<br>year=2008<br>counts=%{y}<extra></extra>",
           "ids": [
            "India"
           ],
           "legendgroup": "India",
           "marker": {
            "color": "#00cc96",
            "pattern": {
             "shape": ""
            }
           },
           "name": "India",
           "offsetgroup": "India",
           "orientation": "v",
           "showlegend": true,
           "textposition": "auto",
           "type": "bar",
           "x": [
            "India"
           ],
           "xaxis": "x",
           "y": [
            3
           ],
           "yaxis": "y"
          },
          {
           "alignmentgroup": "True",
           "hovertemplate": "country=%{x}<br>year=2008<br>counts=%{y}<extra></extra>",
           "ids": [
            "Japan"
           ],
           "legendgroup": "Japan",
           "marker": {
            "color": "#ab63fa",
            "pattern": {
             "shape": ""
            }
           },
           "name": "Japan",
           "offsetgroup": "Japan",
           "orientation": "v",
           "showlegend": true,
           "textposition": "auto",
           "type": "bar",
           "x": [
            "Japan"
           ],
           "xaxis": "x",
           "y": [
            1
           ],
           "yaxis": "y"
          },
          {
           "alignmentgroup": "True",
           "hovertemplate": "country=%{x}<br>year=2008<br>counts=%{y}<extra></extra>",
           "ids": [
            "Kazakhstan"
           ],
           "legendgroup": "Kazakhstan",
           "marker": {
            "color": "#FFA15A",
            "pattern": {
             "shape": ""
            }
           },
           "name": "Kazakhstan",
           "offsetgroup": "Kazakhstan",
           "orientation": "v",
           "showlegend": true,
           "textposition": "auto",
           "type": "bar",
           "x": [
            "Kazakhstan"
           ],
           "xaxis": "x",
           "y": [
            2
           ],
           "yaxis": "y"
          },
          {
           "alignmentgroup": "True",
           "hovertemplate": "country=%{x}<br>year=2008<br>counts=%{y}<extra></extra>",
           "ids": [
            "Other"
           ],
           "legendgroup": "Other",
           "marker": {
            "color": "#19d3f3",
            "pattern": {
             "shape": ""
            }
           },
           "name": "Other",
           "offsetgroup": "Other",
           "orientation": "v",
           "showlegend": true,
           "textposition": "auto",
           "type": "bar",
           "x": [
            "Other"
           ],
           "xaxis": "x",
           "y": [
            6
           ],
           "yaxis": "y"
          },
          {
           "alignmentgroup": "True",
           "hovertemplate": "country=%{x}<br>year=2008<br>counts=%{y}<extra></extra>",
           "ids": [
            "Russia"
           ],
           "legendgroup": "Russia",
           "marker": {
            "color": "#FF6692",
            "pattern": {
             "shape": ""
            }
           },
           "name": "Russia",
           "offsetgroup": "Russia",
           "orientation": "v",
           "showlegend": true,
           "textposition": "auto",
           "type": "bar",
           "x": [
            "Russia"
           ],
           "xaxis": "x",
           "y": [
            6
           ],
           "yaxis": "y"
          },
          {
           "alignmentgroup": "True",
           "hovertemplate": "country=%{x}<br>year=2008<br>counts=%{y}<extra></extra>",
           "ids": [
            "USA"
           ],
           "legendgroup": "USA",
           "marker": {
            "color": "#B6E880",
            "pattern": {
             "shape": ""
            }
           },
           "name": "USA",
           "offsetgroup": "USA",
           "orientation": "v",
           "showlegend": true,
           "textposition": "auto",
           "type": "bar",
           "x": [
            "USA"
           ],
           "xaxis": "x",
           "y": [
            15
           ],
           "yaxis": "y"
          }
         ],
         "name": "2008"
        },
        {
         "data": [
          {
           "alignmentgroup": "True",
           "hovertemplate": "country=%{x}<br>year=2009<br>counts=%{y}<extra></extra>",
           "ids": [
            "China"
           ],
           "legendgroup": "China",
           "marker": {
            "color": "#636efa",
            "pattern": {
             "shape": ""
            }
           },
           "name": "China",
           "offsetgroup": "China",
           "orientation": "v",
           "showlegend": true,
           "textposition": "auto",
           "type": "bar",
           "x": [
            "China"
           ],
           "xaxis": "x",
           "y": [
            0
           ],
           "yaxis": "y"
          },
          {
           "alignmentgroup": "True",
           "hovertemplate": "country=%{x}<br>year=2009<br>counts=%{y}<extra></extra>",
           "ids": [
            "France"
           ],
           "legendgroup": "France",
           "marker": {
            "color": "#EF553B",
            "pattern": {
             "shape": ""
            }
           },
           "name": "France",
           "offsetgroup": "France",
           "orientation": "v",
           "showlegend": true,
           "textposition": "auto",
           "type": "bar",
           "x": [
            "France"
           ],
           "xaxis": "x",
           "y": [
            7
           ],
           "yaxis": "y"
          },
          {
           "alignmentgroup": "True",
           "hovertemplate": "country=%{x}<br>year=2009<br>counts=%{y}<extra></extra>",
           "ids": [
            "India"
           ],
           "legendgroup": "India",
           "marker": {
            "color": "#00cc96",
            "pattern": {
             "shape": ""
            }
           },
           "name": "India",
           "offsetgroup": "India",
           "orientation": "v",
           "showlegend": true,
           "textposition": "auto",
           "type": "bar",
           "x": [
            "India"
           ],
           "xaxis": "x",
           "y": [
            2
           ],
           "yaxis": "y"
          },
          {
           "alignmentgroup": "True",
           "hovertemplate": "country=%{x}<br>year=2009<br>counts=%{y}<extra></extra>",
           "ids": [
            "Japan"
           ],
           "legendgroup": "Japan",
           "marker": {
            "color": "#ab63fa",
            "pattern": {
             "shape": ""
            }
           },
           "name": "Japan",
           "offsetgroup": "Japan",
           "orientation": "v",
           "showlegend": true,
           "textposition": "auto",
           "type": "bar",
           "x": [
            "Japan"
           ],
           "xaxis": "x",
           "y": [
            3
           ],
           "yaxis": "y"
          },
          {
           "alignmentgroup": "True",
           "hovertemplate": "country=%{x}<br>year=2009<br>counts=%{y}<extra></extra>",
           "ids": [
            "Kazakhstan"
           ],
           "legendgroup": "Kazakhstan",
           "marker": {
            "color": "#FFA15A",
            "pattern": {
             "shape": ""
            }
           },
           "name": "Kazakhstan",
           "offsetgroup": "Kazakhstan",
           "orientation": "v",
           "showlegend": true,
           "textposition": "auto",
           "type": "bar",
           "x": [
            "Kazakhstan"
           ],
           "xaxis": "x",
           "y": [
            4
           ],
           "yaxis": "y"
          },
          {
           "alignmentgroup": "True",
           "hovertemplate": "country=%{x}<br>year=2009<br>counts=%{y}<extra></extra>",
           "ids": [
            "Other"
           ],
           "legendgroup": "Other",
           "marker": {
            "color": "#19d3f3",
            "pattern": {
             "shape": ""
            }
           },
           "name": "Other",
           "offsetgroup": "Other",
           "orientation": "v",
           "showlegend": true,
           "textposition": "auto",
           "type": "bar",
           "x": [
            "Other"
           ],
           "xaxis": "x",
           "y": [
            4
           ],
           "yaxis": "y"
          },
          {
           "alignmentgroup": "True",
           "hovertemplate": "country=%{x}<br>year=2009<br>counts=%{y}<extra></extra>",
           "ids": [
            "Russia"
           ],
           "legendgroup": "Russia",
           "marker": {
            "color": "#FF6692",
            "pattern": {
             "shape": ""
            }
           },
           "name": "Russia",
           "offsetgroup": "Russia",
           "orientation": "v",
           "showlegend": true,
           "textposition": "auto",
           "type": "bar",
           "x": [
            "Russia"
           ],
           "xaxis": "x",
           "y": [
            5
           ],
           "yaxis": "y"
          },
          {
           "alignmentgroup": "True",
           "hovertemplate": "country=%{x}<br>year=2009<br>counts=%{y}<extra></extra>",
           "ids": [
            "USA"
           ],
           "legendgroup": "USA",
           "marker": {
            "color": "#B6E880",
            "pattern": {
             "shape": ""
            }
           },
           "name": "USA",
           "offsetgroup": "USA",
           "orientation": "v",
           "showlegend": true,
           "textposition": "auto",
           "type": "bar",
           "x": [
            "USA"
           ],
           "xaxis": "x",
           "y": [
            25
           ],
           "yaxis": "y"
          }
         ],
         "name": "2009"
        },
        {
         "data": [
          {
           "alignmentgroup": "True",
           "hovertemplate": "country=%{x}<br>year=2010<br>counts=%{y}<extra></extra>",
           "ids": [
            "China"
           ],
           "legendgroup": "China",
           "marker": {
            "color": "#636efa",
            "pattern": {
             "shape": ""
            }
           },
           "name": "China",
           "offsetgroup": "China",
           "orientation": "v",
           "showlegend": true,
           "textposition": "auto",
           "type": "bar",
           "x": [
            "China"
           ],
           "xaxis": "x",
           "y": [
            0
           ],
           "yaxis": "y"
          },
          {
           "alignmentgroup": "True",
           "hovertemplate": "country=%{x}<br>year=2010<br>counts=%{y}<extra></extra>",
           "ids": [
            "France"
           ],
           "legendgroup": "France",
           "marker": {
            "color": "#EF553B",
            "pattern": {
             "shape": ""
            }
           },
           "name": "France",
           "offsetgroup": "France",
           "orientation": "v",
           "showlegend": true,
           "textposition": "auto",
           "type": "bar",
           "x": [
            "France"
           ],
           "xaxis": "x",
           "y": [
            6
           ],
           "yaxis": "y"
          },
          {
           "alignmentgroup": "True",
           "hovertemplate": "country=%{x}<br>year=2010<br>counts=%{y}<extra></extra>",
           "ids": [
            "India"
           ],
           "legendgroup": "India",
           "marker": {
            "color": "#00cc96",
            "pattern": {
             "shape": ""
            }
           },
           "name": "India",
           "offsetgroup": "India",
           "orientation": "v",
           "showlegend": true,
           "textposition": "auto",
           "type": "bar",
           "x": [
            "India"
           ],
           "xaxis": "x",
           "y": [
            3
           ],
           "yaxis": "y"
          },
          {
           "alignmentgroup": "True",
           "hovertemplate": "country=%{x}<br>year=2010<br>counts=%{y}<extra></extra>",
           "ids": [
            "Japan"
           ],
           "legendgroup": "Japan",
           "marker": {
            "color": "#ab63fa",
            "pattern": {
             "shape": ""
            }
           },
           "name": "Japan",
           "offsetgroup": "Japan",
           "orientation": "v",
           "showlegend": true,
           "textposition": "auto",
           "type": "bar",
           "x": [
            "Japan"
           ],
           "xaxis": "x",
           "y": [
            1
           ],
           "yaxis": "y"
          },
          {
           "alignmentgroup": "True",
           "hovertemplate": "country=%{x}<br>year=2010<br>counts=%{y}<extra></extra>",
           "ids": [
            "Kazakhstan"
           ],
           "legendgroup": "Kazakhstan",
           "marker": {
            "color": "#FFA15A",
            "pattern": {
             "shape": ""
            }
           },
           "name": "Kazakhstan",
           "offsetgroup": "Kazakhstan",
           "orientation": "v",
           "showlegend": true,
           "textposition": "auto",
           "type": "bar",
           "x": [
            "Kazakhstan"
           ],
           "xaxis": "x",
           "y": [
            5
           ],
           "yaxis": "y"
          },
          {
           "alignmentgroup": "True",
           "hovertemplate": "country=%{x}<br>year=2010<br>counts=%{y}<extra></extra>",
           "ids": [
            "Other"
           ],
           "legendgroup": "Other",
           "marker": {
            "color": "#19d3f3",
            "pattern": {
             "shape": ""
            }
           },
           "name": "Other",
           "offsetgroup": "Other",
           "orientation": "v",
           "showlegend": true,
           "textposition": "auto",
           "type": "bar",
           "x": [
            "Other"
           ],
           "xaxis": "x",
           "y": [
            2
           ],
           "yaxis": "y"
          },
          {
           "alignmentgroup": "True",
           "hovertemplate": "country=%{x}<br>year=2010<br>counts=%{y}<extra></extra>",
           "ids": [
            "Russia"
           ],
           "legendgroup": "Russia",
           "marker": {
            "color": "#FF6692",
            "pattern": {
             "shape": ""
            }
           },
           "name": "Russia",
           "offsetgroup": "Russia",
           "orientation": "v",
           "showlegend": true,
           "textposition": "auto",
           "type": "bar",
           "x": [
            "Russia"
           ],
           "xaxis": "x",
           "y": [
            5
           ],
           "yaxis": "y"
          },
          {
           "alignmentgroup": "True",
           "hovertemplate": "country=%{x}<br>year=2010<br>counts=%{y}<extra></extra>",
           "ids": [
            "USA"
           ],
           "legendgroup": "USA",
           "marker": {
            "color": "#B6E880",
            "pattern": {
             "shape": ""
            }
           },
           "name": "USA",
           "offsetgroup": "USA",
           "orientation": "v",
           "showlegend": true,
           "textposition": "auto",
           "type": "bar",
           "x": [
            "USA"
           ],
           "xaxis": "x",
           "y": [
            15
           ],
           "yaxis": "y"
          }
         ],
         "name": "2010"
        },
        {
         "data": [
          {
           "alignmentgroup": "True",
           "hovertemplate": "country=%{x}<br>year=2011<br>counts=%{y}<extra></extra>",
           "ids": [
            "China"
           ],
           "legendgroup": "China",
           "marker": {
            "color": "#636efa",
            "pattern": {
             "shape": ""
            }
           },
           "name": "China",
           "offsetgroup": "China",
           "orientation": "v",
           "showlegend": true,
           "textposition": "auto",
           "type": "bar",
           "x": [
            "China"
           ],
           "xaxis": "x",
           "y": [
            2
           ],
           "yaxis": "y"
          },
          {
           "alignmentgroup": "True",
           "hovertemplate": "country=%{x}<br>year=2011<br>counts=%{y}<extra></extra>",
           "ids": [
            "France"
           ],
           "legendgroup": "France",
           "marker": {
            "color": "#EF553B",
            "pattern": {
             "shape": ""
            }
           },
           "name": "France",
           "offsetgroup": "France",
           "orientation": "v",
           "showlegend": true,
           "textposition": "auto",
           "type": "bar",
           "x": [
            "France"
           ],
           "xaxis": "x",
           "y": [
            7
           ],
           "yaxis": "y"
          },
          {
           "alignmentgroup": "True",
           "hovertemplate": "country=%{x}<br>year=2011<br>counts=%{y}<extra></extra>",
           "ids": [
            "India"
           ],
           "legendgroup": "India",
           "marker": {
            "color": "#00cc96",
            "pattern": {
             "shape": ""
            }
           },
           "name": "India",
           "offsetgroup": "India",
           "orientation": "v",
           "showlegend": true,
           "textposition": "auto",
           "type": "bar",
           "x": [
            "India"
           ],
           "xaxis": "x",
           "y": [
            3
           ],
           "yaxis": "y"
          },
          {
           "alignmentgroup": "True",
           "hovertemplate": "country=%{x}<br>year=2011<br>counts=%{y}<extra></extra>",
           "ids": [
            "Japan"
           ],
           "legendgroup": "Japan",
           "marker": {
            "color": "#ab63fa",
            "pattern": {
             "shape": ""
            }
           },
           "name": "Japan",
           "offsetgroup": "Japan",
           "orientation": "v",
           "showlegend": true,
           "textposition": "auto",
           "type": "bar",
           "x": [
            "Japan"
           ],
           "xaxis": "x",
           "y": [
            4
           ],
           "yaxis": "y"
          },
          {
           "alignmentgroup": "True",
           "hovertemplate": "country=%{x}<br>year=2011<br>counts=%{y}<extra></extra>",
           "ids": [
            "Kazakhstan"
           ],
           "legendgroup": "Kazakhstan",
           "marker": {
            "color": "#FFA15A",
            "pattern": {
             "shape": ""
            }
           },
           "name": "Kazakhstan",
           "offsetgroup": "Kazakhstan",
           "orientation": "v",
           "showlegend": true,
           "textposition": "auto",
           "type": "bar",
           "x": [
            "Kazakhstan"
           ],
           "xaxis": "x",
           "y": [
            4
           ],
           "yaxis": "y"
          },
          {
           "alignmentgroup": "True",
           "hovertemplate": "country=%{x}<br>year=2011<br>counts=%{y}<extra></extra>",
           "ids": [
            "Other"
           ],
           "legendgroup": "Other",
           "marker": {
            "color": "#19d3f3",
            "pattern": {
             "shape": ""
            }
           },
           "name": "Other",
           "offsetgroup": "Other",
           "orientation": "v",
           "showlegend": true,
           "textposition": "auto",
           "type": "bar",
           "x": [
            "Other"
           ],
           "xaxis": "x",
           "y": [
            2
           ],
           "yaxis": "y"
          },
          {
           "alignmentgroup": "True",
           "hovertemplate": "country=%{x}<br>year=2011<br>counts=%{y}<extra></extra>",
           "ids": [
            "Russia"
           ],
           "legendgroup": "Russia",
           "marker": {
            "color": "#FF6692",
            "pattern": {
             "shape": ""
            }
           },
           "name": "Russia",
           "offsetgroup": "Russia",
           "orientation": "v",
           "showlegend": true,
           "textposition": "auto",
           "type": "bar",
           "x": [
            "Russia"
           ],
           "xaxis": "x",
           "y": [
            2
           ],
           "yaxis": "y"
          },
          {
           "alignmentgroup": "True",
           "hovertemplate": "country=%{x}<br>year=2011<br>counts=%{y}<extra></extra>",
           "ids": [
            "USA"
           ],
           "legendgroup": "USA",
           "marker": {
            "color": "#B6E880",
            "pattern": {
             "shape": ""
            }
           },
           "name": "USA",
           "offsetgroup": "USA",
           "orientation": "v",
           "showlegend": true,
           "textposition": "auto",
           "type": "bar",
           "x": [
            "USA"
           ],
           "xaxis": "x",
           "y": [
            18
           ],
           "yaxis": "y"
          }
         ],
         "name": "2011"
        },
        {
         "data": [
          {
           "alignmentgroup": "True",
           "hovertemplate": "country=%{x}<br>year=2012<br>counts=%{y}<extra></extra>",
           "ids": [
            "China"
           ],
           "legendgroup": "China",
           "marker": {
            "color": "#636efa",
            "pattern": {
             "shape": ""
            }
           },
           "name": "China",
           "offsetgroup": "China",
           "orientation": "v",
           "showlegend": true,
           "textposition": "auto",
           "type": "bar",
           "x": [
            "China"
           ],
           "xaxis": "x",
           "y": [
            1
           ],
           "yaxis": "y"
          },
          {
           "alignmentgroup": "True",
           "hovertemplate": "country=%{x}<br>year=2012<br>counts=%{y}<extra></extra>",
           "ids": [
            "France"
           ],
           "legendgroup": "France",
           "marker": {
            "color": "#EF553B",
            "pattern": {
             "shape": ""
            }
           },
           "name": "France",
           "offsetgroup": "France",
           "orientation": "v",
           "showlegend": true,
           "textposition": "auto",
           "type": "bar",
           "x": [
            "France"
           ],
           "xaxis": "x",
           "y": [
            10
           ],
           "yaxis": "y"
          },
          {
           "alignmentgroup": "True",
           "hovertemplate": "country=%{x}<br>year=2012<br>counts=%{y}<extra></extra>",
           "ids": [
            "India"
           ],
           "legendgroup": "India",
           "marker": {
            "color": "#00cc96",
            "pattern": {
             "shape": ""
            }
           },
           "name": "India",
           "offsetgroup": "India",
           "orientation": "v",
           "showlegend": true,
           "textposition": "auto",
           "type": "bar",
           "x": [
            "India"
           ],
           "xaxis": "x",
           "y": [
            3
           ],
           "yaxis": "y"
          },
          {
           "alignmentgroup": "True",
           "hovertemplate": "country=%{x}<br>year=2012<br>counts=%{y}<extra></extra>",
           "ids": [
            "Japan"
           ],
           "legendgroup": "Japan",
           "marker": {
            "color": "#ab63fa",
            "pattern": {
             "shape": ""
            }
           },
           "name": "Japan",
           "offsetgroup": "Japan",
           "orientation": "v",
           "showlegend": true,
           "textposition": "auto",
           "type": "bar",
           "x": [
            "Japan"
           ],
           "xaxis": "x",
           "y": [
            2
           ],
           "yaxis": "y"
          },
          {
           "alignmentgroup": "True",
           "hovertemplate": "country=%{x}<br>year=2012<br>counts=%{y}<extra></extra>",
           "ids": [
            "Kazakhstan"
           ],
           "legendgroup": "Kazakhstan",
           "marker": {
            "color": "#FFA15A",
            "pattern": {
             "shape": ""
            }
           },
           "name": "Kazakhstan",
           "offsetgroup": "Kazakhstan",
           "orientation": "v",
           "showlegend": true,
           "textposition": "auto",
           "type": "bar",
           "x": [
            "Kazakhstan"
           ],
           "xaxis": "x",
           "y": [
            0
           ],
           "yaxis": "y"
          },
          {
           "alignmentgroup": "True",
           "hovertemplate": "country=%{x}<br>year=2012<br>counts=%{y}<extra></extra>",
           "ids": [
            "Other"
           ],
           "legendgroup": "Other",
           "marker": {
            "color": "#19d3f3",
            "pattern": {
             "shape": ""
            }
           },
           "name": "Other",
           "offsetgroup": "Other",
           "orientation": "v",
           "showlegend": true,
           "textposition": "auto",
           "type": "bar",
           "x": [
            "Other"
           ],
           "xaxis": "x",
           "y": [
            8
           ],
           "yaxis": "y"
          },
          {
           "alignmentgroup": "True",
           "hovertemplate": "country=%{x}<br>year=2012<br>counts=%{y}<extra></extra>",
           "ids": [
            "Russia"
           ],
           "legendgroup": "Russia",
           "marker": {
            "color": "#FF6692",
            "pattern": {
             "shape": ""
            }
           },
           "name": "Russia",
           "offsetgroup": "Russia",
           "orientation": "v",
           "showlegend": true,
           "textposition": "auto",
           "type": "bar",
           "x": [
            "Russia"
           ],
           "xaxis": "x",
           "y": [
            1
           ],
           "yaxis": "y"
          },
          {
           "alignmentgroup": "True",
           "hovertemplate": "country=%{x}<br>year=2012<br>counts=%{y}<extra></extra>",
           "ids": [
            "USA"
           ],
           "legendgroup": "USA",
           "marker": {
            "color": "#B6E880",
            "pattern": {
             "shape": ""
            }
           },
           "name": "USA",
           "offsetgroup": "USA",
           "orientation": "v",
           "showlegend": true,
           "textposition": "auto",
           "type": "bar",
           "x": [
            "USA"
           ],
           "xaxis": "x",
           "y": [
            13
           ],
           "yaxis": "y"
          }
         ],
         "name": "2012"
        },
        {
         "data": [
          {
           "alignmentgroup": "True",
           "hovertemplate": "country=%{x}<br>year=2013<br>counts=%{y}<extra></extra>",
           "ids": [
            "China"
           ],
           "legendgroup": "China",
           "marker": {
            "color": "#636efa",
            "pattern": {
             "shape": ""
            }
           },
           "name": "China",
           "offsetgroup": "China",
           "orientation": "v",
           "showlegend": true,
           "textposition": "auto",
           "type": "bar",
           "x": [
            "China"
           ],
           "xaxis": "x",
           "y": [
            2
           ],
           "yaxis": "y"
          },
          {
           "alignmentgroup": "True",
           "hovertemplate": "country=%{x}<br>year=2013<br>counts=%{y}<extra></extra>",
           "ids": [
            "France"
           ],
           "legendgroup": "France",
           "marker": {
            "color": "#EF553B",
            "pattern": {
             "shape": ""
            }
           },
           "name": "France",
           "offsetgroup": "France",
           "orientation": "v",
           "showlegend": true,
           "textposition": "auto",
           "type": "bar",
           "x": [
            "France"
           ],
           "xaxis": "x",
           "y": [
            7
           ],
           "yaxis": "y"
          },
          {
           "alignmentgroup": "True",
           "hovertemplate": "country=%{x}<br>year=2013<br>counts=%{y}<extra></extra>",
           "ids": [
            "India"
           ],
           "legendgroup": "India",
           "marker": {
            "color": "#00cc96",
            "pattern": {
             "shape": ""
            }
           },
           "name": "India",
           "offsetgroup": "India",
           "orientation": "v",
           "showlegend": true,
           "textposition": "auto",
           "type": "bar",
           "x": [
            "India"
           ],
           "xaxis": "x",
           "y": [
            3
           ],
           "yaxis": "y"
          },
          {
           "alignmentgroup": "True",
           "hovertemplate": "country=%{x}<br>year=2013<br>counts=%{y}<extra></extra>",
           "ids": [
            "Japan"
           ],
           "legendgroup": "Japan",
           "marker": {
            "color": "#ab63fa",
            "pattern": {
             "shape": ""
            }
           },
           "name": "Japan",
           "offsetgroup": "Japan",
           "orientation": "v",
           "showlegend": true,
           "textposition": "auto",
           "type": "bar",
           "x": [
            "Japan"
           ],
           "xaxis": "x",
           "y": [
            3
           ],
           "yaxis": "y"
          },
          {
           "alignmentgroup": "True",
           "hovertemplate": "country=%{x}<br>year=2013<br>counts=%{y}<extra></extra>",
           "ids": [
            "Kazakhstan"
           ],
           "legendgroup": "Kazakhstan",
           "marker": {
            "color": "#FFA15A",
            "pattern": {
             "shape": ""
            }
           },
           "name": "Kazakhstan",
           "offsetgroup": "Kazakhstan",
           "orientation": "v",
           "showlegend": true,
           "textposition": "auto",
           "type": "bar",
           "x": [
            "Kazakhstan"
           ],
           "xaxis": "x",
           "y": [
            3
           ],
           "yaxis": "y"
          },
          {
           "alignmentgroup": "True",
           "hovertemplate": "country=%{x}<br>year=2013<br>counts=%{y}<extra></extra>",
           "ids": [
            "Other"
           ],
           "legendgroup": "Other",
           "marker": {
            "color": "#19d3f3",
            "pattern": {
             "shape": ""
            }
           },
           "name": "Other",
           "offsetgroup": "Other",
           "orientation": "v",
           "showlegend": true,
           "textposition": "auto",
           "type": "bar",
           "x": [
            "Other"
           ],
           "xaxis": "x",
           "y": [
            2
           ],
           "yaxis": "y"
          },
          {
           "alignmentgroup": "True",
           "hovertemplate": "country=%{x}<br>year=2013<br>counts=%{y}<extra></extra>",
           "ids": [
            "Russia"
           ],
           "legendgroup": "Russia",
           "marker": {
            "color": "#FF6692",
            "pattern": {
             "shape": ""
            }
           },
           "name": "Russia",
           "offsetgroup": "Russia",
           "orientation": "v",
           "showlegend": true,
           "textposition": "auto",
           "type": "bar",
           "x": [
            "Russia"
           ],
           "xaxis": "x",
           "y": [
            7
           ],
           "yaxis": "y"
          },
          {
           "alignmentgroup": "True",
           "hovertemplate": "country=%{x}<br>year=2013<br>counts=%{y}<extra></extra>",
           "ids": [
            "USA"
           ],
           "legendgroup": "USA",
           "marker": {
            "color": "#B6E880",
            "pattern": {
             "shape": ""
            }
           },
           "name": "USA",
           "offsetgroup": "USA",
           "orientation": "v",
           "showlegend": true,
           "textposition": "auto",
           "type": "bar",
           "x": [
            "USA"
           ],
           "xaxis": "x",
           "y": [
            19
           ],
           "yaxis": "y"
          }
         ],
         "name": "2013"
        },
        {
         "data": [
          {
           "alignmentgroup": "True",
           "hovertemplate": "country=%{x}<br>year=2014<br>counts=%{y}<extra></extra>",
           "ids": [
            "China"
           ],
           "legendgroup": "China",
           "marker": {
            "color": "#636efa",
            "pattern": {
             "shape": ""
            }
           },
           "name": "China",
           "offsetgroup": "China",
           "orientation": "v",
           "showlegend": true,
           "textposition": "auto",
           "type": "bar",
           "x": [
            "China"
           ],
           "xaxis": "x",
           "y": [
            1
           ],
           "yaxis": "y"
          },
          {
           "alignmentgroup": "True",
           "hovertemplate": "country=%{x}<br>year=2014<br>counts=%{y}<extra></extra>",
           "ids": [
            "France"
           ],
           "legendgroup": "France",
           "marker": {
            "color": "#EF553B",
            "pattern": {
             "shape": ""
            }
           },
           "name": "France",
           "offsetgroup": "France",
           "orientation": "v",
           "showlegend": true,
           "textposition": "auto",
           "type": "bar",
           "x": [
            "France"
           ],
           "xaxis": "x",
           "y": [
            11
           ],
           "yaxis": "y"
          },
          {
           "alignmentgroup": "True",
           "hovertemplate": "country=%{x}<br>year=2014<br>counts=%{y}<extra></extra>",
           "ids": [
            "India"
           ],
           "legendgroup": "India",
           "marker": {
            "color": "#00cc96",
            "pattern": {
             "shape": ""
            }
           },
           "name": "India",
           "offsetgroup": "India",
           "orientation": "v",
           "showlegend": true,
           "textposition": "auto",
           "type": "bar",
           "x": [
            "India"
           ],
           "xaxis": "x",
           "y": [
            5
           ],
           "yaxis": "y"
          },
          {
           "alignmentgroup": "True",
           "hovertemplate": "country=%{x}<br>year=2014<br>counts=%{y}<extra></extra>",
           "ids": [
            "Japan"
           ],
           "legendgroup": "Japan",
           "marker": {
            "color": "#ab63fa",
            "pattern": {
             "shape": ""
            }
           },
           "name": "Japan",
           "offsetgroup": "Japan",
           "orientation": "v",
           "showlegend": true,
           "textposition": "auto",
           "type": "bar",
           "x": [
            "Japan"
           ],
           "xaxis": "x",
           "y": [
            4
           ],
           "yaxis": "y"
          },
          {
           "alignmentgroup": "True",
           "hovertemplate": "country=%{x}<br>year=2014<br>counts=%{y}<extra></extra>",
           "ids": [
            "Kazakhstan"
           ],
           "legendgroup": "Kazakhstan",
           "marker": {
            "color": "#FFA15A",
            "pattern": {
             "shape": ""
            }
           },
           "name": "Kazakhstan",
           "offsetgroup": "Kazakhstan",
           "orientation": "v",
           "showlegend": true,
           "textposition": "auto",
           "type": "bar",
           "x": [
            "Kazakhstan"
           ],
           "xaxis": "x",
           "y": [
            1
           ],
           "yaxis": "y"
          },
          {
           "alignmentgroup": "True",
           "hovertemplate": "country=%{x}<br>year=2014<br>counts=%{y}<extra></extra>",
           "ids": [
            "Other"
           ],
           "legendgroup": "Other",
           "marker": {
            "color": "#19d3f3",
            "pattern": {
             "shape": ""
            }
           },
           "name": "Other",
           "offsetgroup": "Other",
           "orientation": "v",
           "showlegend": true,
           "textposition": "auto",
           "type": "bar",
           "x": [
            "Other"
           ],
           "xaxis": "x",
           "y": [
            2
           ],
           "yaxis": "y"
          },
          {
           "alignmentgroup": "True",
           "hovertemplate": "country=%{x}<br>year=2014<br>counts=%{y}<extra></extra>",
           "ids": [
            "Russia"
           ],
           "legendgroup": "Russia",
           "marker": {
            "color": "#FF6692",
            "pattern": {
             "shape": ""
            }
           },
           "name": "Russia",
           "offsetgroup": "Russia",
           "orientation": "v",
           "showlegend": true,
           "textposition": "auto",
           "type": "bar",
           "x": [
            "Russia"
           ],
           "xaxis": "x",
           "y": [
            6
           ],
           "yaxis": "y"
          },
          {
           "alignmentgroup": "True",
           "hovertemplate": "country=%{x}<br>year=2014<br>counts=%{y}<extra></extra>",
           "ids": [
            "USA"
           ],
           "legendgroup": "USA",
           "marker": {
            "color": "#B6E880",
            "pattern": {
             "shape": ""
            }
           },
           "name": "USA",
           "offsetgroup": "USA",
           "orientation": "v",
           "showlegend": true,
           "textposition": "auto",
           "type": "bar",
           "x": [
            "USA"
           ],
           "xaxis": "x",
           "y": [
            23
           ],
           "yaxis": "y"
          }
         ],
         "name": "2014"
        },
        {
         "data": [
          {
           "alignmentgroup": "True",
           "hovertemplate": "country=%{x}<br>year=2015<br>counts=%{y}<extra></extra>",
           "ids": [
            "China"
           ],
           "legendgroup": "China",
           "marker": {
            "color": "#636efa",
            "pattern": {
             "shape": ""
            }
           },
           "name": "China",
           "offsetgroup": "China",
           "orientation": "v",
           "showlegend": true,
           "textposition": "auto",
           "type": "bar",
           "x": [
            "China"
           ],
           "xaxis": "x",
           "y": [
            2
           ],
           "yaxis": "y"
          },
          {
           "alignmentgroup": "True",
           "hovertemplate": "country=%{x}<br>year=2015<br>counts=%{y}<extra></extra>",
           "ids": [
            "France"
           ],
           "legendgroup": "France",
           "marker": {
            "color": "#EF553B",
            "pattern": {
             "shape": ""
            }
           },
           "name": "France",
           "offsetgroup": "France",
           "orientation": "v",
           "showlegend": true,
           "textposition": "auto",
           "type": "bar",
           "x": [
            "France"
           ],
           "xaxis": "x",
           "y": [
            12
           ],
           "yaxis": "y"
          },
          {
           "alignmentgroup": "True",
           "hovertemplate": "country=%{x}<br>year=2015<br>counts=%{y}<extra></extra>",
           "ids": [
            "India"
           ],
           "legendgroup": "India",
           "marker": {
            "color": "#00cc96",
            "pattern": {
             "shape": ""
            }
           },
           "name": "India",
           "offsetgroup": "India",
           "orientation": "v",
           "showlegend": true,
           "textposition": "auto",
           "type": "bar",
           "x": [
            "India"
           ],
           "xaxis": "x",
           "y": [
            5
           ],
           "yaxis": "y"
          },
          {
           "alignmentgroup": "True",
           "hovertemplate": "country=%{x}<br>year=2015<br>counts=%{y}<extra></extra>",
           "ids": [
            "Japan"
           ],
           "legendgroup": "Japan",
           "marker": {
            "color": "#ab63fa",
            "pattern": {
             "shape": ""
            }
           },
           "name": "Japan",
           "offsetgroup": "Japan",
           "orientation": "v",
           "showlegend": true,
           "textposition": "auto",
           "type": "bar",
           "x": [
            "Japan"
           ],
           "xaxis": "x",
           "y": [
            4
           ],
           "yaxis": "y"
          },
          {
           "alignmentgroup": "True",
           "hovertemplate": "country=%{x}<br>year=2015<br>counts=%{y}<extra></extra>",
           "ids": [
            "Kazakhstan"
           ],
           "legendgroup": "Kazakhstan",
           "marker": {
            "color": "#FFA15A",
            "pattern": {
             "shape": ""
            }
           },
           "name": "Kazakhstan",
           "offsetgroup": "Kazakhstan",
           "orientation": "v",
           "showlegend": true,
           "textposition": "auto",
           "type": "bar",
           "x": [
            "Kazakhstan"
           ],
           "xaxis": "x",
           "y": [
            1
           ],
           "yaxis": "y"
          },
          {
           "alignmentgroup": "True",
           "hovertemplate": "country=%{x}<br>year=2015<br>counts=%{y}<extra></extra>",
           "ids": [
            "Other"
           ],
           "legendgroup": "Other",
           "marker": {
            "color": "#19d3f3",
            "pattern": {
             "shape": ""
            }
           },
           "name": "Other",
           "offsetgroup": "Other",
           "orientation": "v",
           "showlegend": true,
           "textposition": "auto",
           "type": "bar",
           "x": [
            "Other"
           ],
           "xaxis": "x",
           "y": [
            3
           ],
           "yaxis": "y"
          },
          {
           "alignmentgroup": "True",
           "hovertemplate": "country=%{x}<br>year=2015<br>counts=%{y}<extra></extra>",
           "ids": [
            "Russia"
           ],
           "legendgroup": "Russia",
           "marker": {
            "color": "#FF6692",
            "pattern": {
             "shape": ""
            }
           },
           "name": "Russia",
           "offsetgroup": "Russia",
           "orientation": "v",
           "showlegend": true,
           "textposition": "auto",
           "type": "bar",
           "x": [
            "Russia"
           ],
           "xaxis": "x",
           "y": [
            4
           ],
           "yaxis": "y"
          },
          {
           "alignmentgroup": "True",
           "hovertemplate": "country=%{x}<br>year=2015<br>counts=%{y}<extra></extra>",
           "ids": [
            "USA"
           ],
           "legendgroup": "USA",
           "marker": {
            "color": "#B6E880",
            "pattern": {
             "shape": ""
            }
           },
           "name": "USA",
           "offsetgroup": "USA",
           "orientation": "v",
           "showlegend": true,
           "textposition": "auto",
           "type": "bar",
           "x": [
            "USA"
           ],
           "xaxis": "x",
           "y": [
            21
           ],
           "yaxis": "y"
          }
         ],
         "name": "2015"
        },
        {
         "data": [
          {
           "alignmentgroup": "True",
           "hovertemplate": "country=%{x}<br>year=2016<br>counts=%{y}<extra></extra>",
           "ids": [
            "China"
           ],
           "legendgroup": "China",
           "marker": {
            "color": "#636efa",
            "pattern": {
             "shape": ""
            }
           },
           "name": "China",
           "offsetgroup": "China",
           "orientation": "v",
           "showlegend": true,
           "textposition": "auto",
           "type": "bar",
           "x": [
            "China"
           ],
           "xaxis": "x",
           "y": [
            22
           ],
           "yaxis": "y"
          },
          {
           "alignmentgroup": "True",
           "hovertemplate": "country=%{x}<br>year=2016<br>counts=%{y}<extra></extra>",
           "ids": [
            "France"
           ],
           "legendgroup": "France",
           "marker": {
            "color": "#EF553B",
            "pattern": {
             "shape": ""
            }
           },
           "name": "France",
           "offsetgroup": "France",
           "orientation": "v",
           "showlegend": true,
           "textposition": "auto",
           "type": "bar",
           "x": [
            "France"
           ],
           "xaxis": "x",
           "y": [
            11
           ],
           "yaxis": "y"
          },
          {
           "alignmentgroup": "True",
           "hovertemplate": "country=%{x}<br>year=2016<br>counts=%{y}<extra></extra>",
           "ids": [
            "India"
           ],
           "legendgroup": "India",
           "marker": {
            "color": "#00cc96",
            "pattern": {
             "shape": ""
            }
           },
           "name": "India",
           "offsetgroup": "India",
           "orientation": "v",
           "showlegend": true,
           "textposition": "auto",
           "type": "bar",
           "x": [
            "India"
           ],
           "xaxis": "x",
           "y": [
            7
           ],
           "yaxis": "y"
          },
          {
           "alignmentgroup": "True",
           "hovertemplate": "country=%{x}<br>year=2016<br>counts=%{y}<extra></extra>",
           "ids": [
            "Japan"
           ],
           "legendgroup": "Japan",
           "marker": {
            "color": "#ab63fa",
            "pattern": {
             "shape": ""
            }
           },
           "name": "Japan",
           "offsetgroup": "Japan",
           "orientation": "v",
           "showlegend": true,
           "textposition": "auto",
           "type": "bar",
           "x": [
            "Japan"
           ],
           "xaxis": "x",
           "y": [
            4
           ],
           "yaxis": "y"
          },
          {
           "alignmentgroup": "True",
           "hovertemplate": "country=%{x}<br>year=2016<br>counts=%{y}<extra></extra>",
           "ids": [
            "Kazakhstan"
           ],
           "legendgroup": "Kazakhstan",
           "marker": {
            "color": "#FFA15A",
            "pattern": {
             "shape": ""
            }
           },
           "name": "Kazakhstan",
           "offsetgroup": "Kazakhstan",
           "orientation": "v",
           "showlegend": true,
           "textposition": "auto",
           "type": "bar",
           "x": [
            "Kazakhstan"
           ],
           "xaxis": "x",
           "y": [
            11
           ],
           "yaxis": "y"
          },
          {
           "alignmentgroup": "True",
           "hovertemplate": "country=%{x}<br>year=2016<br>counts=%{y}<extra></extra>",
           "ids": [
            "Other"
           ],
           "legendgroup": "Other",
           "marker": {
            "color": "#19d3f3",
            "pattern": {
             "shape": ""
            }
           },
           "name": "Other",
           "offsetgroup": "Other",
           "orientation": "v",
           "showlegend": true,
           "textposition": "auto",
           "type": "bar",
           "x": [
            "Other"
           ],
           "xaxis": "x",
           "y": [
            2
           ],
           "yaxis": "y"
          },
          {
           "alignmentgroup": "True",
           "hovertemplate": "country=%{x}<br>year=2016<br>counts=%{y}<extra></extra>",
           "ids": [
            "Russia"
           ],
           "legendgroup": "Russia",
           "marker": {
            "color": "#FF6692",
            "pattern": {
             "shape": ""
            }
           },
           "name": "Russia",
           "offsetgroup": "Russia",
           "orientation": "v",
           "showlegend": true,
           "textposition": "auto",
           "type": "bar",
           "x": [
            "Russia"
           ],
           "xaxis": "x",
           "y": [
            6
           ],
           "yaxis": "y"
          },
          {
           "alignmentgroup": "True",
           "hovertemplate": "country=%{x}<br>year=2016<br>counts=%{y}<extra></extra>",
           "ids": [
            "USA"
           ],
           "legendgroup": "USA",
           "marker": {
            "color": "#B6E880",
            "pattern": {
             "shape": ""
            }
           },
           "name": "USA",
           "offsetgroup": "USA",
           "orientation": "v",
           "showlegend": true,
           "textposition": "auto",
           "type": "bar",
           "x": [
            "USA"
           ],
           "xaxis": "x",
           "y": [
            27
           ],
           "yaxis": "y"
          }
         ],
         "name": "2016"
        },
        {
         "data": [
          {
           "alignmentgroup": "True",
           "hovertemplate": "country=%{x}<br>year=2017<br>counts=%{y}<extra></extra>",
           "ids": [
            "China"
           ],
           "legendgroup": "China",
           "marker": {
            "color": "#636efa",
            "pattern": {
             "shape": ""
            }
           },
           "name": "China",
           "offsetgroup": "China",
           "orientation": "v",
           "showlegend": true,
           "textposition": "auto",
           "type": "bar",
           "x": [
            "China"
           ],
           "xaxis": "x",
           "y": [
            18
           ],
           "yaxis": "y"
          },
          {
           "alignmentgroup": "True",
           "hovertemplate": "country=%{x}<br>year=2017<br>counts=%{y}<extra></extra>",
           "ids": [
            "France"
           ],
           "legendgroup": "France",
           "marker": {
            "color": "#EF553B",
            "pattern": {
             "shape": ""
            }
           },
           "name": "France",
           "offsetgroup": "France",
           "orientation": "v",
           "showlegend": true,
           "textposition": "auto",
           "type": "bar",
           "x": [
            "France"
           ],
           "xaxis": "x",
           "y": [
            11
           ],
           "yaxis": "y"
          },
          {
           "alignmentgroup": "True",
           "hovertemplate": "country=%{x}<br>year=2017<br>counts=%{y}<extra></extra>",
           "ids": [
            "India"
           ],
           "legendgroup": "India",
           "marker": {
            "color": "#00cc96",
            "pattern": {
             "shape": ""
            }
           },
           "name": "India",
           "offsetgroup": "India",
           "orientation": "v",
           "showlegend": true,
           "textposition": "auto",
           "type": "bar",
           "x": [
            "India"
           ],
           "xaxis": "x",
           "y": [
            5
           ],
           "yaxis": "y"
          },
          {
           "alignmentgroup": "True",
           "hovertemplate": "country=%{x}<br>year=2017<br>counts=%{y}<extra></extra>",
           "ids": [
            "Japan"
           ],
           "legendgroup": "Japan",
           "marker": {
            "color": "#ab63fa",
            "pattern": {
             "shape": ""
            }
           },
           "name": "Japan",
           "offsetgroup": "Japan",
           "orientation": "v",
           "showlegend": true,
           "textposition": "auto",
           "type": "bar",
           "x": [
            "Japan"
           ],
           "xaxis": "x",
           "y": [
            7
           ],
           "yaxis": "y"
          },
          {
           "alignmentgroup": "True",
           "hovertemplate": "country=%{x}<br>year=2017<br>counts=%{y}<extra></extra>",
           "ids": [
            "Kazakhstan"
           ],
           "legendgroup": "Kazakhstan",
           "marker": {
            "color": "#FFA15A",
            "pattern": {
             "shape": ""
            }
           },
           "name": "Kazakhstan",
           "offsetgroup": "Kazakhstan",
           "orientation": "v",
           "showlegend": true,
           "textposition": "auto",
           "type": "bar",
           "x": [
            "Kazakhstan"
           ],
           "xaxis": "x",
           "y": [
            13
           ],
           "yaxis": "y"
          },
          {
           "alignmentgroup": "True",
           "hovertemplate": "country=%{x}<br>year=2017<br>counts=%{y}<extra></extra>",
           "ids": [
            "Other"
           ],
           "legendgroup": "Other",
           "marker": {
            "color": "#19d3f3",
            "pattern": {
             "shape": ""
            }
           },
           "name": "Other",
           "offsetgroup": "Other",
           "orientation": "v",
           "showlegend": true,
           "textposition": "auto",
           "type": "bar",
           "x": [
            "Other"
           ],
           "xaxis": "x",
           "y": [
            2
           ],
           "yaxis": "y"
          },
          {
           "alignmentgroup": "True",
           "hovertemplate": "country=%{x}<br>year=2017<br>counts=%{y}<extra></extra>",
           "ids": [
            "Russia"
           ],
           "legendgroup": "Russia",
           "marker": {
            "color": "#FF6692",
            "pattern": {
             "shape": ""
            }
           },
           "name": "Russia",
           "offsetgroup": "Russia",
           "orientation": "v",
           "showlegend": true,
           "textposition": "auto",
           "type": "bar",
           "x": [
            "Russia"
           ],
           "xaxis": "x",
           "y": [
            6
           ],
           "yaxis": "y"
          },
          {
           "alignmentgroup": "True",
           "hovertemplate": "country=%{x}<br>year=2017<br>counts=%{y}<extra></extra>",
           "ids": [
            "USA"
           ],
           "legendgroup": "USA",
           "marker": {
            "color": "#B6E880",
            "pattern": {
             "shape": ""
            }
           },
           "name": "USA",
           "offsetgroup": "USA",
           "orientation": "v",
           "showlegend": true,
           "textposition": "auto",
           "type": "bar",
           "x": [
            "USA"
           ],
           "xaxis": "x",
           "y": [
            30
           ],
           "yaxis": "y"
          }
         ],
         "name": "2017"
        },
        {
         "data": [
          {
           "alignmentgroup": "True",
           "hovertemplate": "country=%{x}<br>year=2018<br>counts=%{y}<extra></extra>",
           "ids": [
            "China"
           ],
           "legendgroup": "China",
           "marker": {
            "color": "#636efa",
            "pattern": {
             "shape": ""
            }
           },
           "name": "China",
           "offsetgroup": "China",
           "orientation": "v",
           "showlegend": true,
           "textposition": "auto",
           "type": "bar",
           "x": [
            "China"
           ],
           "xaxis": "x",
           "y": [
            39
           ],
           "yaxis": "y"
          },
          {
           "alignmentgroup": "True",
           "hovertemplate": "country=%{x}<br>year=2018<br>counts=%{y}<extra></extra>",
           "ids": [
            "France"
           ],
           "legendgroup": "France",
           "marker": {
            "color": "#EF553B",
            "pattern": {
             "shape": ""
            }
           },
           "name": "France",
           "offsetgroup": "France",
           "orientation": "v",
           "showlegend": true,
           "textposition": "auto",
           "type": "bar",
           "x": [
            "France"
           ],
           "xaxis": "x",
           "y": [
            11
           ],
           "yaxis": "y"
          },
          {
           "alignmentgroup": "True",
           "hovertemplate": "country=%{x}<br>year=2018<br>counts=%{y}<extra></extra>",
           "ids": [
            "India"
           ],
           "legendgroup": "India",
           "marker": {
            "color": "#00cc96",
            "pattern": {
             "shape": ""
            }
           },
           "name": "India",
           "offsetgroup": "India",
           "orientation": "v",
           "showlegend": true,
           "textposition": "auto",
           "type": "bar",
           "x": [
            "India"
           ],
           "xaxis": "x",
           "y": [
            7
           ],
           "yaxis": "y"
          },
          {
           "alignmentgroup": "True",
           "hovertemplate": "country=%{x}<br>year=2018<br>counts=%{y}<extra></extra>",
           "ids": [
            "Japan"
           ],
           "legendgroup": "Japan",
           "marker": {
            "color": "#ab63fa",
            "pattern": {
             "shape": ""
            }
           },
           "name": "Japan",
           "offsetgroup": "Japan",
           "orientation": "v",
           "showlegend": true,
           "textposition": "auto",
           "type": "bar",
           "x": [
            "Japan"
           ],
           "xaxis": "x",
           "y": [
            6
           ],
           "yaxis": "y"
          },
          {
           "alignmentgroup": "True",
           "hovertemplate": "country=%{x}<br>year=2018<br>counts=%{y}<extra></extra>",
           "ids": [
            "Kazakhstan"
           ],
           "legendgroup": "Kazakhstan",
           "marker": {
            "color": "#FFA15A",
            "pattern": {
             "shape": ""
            }
           },
           "name": "Kazakhstan",
           "offsetgroup": "Kazakhstan",
           "orientation": "v",
           "showlegend": true,
           "textposition": "auto",
           "type": "bar",
           "x": [
            "Kazakhstan"
           ],
           "xaxis": "x",
           "y": [
            9
           ],
           "yaxis": "y"
          },
          {
           "alignmentgroup": "True",
           "hovertemplate": "country=%{x}<br>year=2018<br>counts=%{y}<extra></extra>",
           "ids": [
            "Other"
           ],
           "legendgroup": "Other",
           "marker": {
            "color": "#19d3f3",
            "pattern": {
             "shape": ""
            }
           },
           "name": "Other",
           "offsetgroup": "Other",
           "orientation": "v",
           "showlegend": true,
           "textposition": "auto",
           "type": "bar",
           "x": [
            "Other"
           ],
           "xaxis": "x",
           "y": [
            4
           ],
           "yaxis": "y"
          },
          {
           "alignmentgroup": "True",
           "hovertemplate": "country=%{x}<br>year=2018<br>counts=%{y}<extra></extra>",
           "ids": [
            "Russia"
           ],
           "legendgroup": "Russia",
           "marker": {
            "color": "#FF6692",
            "pattern": {
             "shape": ""
            }
           },
           "name": "Russia",
           "offsetgroup": "Russia",
           "orientation": "v",
           "showlegend": true,
           "textposition": "auto",
           "type": "bar",
           "x": [
            "Russia"
           ],
           "xaxis": "x",
           "y": [
            8
           ],
           "yaxis": "y"
          },
          {
           "alignmentgroup": "True",
           "hovertemplate": "country=%{x}<br>year=2018<br>counts=%{y}<extra></extra>",
           "ids": [
            "USA"
           ],
           "legendgroup": "USA",
           "marker": {
            "color": "#B6E880",
            "pattern": {
             "shape": ""
            }
           },
           "name": "USA",
           "offsetgroup": "USA",
           "orientation": "v",
           "showlegend": true,
           "textposition": "auto",
           "type": "bar",
           "x": [
            "USA"
           ],
           "xaxis": "x",
           "y": [
            33
           ],
           "yaxis": "y"
          }
         ],
         "name": "2018"
        },
        {
         "data": [
          {
           "alignmentgroup": "True",
           "hovertemplate": "country=%{x}<br>year=2019<br>counts=%{y}<extra></extra>",
           "ids": [
            "China"
           ],
           "legendgroup": "China",
           "marker": {
            "color": "#636efa",
            "pattern": {
             "shape": ""
            }
           },
           "name": "China",
           "offsetgroup": "China",
           "orientation": "v",
           "showlegend": true,
           "textposition": "auto",
           "type": "bar",
           "x": [
            "China"
           ],
           "xaxis": "x",
           "y": [
            33
           ],
           "yaxis": "y"
          },
          {
           "alignmentgroup": "True",
           "hovertemplate": "country=%{x}<br>year=2019<br>counts=%{y}<extra></extra>",
           "ids": [
            "France"
           ],
           "legendgroup": "France",
           "marker": {
            "color": "#EF553B",
            "pattern": {
             "shape": ""
            }
           },
           "name": "France",
           "offsetgroup": "France",
           "orientation": "v",
           "showlegend": true,
           "textposition": "auto",
           "type": "bar",
           "x": [
            "France"
           ],
           "xaxis": "x",
           "y": [
            9
           ],
           "yaxis": "y"
          },
          {
           "alignmentgroup": "True",
           "hovertemplate": "country=%{x}<br>year=2019<br>counts=%{y}<extra></extra>",
           "ids": [
            "India"
           ],
           "legendgroup": "India",
           "marker": {
            "color": "#00cc96",
            "pattern": {
             "shape": ""
            }
           },
           "name": "India",
           "offsetgroup": "India",
           "orientation": "v",
           "showlegend": true,
           "textposition": "auto",
           "type": "bar",
           "x": [
            "India"
           ],
           "xaxis": "x",
           "y": [
            6
           ],
           "yaxis": "y"
          },
          {
           "alignmentgroup": "True",
           "hovertemplate": "country=%{x}<br>year=2019<br>counts=%{y}<extra></extra>",
           "ids": [
            "Japan"
           ],
           "legendgroup": "Japan",
           "marker": {
            "color": "#ab63fa",
            "pattern": {
             "shape": ""
            }
           },
           "name": "Japan",
           "offsetgroup": "Japan",
           "orientation": "v",
           "showlegend": true,
           "textposition": "auto",
           "type": "bar",
           "x": [
            "Japan"
           ],
           "xaxis": "x",
           "y": [
            2
           ],
           "yaxis": "y"
          },
          {
           "alignmentgroup": "True",
           "hovertemplate": "country=%{x}<br>year=2019<br>counts=%{y}<extra></extra>",
           "ids": [
            "Kazakhstan"
           ],
           "legendgroup": "Kazakhstan",
           "marker": {
            "color": "#FFA15A",
            "pattern": {
             "shape": ""
            }
           },
           "name": "Kazakhstan",
           "offsetgroup": "Kazakhstan",
           "orientation": "v",
           "showlegend": true,
           "textposition": "auto",
           "type": "bar",
           "x": [
            "Kazakhstan"
           ],
           "xaxis": "x",
           "y": [
            13
           ],
           "yaxis": "y"
          },
          {
           "alignmentgroup": "True",
           "hovertemplate": "country=%{x}<br>year=2019<br>counts=%{y}<extra></extra>",
           "ids": [
            "Other"
           ],
           "legendgroup": "Other",
           "marker": {
            "color": "#19d3f3",
            "pattern": {
             "shape": ""
            }
           },
           "name": "Other",
           "offsetgroup": "Other",
           "orientation": "v",
           "showlegend": true,
           "textposition": "auto",
           "type": "bar",
           "x": [
            "Other"
           ],
           "xaxis": "x",
           "y": [
            13
           ],
           "yaxis": "y"
          },
          {
           "alignmentgroup": "True",
           "hovertemplate": "country=%{x}<br>year=2019<br>counts=%{y}<extra></extra>",
           "ids": [
            "Russia"
           ],
           "legendgroup": "Russia",
           "marker": {
            "color": "#FF6692",
            "pattern": {
             "shape": ""
            }
           },
           "name": "Russia",
           "offsetgroup": "Russia",
           "orientation": "v",
           "showlegend": true,
           "textposition": "auto",
           "type": "bar",
           "x": [
            "Russia"
           ],
           "xaxis": "x",
           "y": [
            9
           ],
           "yaxis": "y"
          },
          {
           "alignmentgroup": "True",
           "hovertemplate": "country=%{x}<br>year=2019<br>counts=%{y}<extra></extra>",
           "ids": [
            "USA"
           ],
           "legendgroup": "USA",
           "marker": {
            "color": "#B6E880",
            "pattern": {
             "shape": ""
            }
           },
           "name": "USA",
           "offsetgroup": "USA",
           "orientation": "v",
           "showlegend": true,
           "textposition": "auto",
           "type": "bar",
           "x": [
            "USA"
           ],
           "xaxis": "x",
           "y": [
            24
           ],
           "yaxis": "y"
          }
         ],
         "name": "2019"
        },
        {
         "data": [
          {
           "alignmentgroup": "True",
           "hovertemplate": "country=%{x}<br>year=2020<br>counts=%{y}<extra></extra>",
           "ids": [
            "China"
           ],
           "legendgroup": "China",
           "marker": {
            "color": "#636efa",
            "pattern": {
             "shape": ""
            }
           },
           "name": "China",
           "offsetgroup": "China",
           "orientation": "v",
           "showlegend": true,
           "textposition": "auto",
           "type": "bar",
           "x": [
            "China"
           ],
           "xaxis": "x",
           "y": [
            22
           ],
           "yaxis": "y"
          },
          {
           "alignmentgroup": "True",
           "hovertemplate": "country=%{x}<br>year=2020<br>counts=%{y}<extra></extra>",
           "ids": [
            "France"
           ],
           "legendgroup": "France",
           "marker": {
            "color": "#EF553B",
            "pattern": {
             "shape": ""
            }
           },
           "name": "France",
           "offsetgroup": "France",
           "orientation": "v",
           "showlegend": true,
           "textposition": "auto",
           "type": "bar",
           "x": [
            "France"
           ],
           "xaxis": "x",
           "y": [
            2
           ],
           "yaxis": "y"
          },
          {
           "alignmentgroup": "True",
           "hovertemplate": "country=%{x}<br>year=2020<br>counts=%{y}<extra></extra>",
           "ids": [
            "India"
           ],
           "legendgroup": "India",
           "marker": {
            "color": "#00cc96",
            "pattern": {
             "shape": ""
            }
           },
           "name": "India",
           "offsetgroup": "India",
           "orientation": "v",
           "showlegend": true,
           "textposition": "auto",
           "type": "bar",
           "x": [
            "India"
           ],
           "xaxis": "x",
           "y": [
            0
           ],
           "yaxis": "y"
          },
          {
           "alignmentgroup": "True",
           "hovertemplate": "country=%{x}<br>year=2020<br>counts=%{y}<extra></extra>",
           "ids": [
            "Japan"
           ],
           "legendgroup": "Japan",
           "marker": {
            "color": "#ab63fa",
            "pattern": {
             "shape": ""
            }
           },
           "name": "Japan",
           "offsetgroup": "Japan",
           "orientation": "v",
           "showlegend": true,
           "textposition": "auto",
           "type": "bar",
           "x": [
            "Japan"
           ],
           "xaxis": "x",
           "y": [
            3
           ],
           "yaxis": "y"
          },
          {
           "alignmentgroup": "True",
           "hovertemplate": "country=%{x}<br>year=2020<br>counts=%{y}<extra></extra>",
           "ids": [
            "Kazakhstan"
           ],
           "legendgroup": "Kazakhstan",
           "marker": {
            "color": "#FFA15A",
            "pattern": {
             "shape": ""
            }
           },
           "name": "Kazakhstan",
           "offsetgroup": "Kazakhstan",
           "orientation": "v",
           "showlegend": true,
           "textposition": "auto",
           "type": "bar",
           "x": [
            "Kazakhstan"
           ],
           "xaxis": "x",
           "y": [
            6
           ],
           "yaxis": "y"
          },
          {
           "alignmentgroup": "True",
           "hovertemplate": "country=%{x}<br>year=2020<br>counts=%{y}<extra></extra>",
           "ids": [
            "Other"
           ],
           "legendgroup": "Other",
           "marker": {
            "color": "#19d3f3",
            "pattern": {
             "shape": ""
            }
           },
           "name": "Other",
           "offsetgroup": "Other",
           "orientation": "v",
           "showlegend": true,
           "textposition": "auto",
           "type": "bar",
           "x": [
            "Other"
           ],
           "xaxis": "x",
           "y": [
            6
           ],
           "yaxis": "y"
          },
          {
           "alignmentgroup": "True",
           "hovertemplate": "country=%{x}<br>year=2020<br>counts=%{y}<extra></extra>",
           "ids": [
            "Russia"
           ],
           "legendgroup": "Russia",
           "marker": {
            "color": "#FF6692",
            "pattern": {
             "shape": ""
            }
           },
           "name": "Russia",
           "offsetgroup": "Russia",
           "orientation": "v",
           "showlegend": true,
           "textposition": "auto",
           "type": "bar",
           "x": [
            "Russia"
           ],
           "xaxis": "x",
           "y": [
            3
           ],
           "yaxis": "y"
          },
          {
           "alignmentgroup": "True",
           "hovertemplate": "country=%{x}<br>year=2020<br>counts=%{y}<extra></extra>",
           "ids": [
            "USA"
           ],
           "legendgroup": "USA",
           "marker": {
            "color": "#B6E880",
            "pattern": {
             "shape": ""
            }
           },
           "name": "USA",
           "offsetgroup": "USA",
           "orientation": "v",
           "showlegend": true,
           "textposition": "auto",
           "type": "bar",
           "x": [
            "USA"
           ],
           "xaxis": "x",
           "y": [
            21
           ],
           "yaxis": "y"
          }
         ],
         "name": "2020"
        }
       ],
       "layout": {
        "barmode": "relative",
        "height": 550,
        "legend": {
         "title": {
          "text": "country"
         },
         "tracegroupgap": 0
        },
        "margin": {
         "t": 60
        },
        "showlegend": false,
        "sliders": [
         {
          "active": 0,
          "currentvalue": {
           "prefix": "year="
          },
          "len": 0.9,
          "pad": {
           "b": 10,
           "t": 60
          },
          "steps": [
           {
            "args": [
             [
              "1957"
             ],
             {
              "frame": {
               "duration": 0,
               "redraw": true
              },
              "fromcurrent": true,
              "mode": "immediate",
              "transition": {
               "duration": 0,
               "easing": "linear"
              }
             }
            ],
            "label": "1957",
            "method": "animate"
           },
           {
            "args": [
             [
              "1958"
             ],
             {
              "frame": {
               "duration": 0,
               "redraw": true
              },
              "fromcurrent": true,
              "mode": "immediate",
              "transition": {
               "duration": 0,
               "easing": "linear"
              }
             }
            ],
            "label": "1958",
            "method": "animate"
           },
           {
            "args": [
             [
              "1959"
             ],
             {
              "frame": {
               "duration": 0,
               "redraw": true
              },
              "fromcurrent": true,
              "mode": "immediate",
              "transition": {
               "duration": 0,
               "easing": "linear"
              }
             }
            ],
            "label": "1959",
            "method": "animate"
           },
           {
            "args": [
             [
              "1960"
             ],
             {
              "frame": {
               "duration": 0,
               "redraw": true
              },
              "fromcurrent": true,
              "mode": "immediate",
              "transition": {
               "duration": 0,
               "easing": "linear"
              }
             }
            ],
            "label": "1960",
            "method": "animate"
           },
           {
            "args": [
             [
              "1961"
             ],
             {
              "frame": {
               "duration": 0,
               "redraw": true
              },
              "fromcurrent": true,
              "mode": "immediate",
              "transition": {
               "duration": 0,
               "easing": "linear"
              }
             }
            ],
            "label": "1961",
            "method": "animate"
           },
           {
            "args": [
             [
              "1962"
             ],
             {
              "frame": {
               "duration": 0,
               "redraw": true
              },
              "fromcurrent": true,
              "mode": "immediate",
              "transition": {
               "duration": 0,
               "easing": "linear"
              }
             }
            ],
            "label": "1962",
            "method": "animate"
           },
           {
            "args": [
             [
              "1963"
             ],
             {
              "frame": {
               "duration": 0,
               "redraw": true
              },
              "fromcurrent": true,
              "mode": "immediate",
              "transition": {
               "duration": 0,
               "easing": "linear"
              }
             }
            ],
            "label": "1963",
            "method": "animate"
           },
           {
            "args": [
             [
              "1964"
             ],
             {
              "frame": {
               "duration": 0,
               "redraw": true
              },
              "fromcurrent": true,
              "mode": "immediate",
              "transition": {
               "duration": 0,
               "easing": "linear"
              }
             }
            ],
            "label": "1964",
            "method": "animate"
           },
           {
            "args": [
             [
              "1965"
             ],
             {
              "frame": {
               "duration": 0,
               "redraw": true
              },
              "fromcurrent": true,
              "mode": "immediate",
              "transition": {
               "duration": 0,
               "easing": "linear"
              }
             }
            ],
            "label": "1965",
            "method": "animate"
           },
           {
            "args": [
             [
              "1966"
             ],
             {
              "frame": {
               "duration": 0,
               "redraw": true
              },
              "fromcurrent": true,
              "mode": "immediate",
              "transition": {
               "duration": 0,
               "easing": "linear"
              }
             }
            ],
            "label": "1966",
            "method": "animate"
           },
           {
            "args": [
             [
              "1967"
             ],
             {
              "frame": {
               "duration": 0,
               "redraw": true
              },
              "fromcurrent": true,
              "mode": "immediate",
              "transition": {
               "duration": 0,
               "easing": "linear"
              }
             }
            ],
            "label": "1967",
            "method": "animate"
           },
           {
            "args": [
             [
              "1968"
             ],
             {
              "frame": {
               "duration": 0,
               "redraw": true
              },
              "fromcurrent": true,
              "mode": "immediate",
              "transition": {
               "duration": 0,
               "easing": "linear"
              }
             }
            ],
            "label": "1968",
            "method": "animate"
           },
           {
            "args": [
             [
              "1969"
             ],
             {
              "frame": {
               "duration": 0,
               "redraw": true
              },
              "fromcurrent": true,
              "mode": "immediate",
              "transition": {
               "duration": 0,
               "easing": "linear"
              }
             }
            ],
            "label": "1969",
            "method": "animate"
           },
           {
            "args": [
             [
              "1970"
             ],
             {
              "frame": {
               "duration": 0,
               "redraw": true
              },
              "fromcurrent": true,
              "mode": "immediate",
              "transition": {
               "duration": 0,
               "easing": "linear"
              }
             }
            ],
            "label": "1970",
            "method": "animate"
           },
           {
            "args": [
             [
              "1971"
             ],
             {
              "frame": {
               "duration": 0,
               "redraw": true
              },
              "fromcurrent": true,
              "mode": "immediate",
              "transition": {
               "duration": 0,
               "easing": "linear"
              }
             }
            ],
            "label": "1971",
            "method": "animate"
           },
           {
            "args": [
             [
              "1972"
             ],
             {
              "frame": {
               "duration": 0,
               "redraw": true
              },
              "fromcurrent": true,
              "mode": "immediate",
              "transition": {
               "duration": 0,
               "easing": "linear"
              }
             }
            ],
            "label": "1972",
            "method": "animate"
           },
           {
            "args": [
             [
              "1973"
             ],
             {
              "frame": {
               "duration": 0,
               "redraw": true
              },
              "fromcurrent": true,
              "mode": "immediate",
              "transition": {
               "duration": 0,
               "easing": "linear"
              }
             }
            ],
            "label": "1973",
            "method": "animate"
           },
           {
            "args": [
             [
              "1974"
             ],
             {
              "frame": {
               "duration": 0,
               "redraw": true
              },
              "fromcurrent": true,
              "mode": "immediate",
              "transition": {
               "duration": 0,
               "easing": "linear"
              }
             }
            ],
            "label": "1974",
            "method": "animate"
           },
           {
            "args": [
             [
              "1975"
             ],
             {
              "frame": {
               "duration": 0,
               "redraw": true
              },
              "fromcurrent": true,
              "mode": "immediate",
              "transition": {
               "duration": 0,
               "easing": "linear"
              }
             }
            ],
            "label": "1975",
            "method": "animate"
           },
           {
            "args": [
             [
              "1976"
             ],
             {
              "frame": {
               "duration": 0,
               "redraw": true
              },
              "fromcurrent": true,
              "mode": "immediate",
              "transition": {
               "duration": 0,
               "easing": "linear"
              }
             }
            ],
            "label": "1976",
            "method": "animate"
           },
           {
            "args": [
             [
              "1977"
             ],
             {
              "frame": {
               "duration": 0,
               "redraw": true
              },
              "fromcurrent": true,
              "mode": "immediate",
              "transition": {
               "duration": 0,
               "easing": "linear"
              }
             }
            ],
            "label": "1977",
            "method": "animate"
           },
           {
            "args": [
             [
              "1978"
             ],
             {
              "frame": {
               "duration": 0,
               "redraw": true
              },
              "fromcurrent": true,
              "mode": "immediate",
              "transition": {
               "duration": 0,
               "easing": "linear"
              }
             }
            ],
            "label": "1978",
            "method": "animate"
           },
           {
            "args": [
             [
              "1979"
             ],
             {
              "frame": {
               "duration": 0,
               "redraw": true
              },
              "fromcurrent": true,
              "mode": "immediate",
              "transition": {
               "duration": 0,
               "easing": "linear"
              }
             }
            ],
            "label": "1979",
            "method": "animate"
           },
           {
            "args": [
             [
              "1980"
             ],
             {
              "frame": {
               "duration": 0,
               "redraw": true
              },
              "fromcurrent": true,
              "mode": "immediate",
              "transition": {
               "duration": 0,
               "easing": "linear"
              }
             }
            ],
            "label": "1980",
            "method": "animate"
           },
           {
            "args": [
             [
              "1981"
             ],
             {
              "frame": {
               "duration": 0,
               "redraw": true
              },
              "fromcurrent": true,
              "mode": "immediate",
              "transition": {
               "duration": 0,
               "easing": "linear"
              }
             }
            ],
            "label": "1981",
            "method": "animate"
           },
           {
            "args": [
             [
              "1982"
             ],
             {
              "frame": {
               "duration": 0,
               "redraw": true
              },
              "fromcurrent": true,
              "mode": "immediate",
              "transition": {
               "duration": 0,
               "easing": "linear"
              }
             }
            ],
            "label": "1982",
            "method": "animate"
           },
           {
            "args": [
             [
              "1983"
             ],
             {
              "frame": {
               "duration": 0,
               "redraw": true
              },
              "fromcurrent": true,
              "mode": "immediate",
              "transition": {
               "duration": 0,
               "easing": "linear"
              }
             }
            ],
            "label": "1983",
            "method": "animate"
           },
           {
            "args": [
             [
              "1984"
             ],
             {
              "frame": {
               "duration": 0,
               "redraw": true
              },
              "fromcurrent": true,
              "mode": "immediate",
              "transition": {
               "duration": 0,
               "easing": "linear"
              }
             }
            ],
            "label": "1984",
            "method": "animate"
           },
           {
            "args": [
             [
              "1985"
             ],
             {
              "frame": {
               "duration": 0,
               "redraw": true
              },
              "fromcurrent": true,
              "mode": "immediate",
              "transition": {
               "duration": 0,
               "easing": "linear"
              }
             }
            ],
            "label": "1985",
            "method": "animate"
           },
           {
            "args": [
             [
              "1986"
             ],
             {
              "frame": {
               "duration": 0,
               "redraw": true
              },
              "fromcurrent": true,
              "mode": "immediate",
              "transition": {
               "duration": 0,
               "easing": "linear"
              }
             }
            ],
            "label": "1986",
            "method": "animate"
           },
           {
            "args": [
             [
              "1987"
             ],
             {
              "frame": {
               "duration": 0,
               "redraw": true
              },
              "fromcurrent": true,
              "mode": "immediate",
              "transition": {
               "duration": 0,
               "easing": "linear"
              }
             }
            ],
            "label": "1987",
            "method": "animate"
           },
           {
            "args": [
             [
              "1988"
             ],
             {
              "frame": {
               "duration": 0,
               "redraw": true
              },
              "fromcurrent": true,
              "mode": "immediate",
              "transition": {
               "duration": 0,
               "easing": "linear"
              }
             }
            ],
            "label": "1988",
            "method": "animate"
           },
           {
            "args": [
             [
              "1989"
             ],
             {
              "frame": {
               "duration": 0,
               "redraw": true
              },
              "fromcurrent": true,
              "mode": "immediate",
              "transition": {
               "duration": 0,
               "easing": "linear"
              }
             }
            ],
            "label": "1989",
            "method": "animate"
           },
           {
            "args": [
             [
              "1990"
             ],
             {
              "frame": {
               "duration": 0,
               "redraw": true
              },
              "fromcurrent": true,
              "mode": "immediate",
              "transition": {
               "duration": 0,
               "easing": "linear"
              }
             }
            ],
            "label": "1990",
            "method": "animate"
           },
           {
            "args": [
             [
              "1991"
             ],
             {
              "frame": {
               "duration": 0,
               "redraw": true
              },
              "fromcurrent": true,
              "mode": "immediate",
              "transition": {
               "duration": 0,
               "easing": "linear"
              }
             }
            ],
            "label": "1991",
            "method": "animate"
           },
           {
            "args": [
             [
              "1992"
             ],
             {
              "frame": {
               "duration": 0,
               "redraw": true
              },
              "fromcurrent": true,
              "mode": "immediate",
              "transition": {
               "duration": 0,
               "easing": "linear"
              }
             }
            ],
            "label": "1992",
            "method": "animate"
           },
           {
            "args": [
             [
              "1993"
             ],
             {
              "frame": {
               "duration": 0,
               "redraw": true
              },
              "fromcurrent": true,
              "mode": "immediate",
              "transition": {
               "duration": 0,
               "easing": "linear"
              }
             }
            ],
            "label": "1993",
            "method": "animate"
           },
           {
            "args": [
             [
              "1994"
             ],
             {
              "frame": {
               "duration": 0,
               "redraw": true
              },
              "fromcurrent": true,
              "mode": "immediate",
              "transition": {
               "duration": 0,
               "easing": "linear"
              }
             }
            ],
            "label": "1994",
            "method": "animate"
           },
           {
            "args": [
             [
              "1995"
             ],
             {
              "frame": {
               "duration": 0,
               "redraw": true
              },
              "fromcurrent": true,
              "mode": "immediate",
              "transition": {
               "duration": 0,
               "easing": "linear"
              }
             }
            ],
            "label": "1995",
            "method": "animate"
           },
           {
            "args": [
             [
              "1996"
             ],
             {
              "frame": {
               "duration": 0,
               "redraw": true
              },
              "fromcurrent": true,
              "mode": "immediate",
              "transition": {
               "duration": 0,
               "easing": "linear"
              }
             }
            ],
            "label": "1996",
            "method": "animate"
           },
           {
            "args": [
             [
              "1997"
             ],
             {
              "frame": {
               "duration": 0,
               "redraw": true
              },
              "fromcurrent": true,
              "mode": "immediate",
              "transition": {
               "duration": 0,
               "easing": "linear"
              }
             }
            ],
            "label": "1997",
            "method": "animate"
           },
           {
            "args": [
             [
              "1998"
             ],
             {
              "frame": {
               "duration": 0,
               "redraw": true
              },
              "fromcurrent": true,
              "mode": "immediate",
              "transition": {
               "duration": 0,
               "easing": "linear"
              }
             }
            ],
            "label": "1998",
            "method": "animate"
           },
           {
            "args": [
             [
              "1999"
             ],
             {
              "frame": {
               "duration": 0,
               "redraw": true
              },
              "fromcurrent": true,
              "mode": "immediate",
              "transition": {
               "duration": 0,
               "easing": "linear"
              }
             }
            ],
            "label": "1999",
            "method": "animate"
           },
           {
            "args": [
             [
              "2000"
             ],
             {
              "frame": {
               "duration": 0,
               "redraw": true
              },
              "fromcurrent": true,
              "mode": "immediate",
              "transition": {
               "duration": 0,
               "easing": "linear"
              }
             }
            ],
            "label": "2000",
            "method": "animate"
           },
           {
            "args": [
             [
              "2001"
             ],
             {
              "frame": {
               "duration": 0,
               "redraw": true
              },
              "fromcurrent": true,
              "mode": "immediate",
              "transition": {
               "duration": 0,
               "easing": "linear"
              }
             }
            ],
            "label": "2001",
            "method": "animate"
           },
           {
            "args": [
             [
              "2002"
             ],
             {
              "frame": {
               "duration": 0,
               "redraw": true
              },
              "fromcurrent": true,
              "mode": "immediate",
              "transition": {
               "duration": 0,
               "easing": "linear"
              }
             }
            ],
            "label": "2002",
            "method": "animate"
           },
           {
            "args": [
             [
              "2003"
             ],
             {
              "frame": {
               "duration": 0,
               "redraw": true
              },
              "fromcurrent": true,
              "mode": "immediate",
              "transition": {
               "duration": 0,
               "easing": "linear"
              }
             }
            ],
            "label": "2003",
            "method": "animate"
           },
           {
            "args": [
             [
              "2004"
             ],
             {
              "frame": {
               "duration": 0,
               "redraw": true
              },
              "fromcurrent": true,
              "mode": "immediate",
              "transition": {
               "duration": 0,
               "easing": "linear"
              }
             }
            ],
            "label": "2004",
            "method": "animate"
           },
           {
            "args": [
             [
              "2005"
             ],
             {
              "frame": {
               "duration": 0,
               "redraw": true
              },
              "fromcurrent": true,
              "mode": "immediate",
              "transition": {
               "duration": 0,
               "easing": "linear"
              }
             }
            ],
            "label": "2005",
            "method": "animate"
           },
           {
            "args": [
             [
              "2006"
             ],
             {
              "frame": {
               "duration": 0,
               "redraw": true
              },
              "fromcurrent": true,
              "mode": "immediate",
              "transition": {
               "duration": 0,
               "easing": "linear"
              }
             }
            ],
            "label": "2006",
            "method": "animate"
           },
           {
            "args": [
             [
              "2007"
             ],
             {
              "frame": {
               "duration": 0,
               "redraw": true
              },
              "fromcurrent": true,
              "mode": "immediate",
              "transition": {
               "duration": 0,
               "easing": "linear"
              }
             }
            ],
            "label": "2007",
            "method": "animate"
           },
           {
            "args": [
             [
              "2008"
             ],
             {
              "frame": {
               "duration": 0,
               "redraw": true
              },
              "fromcurrent": true,
              "mode": "immediate",
              "transition": {
               "duration": 0,
               "easing": "linear"
              }
             }
            ],
            "label": "2008",
            "method": "animate"
           },
           {
            "args": [
             [
              "2009"
             ],
             {
              "frame": {
               "duration": 0,
               "redraw": true
              },
              "fromcurrent": true,
              "mode": "immediate",
              "transition": {
               "duration": 0,
               "easing": "linear"
              }
             }
            ],
            "label": "2009",
            "method": "animate"
           },
           {
            "args": [
             [
              "2010"
             ],
             {
              "frame": {
               "duration": 0,
               "redraw": true
              },
              "fromcurrent": true,
              "mode": "immediate",
              "transition": {
               "duration": 0,
               "easing": "linear"
              }
             }
            ],
            "label": "2010",
            "method": "animate"
           },
           {
            "args": [
             [
              "2011"
             ],
             {
              "frame": {
               "duration": 0,
               "redraw": true
              },
              "fromcurrent": true,
              "mode": "immediate",
              "transition": {
               "duration": 0,
               "easing": "linear"
              }
             }
            ],
            "label": "2011",
            "method": "animate"
           },
           {
            "args": [
             [
              "2012"
             ],
             {
              "frame": {
               "duration": 0,
               "redraw": true
              },
              "fromcurrent": true,
              "mode": "immediate",
              "transition": {
               "duration": 0,
               "easing": "linear"
              }
             }
            ],
            "label": "2012",
            "method": "animate"
           },
           {
            "args": [
             [
              "2013"
             ],
             {
              "frame": {
               "duration": 0,
               "redraw": true
              },
              "fromcurrent": true,
              "mode": "immediate",
              "transition": {
               "duration": 0,
               "easing": "linear"
              }
             }
            ],
            "label": "2013",
            "method": "animate"
           },
           {
            "args": [
             [
              "2014"
             ],
             {
              "frame": {
               "duration": 0,
               "redraw": true
              },
              "fromcurrent": true,
              "mode": "immediate",
              "transition": {
               "duration": 0,
               "easing": "linear"
              }
             }
            ],
            "label": "2014",
            "method": "animate"
           },
           {
            "args": [
             [
              "2015"
             ],
             {
              "frame": {
               "duration": 0,
               "redraw": true
              },
              "fromcurrent": true,
              "mode": "immediate",
              "transition": {
               "duration": 0,
               "easing": "linear"
              }
             }
            ],
            "label": "2015",
            "method": "animate"
           },
           {
            "args": [
             [
              "2016"
             ],
             {
              "frame": {
               "duration": 0,
               "redraw": true
              },
              "fromcurrent": true,
              "mode": "immediate",
              "transition": {
               "duration": 0,
               "easing": "linear"
              }
             }
            ],
            "label": "2016",
            "method": "animate"
           },
           {
            "args": [
             [
              "2017"
             ],
             {
              "frame": {
               "duration": 0,
               "redraw": true
              },
              "fromcurrent": true,
              "mode": "immediate",
              "transition": {
               "duration": 0,
               "easing": "linear"
              }
             }
            ],
            "label": "2017",
            "method": "animate"
           },
           {
            "args": [
             [
              "2018"
             ],
             {
              "frame": {
               "duration": 0,
               "redraw": true
              },
              "fromcurrent": true,
              "mode": "immediate",
              "transition": {
               "duration": 0,
               "easing": "linear"
              }
             }
            ],
            "label": "2018",
            "method": "animate"
           },
           {
            "args": [
             [
              "2019"
             ],
             {
              "frame": {
               "duration": 0,
               "redraw": true
              },
              "fromcurrent": true,
              "mode": "immediate",
              "transition": {
               "duration": 0,
               "easing": "linear"
              }
             }
            ],
            "label": "2019",
            "method": "animate"
           },
           {
            "args": [
             [
              "2020"
             ],
             {
              "frame": {
               "duration": 0,
               "redraw": true
              },
              "fromcurrent": true,
              "mode": "immediate",
              "transition": {
               "duration": 0,
               "easing": "linear"
              }
             }
            ],
            "label": "2020",
            "method": "animate"
           }
          ],
          "x": 0.1,
          "xanchor": "left",
          "y": 0,
          "yanchor": "top"
         }
        ],
        "template": {
         "data": {
          "bar": [
           {
            "error_x": {
             "color": "#2a3f5f"
            },
            "error_y": {
             "color": "#2a3f5f"
            },
            "marker": {
             "line": {
              "color": "#E5ECF6",
              "width": 0.5
             },
             "pattern": {
              "fillmode": "overlay",
              "size": 10,
              "solidity": 0.2
             }
            },
            "type": "bar"
           }
          ],
          "barpolar": [
           {
            "marker": {
             "line": {
              "color": "#E5ECF6",
              "width": 0.5
             },
             "pattern": {
              "fillmode": "overlay",
              "size": 10,
              "solidity": 0.2
             }
            },
            "type": "barpolar"
           }
          ],
          "carpet": [
           {
            "aaxis": {
             "endlinecolor": "#2a3f5f",
             "gridcolor": "white",
             "linecolor": "white",
             "minorgridcolor": "white",
             "startlinecolor": "#2a3f5f"
            },
            "baxis": {
             "endlinecolor": "#2a3f5f",
             "gridcolor": "white",
             "linecolor": "white",
             "minorgridcolor": "white",
             "startlinecolor": "#2a3f5f"
            },
            "type": "carpet"
           }
          ],
          "choropleth": [
           {
            "colorbar": {
             "outlinewidth": 0,
             "ticks": ""
            },
            "type": "choropleth"
           }
          ],
          "contour": [
           {
            "colorbar": {
             "outlinewidth": 0,
             "ticks": ""
            },
            "colorscale": [
             [
              0,
              "#0d0887"
             ],
             [
              0.1111111111111111,
              "#46039f"
             ],
             [
              0.2222222222222222,
              "#7201a8"
             ],
             [
              0.3333333333333333,
              "#9c179e"
             ],
             [
              0.4444444444444444,
              "#bd3786"
             ],
             [
              0.5555555555555556,
              "#d8576b"
             ],
             [
              0.6666666666666666,
              "#ed7953"
             ],
             [
              0.7777777777777778,
              "#fb9f3a"
             ],
             [
              0.8888888888888888,
              "#fdca26"
             ],
             [
              1,
              "#f0f921"
             ]
            ],
            "type": "contour"
           }
          ],
          "contourcarpet": [
           {
            "colorbar": {
             "outlinewidth": 0,
             "ticks": ""
            },
            "type": "contourcarpet"
           }
          ],
          "heatmap": [
           {
            "colorbar": {
             "outlinewidth": 0,
             "ticks": ""
            },
            "colorscale": [
             [
              0,
              "#0d0887"
             ],
             [
              0.1111111111111111,
              "#46039f"
             ],
             [
              0.2222222222222222,
              "#7201a8"
             ],
             [
              0.3333333333333333,
              "#9c179e"
             ],
             [
              0.4444444444444444,
              "#bd3786"
             ],
             [
              0.5555555555555556,
              "#d8576b"
             ],
             [
              0.6666666666666666,
              "#ed7953"
             ],
             [
              0.7777777777777778,
              "#fb9f3a"
             ],
             [
              0.8888888888888888,
              "#fdca26"
             ],
             [
              1,
              "#f0f921"
             ]
            ],
            "type": "heatmap"
           }
          ],
          "heatmapgl": [
           {
            "colorbar": {
             "outlinewidth": 0,
             "ticks": ""
            },
            "colorscale": [
             [
              0,
              "#0d0887"
             ],
             [
              0.1111111111111111,
              "#46039f"
             ],
             [
              0.2222222222222222,
              "#7201a8"
             ],
             [
              0.3333333333333333,
              "#9c179e"
             ],
             [
              0.4444444444444444,
              "#bd3786"
             ],
             [
              0.5555555555555556,
              "#d8576b"
             ],
             [
              0.6666666666666666,
              "#ed7953"
             ],
             [
              0.7777777777777778,
              "#fb9f3a"
             ],
             [
              0.8888888888888888,
              "#fdca26"
             ],
             [
              1,
              "#f0f921"
             ]
            ],
            "type": "heatmapgl"
           }
          ],
          "histogram": [
           {
            "marker": {
             "pattern": {
              "fillmode": "overlay",
              "size": 10,
              "solidity": 0.2
             }
            },
            "type": "histogram"
           }
          ],
          "histogram2d": [
           {
            "colorbar": {
             "outlinewidth": 0,
             "ticks": ""
            },
            "colorscale": [
             [
              0,
              "#0d0887"
             ],
             [
              0.1111111111111111,
              "#46039f"
             ],
             [
              0.2222222222222222,
              "#7201a8"
             ],
             [
              0.3333333333333333,
              "#9c179e"
             ],
             [
              0.4444444444444444,
              "#bd3786"
             ],
             [
              0.5555555555555556,
              "#d8576b"
             ],
             [
              0.6666666666666666,
              "#ed7953"
             ],
             [
              0.7777777777777778,
              "#fb9f3a"
             ],
             [
              0.8888888888888888,
              "#fdca26"
             ],
             [
              1,
              "#f0f921"
             ]
            ],
            "type": "histogram2d"
           }
          ],
          "histogram2dcontour": [
           {
            "colorbar": {
             "outlinewidth": 0,
             "ticks": ""
            },
            "colorscale": [
             [
              0,
              "#0d0887"
             ],
             [
              0.1111111111111111,
              "#46039f"
             ],
             [
              0.2222222222222222,
              "#7201a8"
             ],
             [
              0.3333333333333333,
              "#9c179e"
             ],
             [
              0.4444444444444444,
              "#bd3786"
             ],
             [
              0.5555555555555556,
              "#d8576b"
             ],
             [
              0.6666666666666666,
              "#ed7953"
             ],
             [
              0.7777777777777778,
              "#fb9f3a"
             ],
             [
              0.8888888888888888,
              "#fdca26"
             ],
             [
              1,
              "#f0f921"
             ]
            ],
            "type": "histogram2dcontour"
           }
          ],
          "mesh3d": [
           {
            "colorbar": {
             "outlinewidth": 0,
             "ticks": ""
            },
            "type": "mesh3d"
           }
          ],
          "parcoords": [
           {
            "line": {
             "colorbar": {
              "outlinewidth": 0,
              "ticks": ""
             }
            },
            "type": "parcoords"
           }
          ],
          "pie": [
           {
            "automargin": true,
            "type": "pie"
           }
          ],
          "scatter": [
           {
            "fillpattern": {
             "fillmode": "overlay",
             "size": 10,
             "solidity": 0.2
            },
            "type": "scatter"
           }
          ],
          "scatter3d": [
           {
            "line": {
             "colorbar": {
              "outlinewidth": 0,
              "ticks": ""
             }
            },
            "marker": {
             "colorbar": {
              "outlinewidth": 0,
              "ticks": ""
             }
            },
            "type": "scatter3d"
           }
          ],
          "scattercarpet": [
           {
            "marker": {
             "colorbar": {
              "outlinewidth": 0,
              "ticks": ""
             }
            },
            "type": "scattercarpet"
           }
          ],
          "scattergeo": [
           {
            "marker": {
             "colorbar": {
              "outlinewidth": 0,
              "ticks": ""
             }
            },
            "type": "scattergeo"
           }
          ],
          "scattergl": [
           {
            "marker": {
             "colorbar": {
              "outlinewidth": 0,
              "ticks": ""
             }
            },
            "type": "scattergl"
           }
          ],
          "scattermapbox": [
           {
            "marker": {
             "colorbar": {
              "outlinewidth": 0,
              "ticks": ""
             }
            },
            "type": "scattermapbox"
           }
          ],
          "scatterpolar": [
           {
            "marker": {
             "colorbar": {
              "outlinewidth": 0,
              "ticks": ""
             }
            },
            "type": "scatterpolar"
           }
          ],
          "scatterpolargl": [
           {
            "marker": {
             "colorbar": {
              "outlinewidth": 0,
              "ticks": ""
             }
            },
            "type": "scatterpolargl"
           }
          ],
          "scatterternary": [
           {
            "marker": {
             "colorbar": {
              "outlinewidth": 0,
              "ticks": ""
             }
            },
            "type": "scatterternary"
           }
          ],
          "surface": [
           {
            "colorbar": {
             "outlinewidth": 0,
             "ticks": ""
            },
            "colorscale": [
             [
              0,
              "#0d0887"
             ],
             [
              0.1111111111111111,
              "#46039f"
             ],
             [
              0.2222222222222222,
              "#7201a8"
             ],
             [
              0.3333333333333333,
              "#9c179e"
             ],
             [
              0.4444444444444444,
              "#bd3786"
             ],
             [
              0.5555555555555556,
              "#d8576b"
             ],
             [
              0.6666666666666666,
              "#ed7953"
             ],
             [
              0.7777777777777778,
              "#fb9f3a"
             ],
             [
              0.8888888888888888,
              "#fdca26"
             ],
             [
              1,
              "#f0f921"
             ]
            ],
            "type": "surface"
           }
          ],
          "table": [
           {
            "cells": {
             "fill": {
              "color": "#EBF0F8"
             },
             "line": {
              "color": "white"
             }
            },
            "header": {
             "fill": {
              "color": "#C8D4E3"
             },
             "line": {
              "color": "white"
             }
            },
            "type": "table"
           }
          ]
         },
         "layout": {
          "annotationdefaults": {
           "arrowcolor": "#2a3f5f",
           "arrowhead": 0,
           "arrowwidth": 1
          },
          "autotypenumbers": "strict",
          "coloraxis": {
           "colorbar": {
            "outlinewidth": 0,
            "ticks": ""
           }
          },
          "colorscale": {
           "diverging": [
            [
             0,
             "#8e0152"
            ],
            [
             0.1,
             "#c51b7d"
            ],
            [
             0.2,
             "#de77ae"
            ],
            [
             0.3,
             "#f1b6da"
            ],
            [
             0.4,
             "#fde0ef"
            ],
            [
             0.5,
             "#f7f7f7"
            ],
            [
             0.6,
             "#e6f5d0"
            ],
            [
             0.7,
             "#b8e186"
            ],
            [
             0.8,
             "#7fbc41"
            ],
            [
             0.9,
             "#4d9221"
            ],
            [
             1,
             "#276419"
            ]
           ],
           "sequential": [
            [
             0,
             "#0d0887"
            ],
            [
             0.1111111111111111,
             "#46039f"
            ],
            [
             0.2222222222222222,
             "#7201a8"
            ],
            [
             0.3333333333333333,
             "#9c179e"
            ],
            [
             0.4444444444444444,
             "#bd3786"
            ],
            [
             0.5555555555555556,
             "#d8576b"
            ],
            [
             0.6666666666666666,
             "#ed7953"
            ],
            [
             0.7777777777777778,
             "#fb9f3a"
            ],
            [
             0.8888888888888888,
             "#fdca26"
            ],
            [
             1,
             "#f0f921"
            ]
           ],
           "sequentialminus": [
            [
             0,
             "#0d0887"
            ],
            [
             0.1111111111111111,
             "#46039f"
            ],
            [
             0.2222222222222222,
             "#7201a8"
            ],
            [
             0.3333333333333333,
             "#9c179e"
            ],
            [
             0.4444444444444444,
             "#bd3786"
            ],
            [
             0.5555555555555556,
             "#d8576b"
            ],
            [
             0.6666666666666666,
             "#ed7953"
            ],
            [
             0.7777777777777778,
             "#fb9f3a"
            ],
            [
             0.8888888888888888,
             "#fdca26"
            ],
            [
             1,
             "#f0f921"
            ]
           ]
          },
          "colorway": [
           "#636efa",
           "#EF553B",
           "#00cc96",
           "#ab63fa",
           "#FFA15A",
           "#19d3f3",
           "#FF6692",
           "#B6E880",
           "#FF97FF",
           "#FECB52"
          ],
          "font": {
           "color": "#2a3f5f"
          },
          "geo": {
           "bgcolor": "white",
           "lakecolor": "white",
           "landcolor": "#E5ECF6",
           "showlakes": true,
           "showland": true,
           "subunitcolor": "white"
          },
          "hoverlabel": {
           "align": "left"
          },
          "hovermode": "closest",
          "mapbox": {
           "style": "light"
          },
          "paper_bgcolor": "white",
          "plot_bgcolor": "#E5ECF6",
          "polar": {
           "angularaxis": {
            "gridcolor": "white",
            "linecolor": "white",
            "ticks": ""
           },
           "bgcolor": "#E5ECF6",
           "radialaxis": {
            "gridcolor": "white",
            "linecolor": "white",
            "ticks": ""
           }
          },
          "scene": {
           "xaxis": {
            "backgroundcolor": "#E5ECF6",
            "gridcolor": "white",
            "gridwidth": 2,
            "linecolor": "white",
            "showbackground": true,
            "ticks": "",
            "zerolinecolor": "white"
           },
           "yaxis": {
            "backgroundcolor": "#E5ECF6",
            "gridcolor": "white",
            "gridwidth": 2,
            "linecolor": "white",
            "showbackground": true,
            "ticks": "",
            "zerolinecolor": "white"
           },
           "zaxis": {
            "backgroundcolor": "#E5ECF6",
            "gridcolor": "white",
            "gridwidth": 2,
            "linecolor": "white",
            "showbackground": true,
            "ticks": "",
            "zerolinecolor": "white"
           }
          },
          "shapedefaults": {
           "line": {
            "color": "#2a3f5f"
           }
          },
          "ternary": {
           "aaxis": {
            "gridcolor": "white",
            "linecolor": "white",
            "ticks": ""
           },
           "baxis": {
            "gridcolor": "white",
            "linecolor": "white",
            "ticks": ""
           },
           "bgcolor": "#E5ECF6",
           "caxis": {
            "gridcolor": "white",
            "linecolor": "white",
            "ticks": ""
           }
          },
          "title": {
           "x": 0.05
          },
          "xaxis": {
           "automargin": true,
           "gridcolor": "white",
           "linecolor": "white",
           "ticks": "",
           "title": {
            "standoff": 15
           },
           "zerolinecolor": "white",
           "zerolinewidth": 2
          },
          "yaxis": {
           "automargin": true,
           "gridcolor": "white",
           "linecolor": "white",
           "ticks": "",
           "title": {
            "standoff": 15
           },
           "zerolinecolor": "white",
           "zerolinewidth": 2
          }
         }
        },
        "title": {
         "text": "Launches Per Country of Launch Site"
        },
        "updatemenus": [
         {
          "buttons": [
           {
            "args": [
             null,
             {
              "frame": {
               "duration": 500,
               "redraw": true
              },
              "fromcurrent": true,
              "mode": "immediate",
              "transition": {
               "duration": 500,
               "easing": "linear"
              }
             }
            ],
            "label": "&#9654;",
            "method": "animate"
           },
           {
            "args": [
             [
              null
             ],
             {
              "frame": {
               "duration": 0,
               "redraw": true
              },
              "fromcurrent": true,
              "mode": "immediate",
              "transition": {
               "duration": 0,
               "easing": "linear"
              }
             }
            ],
            "label": "&#9724;",
            "method": "animate"
           }
          ],
          "direction": "left",
          "pad": {
           "r": 10,
           "t": 70
          },
          "showactive": false,
          "type": "buttons",
          "x": 0.1,
          "xanchor": "right",
          "y": 0,
          "yanchor": "top"
         }
        ],
        "width": 650,
        "xaxis": {
         "anchor": "y",
         "categoryarray": [
          "China",
          "France",
          "India",
          "Japan",
          "Kazakhstan",
          "Other",
          "Russia",
          "USA"
         ],
         "categoryorder": "array",
         "domain": [
          0,
          1
         ],
         "title": {
          "text": "Launch Site Country"
         }
        },
        "yaxis": {
         "anchor": "x",
         "domain": [
          0,
          1
         ],
         "range": [
          0,
          82
         ],
         "title": {
          "text": "Launches"
         }
        }
       }
      }
     },
     "metadata": {},
     "output_type": "display_data"
    }
   ],
   "source": [
    "\n",
    "# create chart\n",
    "fig = px.bar(full_distribution,\n",
    "             x='country',\n",
    "             y='counts',\n",
    "             color='country',\n",
    "             animation_frame='year',\n",
    "             animation_group='country',\n",
    "             range_y=[0, full_distribution['counts'].max() + 10],\n",
    "             category_orders={\"country\": all_countries},\n",
    "             )\n",
    "\n",
    "# format\n",
    "fig.update_layout(\n",
    "    xaxis={'categoryorder': 'array', 'categoryarray': all_countries},\n",
    "    title='Launches Per Country of Launch Site',\n",
    "    yaxis_title='Launches',\n",
    "    xaxis_title='Launch Site Country',\n",
    "    height=550,\n",
    "    width=650,\n",
    "    showlegend=False, \n",
    "    \n",
    "    )\n",
    "\n",
    "\n",
    "# save and show\n",
    "fig.write_html(f'../../docs_source/images/visualization/launches_per_country_of_launch_site.html')\n",
    "\n",
    "\n",
    "\n",
    "fig.show()"
   ]
  },
  {
   "cell_type": "markdown",
   "metadata": {},
   "source": [
    "### SpaceX"
   ]
  },
  {
   "cell_type": "code",
   "execution_count": 6,
   "metadata": {},
   "outputs": [],
   "source": [
    "# categorize\n",
    "spaceflight_data['company_category'] = spaceflight_data['company_name'].apply(lambda x: 'SpaceX' if x == 'SpaceX' else 'Other')\n",
    "\n",
    "\n",
    "# aggregate \n",
    "launch_counts_per_year = spaceflight_data.groupby(['year', 'company_category']).size().reset_index(name='counts')\n",
    "\n",
    "\n",
    "\n",
    "# generate combinations\n",
    "all_years = sorted(spaceflight_data['year'].unique())\n",
    "all_categories = ['SpaceX', 'Other']  # Only two categories\n",
    "all_combinations = pd.MultiIndex.from_product([all_years, all_categories], names=['year', 'company_category']).to_frame(index=False)\n",
    "\n",
    "\n",
    "# make distribution df\n",
    "full_distribution = pd.merge(all_combinations, launch_counts_per_year, on=['year', 'company_category'], how='left').fillna(0)\n",
    "full_distribution['cumulative_counts'] = full_distribution.groupby('company_category')['counts'].cumsum()\n",
    "full_distribution.sort_values(by=['year', 'company_category'], inplace=True)\n",
    "\n",
    "\n"
   ]
  },
  {
   "cell_type": "code",
   "execution_count": 7,
   "metadata": {},
   "outputs": [
    {
     "data": {
      "application/vnd.plotly.v1+json": {
       "config": {
        "plotlyServerURL": "https://plotly.com"
       },
       "data": [
        {
         "fillpattern": {
          "shape": ""
         },
         "hovertemplate": "company_category=SpaceX<br>year=%{x}<br>counts=%{y}<extra></extra>",
         "legendgroup": "SpaceX",
         "line": {
          "color": "#636efa"
         },
         "marker": {
          "symbol": "circle"
         },
         "mode": "lines",
         "name": "SpaceX",
         "orientation": "v",
         "showlegend": true,
         "stackgroup": "1",
         "type": "scatter",
         "x": [
          1957,
          1958,
          1959,
          1960,
          1961,
          1962,
          1963,
          1964,
          1965,
          1966,
          1967,
          1968,
          1969,
          1970,
          1971,
          1972,
          1973,
          1974,
          1975,
          1976,
          1977,
          1978,
          1979,
          1980,
          1981,
          1982,
          1983,
          1984,
          1985,
          1986,
          1987,
          1988,
          1989,
          1990,
          1991,
          1992,
          1993,
          1994,
          1995,
          1996,
          1997,
          1998,
          1999,
          2000,
          2001,
          2002,
          2003,
          2004,
          2005,
          2006,
          2007,
          2008,
          2009,
          2010,
          2011,
          2012,
          2013,
          2014,
          2015,
          2016,
          2017,
          2018,
          2019,
          2020
         ],
         "xaxis": "x",
         "y": [
          0,
          0,
          0,
          0,
          0,
          0,
          0,
          0,
          0,
          0,
          0,
          0,
          0,
          0,
          0,
          0,
          0,
          0,
          0,
          0,
          0,
          0,
          0,
          0,
          0,
          0,
          0,
          0,
          0,
          0,
          0,
          0,
          0,
          0,
          0,
          0,
          0,
          0,
          0,
          0,
          0,
          0,
          0,
          0,
          0,
          0,
          0,
          0,
          0,
          1,
          1,
          2,
          1,
          2,
          0,
          2,
          3,
          6,
          7,
          9,
          18,
          21,
          13,
          14
         ],
         "yaxis": "y"
        },
        {
         "fillpattern": {
          "shape": ""
         },
         "hovertemplate": "company_category=Other<br>year=%{x}<br>counts=%{y}<extra></extra>",
         "legendgroup": "Other",
         "line": {
          "color": "#EF553B"
         },
         "marker": {
          "symbol": "circle"
         },
         "mode": "lines",
         "name": "Other",
         "orientation": "v",
         "showlegend": true,
         "stackgroup": "1",
         "type": "scatter",
         "x": [
          1957,
          1958,
          1959,
          1960,
          1961,
          1962,
          1963,
          1964,
          1965,
          1966,
          1967,
          1968,
          1969,
          1970,
          1971,
          1972,
          1973,
          1974,
          1975,
          1976,
          1977,
          1978,
          1979,
          1980,
          1981,
          1982,
          1983,
          1984,
          1985,
          1986,
          1987,
          1988,
          1989,
          1990,
          1991,
          1992,
          1993,
          1994,
          1995,
          1996,
          1997,
          1998,
          1999,
          2000,
          2001,
          2002,
          2003,
          2004,
          2005,
          2006,
          2007,
          2008,
          2009,
          2010,
          2011,
          2012,
          2013,
          2014,
          2015,
          2016,
          2017,
          2018,
          2019,
          2020
         ],
         "xaxis": "x",
         "y": [
          3,
          28,
          20,
          39,
          52,
          82,
          41,
          60,
          87,
          101,
          106,
          103,
          103,
          107,
          119,
          99,
          103,
          98,
          113,
          113,
          114,
          97,
          49,
          55,
          71,
          67,
          66,
          69,
          74,
          62,
          56,
          59,
          52,
          80,
          59,
          62,
          61,
          64,
          61,
          60,
          70,
          68,
          57,
          57,
          43,
          49,
          52,
          40,
          37,
          48,
          49,
          46,
          49,
          35,
          42,
          36,
          43,
          47,
          45,
          81,
          74,
          96,
          96,
          49
         ],
         "yaxis": "y"
        }
       ],
       "layout": {
        "height": 550,
        "legend": {
         "title": {
          "text": "Company Category"
         },
         "tracegroupgap": 0
        },
        "showlegend": true,
        "template": {
         "data": {
          "bar": [
           {
            "error_x": {
             "color": "#2a3f5f"
            },
            "error_y": {
             "color": "#2a3f5f"
            },
            "marker": {
             "line": {
              "color": "#E5ECF6",
              "width": 0.5
             },
             "pattern": {
              "fillmode": "overlay",
              "size": 10,
              "solidity": 0.2
             }
            },
            "type": "bar"
           }
          ],
          "barpolar": [
           {
            "marker": {
             "line": {
              "color": "#E5ECF6",
              "width": 0.5
             },
             "pattern": {
              "fillmode": "overlay",
              "size": 10,
              "solidity": 0.2
             }
            },
            "type": "barpolar"
           }
          ],
          "carpet": [
           {
            "aaxis": {
             "endlinecolor": "#2a3f5f",
             "gridcolor": "white",
             "linecolor": "white",
             "minorgridcolor": "white",
             "startlinecolor": "#2a3f5f"
            },
            "baxis": {
             "endlinecolor": "#2a3f5f",
             "gridcolor": "white",
             "linecolor": "white",
             "minorgridcolor": "white",
             "startlinecolor": "#2a3f5f"
            },
            "type": "carpet"
           }
          ],
          "choropleth": [
           {
            "colorbar": {
             "outlinewidth": 0,
             "ticks": ""
            },
            "type": "choropleth"
           }
          ],
          "contour": [
           {
            "colorbar": {
             "outlinewidth": 0,
             "ticks": ""
            },
            "colorscale": [
             [
              0,
              "#0d0887"
             ],
             [
              0.1111111111111111,
              "#46039f"
             ],
             [
              0.2222222222222222,
              "#7201a8"
             ],
             [
              0.3333333333333333,
              "#9c179e"
             ],
             [
              0.4444444444444444,
              "#bd3786"
             ],
             [
              0.5555555555555556,
              "#d8576b"
             ],
             [
              0.6666666666666666,
              "#ed7953"
             ],
             [
              0.7777777777777778,
              "#fb9f3a"
             ],
             [
              0.8888888888888888,
              "#fdca26"
             ],
             [
              1,
              "#f0f921"
             ]
            ],
            "type": "contour"
           }
          ],
          "contourcarpet": [
           {
            "colorbar": {
             "outlinewidth": 0,
             "ticks": ""
            },
            "type": "contourcarpet"
           }
          ],
          "heatmap": [
           {
            "colorbar": {
             "outlinewidth": 0,
             "ticks": ""
            },
            "colorscale": [
             [
              0,
              "#0d0887"
             ],
             [
              0.1111111111111111,
              "#46039f"
             ],
             [
              0.2222222222222222,
              "#7201a8"
             ],
             [
              0.3333333333333333,
              "#9c179e"
             ],
             [
              0.4444444444444444,
              "#bd3786"
             ],
             [
              0.5555555555555556,
              "#d8576b"
             ],
             [
              0.6666666666666666,
              "#ed7953"
             ],
             [
              0.7777777777777778,
              "#fb9f3a"
             ],
             [
              0.8888888888888888,
              "#fdca26"
             ],
             [
              1,
              "#f0f921"
             ]
            ],
            "type": "heatmap"
           }
          ],
          "heatmapgl": [
           {
            "colorbar": {
             "outlinewidth": 0,
             "ticks": ""
            },
            "colorscale": [
             [
              0,
              "#0d0887"
             ],
             [
              0.1111111111111111,
              "#46039f"
             ],
             [
              0.2222222222222222,
              "#7201a8"
             ],
             [
              0.3333333333333333,
              "#9c179e"
             ],
             [
              0.4444444444444444,
              "#bd3786"
             ],
             [
              0.5555555555555556,
              "#d8576b"
             ],
             [
              0.6666666666666666,
              "#ed7953"
             ],
             [
              0.7777777777777778,
              "#fb9f3a"
             ],
             [
              0.8888888888888888,
              "#fdca26"
             ],
             [
              1,
              "#f0f921"
             ]
            ],
            "type": "heatmapgl"
           }
          ],
          "histogram": [
           {
            "marker": {
             "pattern": {
              "fillmode": "overlay",
              "size": 10,
              "solidity": 0.2
             }
            },
            "type": "histogram"
           }
          ],
          "histogram2d": [
           {
            "colorbar": {
             "outlinewidth": 0,
             "ticks": ""
            },
            "colorscale": [
             [
              0,
              "#0d0887"
             ],
             [
              0.1111111111111111,
              "#46039f"
             ],
             [
              0.2222222222222222,
              "#7201a8"
             ],
             [
              0.3333333333333333,
              "#9c179e"
             ],
             [
              0.4444444444444444,
              "#bd3786"
             ],
             [
              0.5555555555555556,
              "#d8576b"
             ],
             [
              0.6666666666666666,
              "#ed7953"
             ],
             [
              0.7777777777777778,
              "#fb9f3a"
             ],
             [
              0.8888888888888888,
              "#fdca26"
             ],
             [
              1,
              "#f0f921"
             ]
            ],
            "type": "histogram2d"
           }
          ],
          "histogram2dcontour": [
           {
            "colorbar": {
             "outlinewidth": 0,
             "ticks": ""
            },
            "colorscale": [
             [
              0,
              "#0d0887"
             ],
             [
              0.1111111111111111,
              "#46039f"
             ],
             [
              0.2222222222222222,
              "#7201a8"
             ],
             [
              0.3333333333333333,
              "#9c179e"
             ],
             [
              0.4444444444444444,
              "#bd3786"
             ],
             [
              0.5555555555555556,
              "#d8576b"
             ],
             [
              0.6666666666666666,
              "#ed7953"
             ],
             [
              0.7777777777777778,
              "#fb9f3a"
             ],
             [
              0.8888888888888888,
              "#fdca26"
             ],
             [
              1,
              "#f0f921"
             ]
            ],
            "type": "histogram2dcontour"
           }
          ],
          "mesh3d": [
           {
            "colorbar": {
             "outlinewidth": 0,
             "ticks": ""
            },
            "type": "mesh3d"
           }
          ],
          "parcoords": [
           {
            "line": {
             "colorbar": {
              "outlinewidth": 0,
              "ticks": ""
             }
            },
            "type": "parcoords"
           }
          ],
          "pie": [
           {
            "automargin": true,
            "type": "pie"
           }
          ],
          "scatter": [
           {
            "fillpattern": {
             "fillmode": "overlay",
             "size": 10,
             "solidity": 0.2
            },
            "type": "scatter"
           }
          ],
          "scatter3d": [
           {
            "line": {
             "colorbar": {
              "outlinewidth": 0,
              "ticks": ""
             }
            },
            "marker": {
             "colorbar": {
              "outlinewidth": 0,
              "ticks": ""
             }
            },
            "type": "scatter3d"
           }
          ],
          "scattercarpet": [
           {
            "marker": {
             "colorbar": {
              "outlinewidth": 0,
              "ticks": ""
             }
            },
            "type": "scattercarpet"
           }
          ],
          "scattergeo": [
           {
            "marker": {
             "colorbar": {
              "outlinewidth": 0,
              "ticks": ""
             }
            },
            "type": "scattergeo"
           }
          ],
          "scattergl": [
           {
            "marker": {
             "colorbar": {
              "outlinewidth": 0,
              "ticks": ""
             }
            },
            "type": "scattergl"
           }
          ],
          "scattermapbox": [
           {
            "marker": {
             "colorbar": {
              "outlinewidth": 0,
              "ticks": ""
             }
            },
            "type": "scattermapbox"
           }
          ],
          "scatterpolar": [
           {
            "marker": {
             "colorbar": {
              "outlinewidth": 0,
              "ticks": ""
             }
            },
            "type": "scatterpolar"
           }
          ],
          "scatterpolargl": [
           {
            "marker": {
             "colorbar": {
              "outlinewidth": 0,
              "ticks": ""
             }
            },
            "type": "scatterpolargl"
           }
          ],
          "scatterternary": [
           {
            "marker": {
             "colorbar": {
              "outlinewidth": 0,
              "ticks": ""
             }
            },
            "type": "scatterternary"
           }
          ],
          "surface": [
           {
            "colorbar": {
             "outlinewidth": 0,
             "ticks": ""
            },
            "colorscale": [
             [
              0,
              "#0d0887"
             ],
             [
              0.1111111111111111,
              "#46039f"
             ],
             [
              0.2222222222222222,
              "#7201a8"
             ],
             [
              0.3333333333333333,
              "#9c179e"
             ],
             [
              0.4444444444444444,
              "#bd3786"
             ],
             [
              0.5555555555555556,
              "#d8576b"
             ],
             [
              0.6666666666666666,
              "#ed7953"
             ],
             [
              0.7777777777777778,
              "#fb9f3a"
             ],
             [
              0.8888888888888888,
              "#fdca26"
             ],
             [
              1,
              "#f0f921"
             ]
            ],
            "type": "surface"
           }
          ],
          "table": [
           {
            "cells": {
             "fill": {
              "color": "#EBF0F8"
             },
             "line": {
              "color": "white"
             }
            },
            "header": {
             "fill": {
              "color": "#C8D4E3"
             },
             "line": {
              "color": "white"
             }
            },
            "type": "table"
           }
          ]
         },
         "layout": {
          "annotationdefaults": {
           "arrowcolor": "#2a3f5f",
           "arrowhead": 0,
           "arrowwidth": 1
          },
          "autotypenumbers": "strict",
          "coloraxis": {
           "colorbar": {
            "outlinewidth": 0,
            "ticks": ""
           }
          },
          "colorscale": {
           "diverging": [
            [
             0,
             "#8e0152"
            ],
            [
             0.1,
             "#c51b7d"
            ],
            [
             0.2,
             "#de77ae"
            ],
            [
             0.3,
             "#f1b6da"
            ],
            [
             0.4,
             "#fde0ef"
            ],
            [
             0.5,
             "#f7f7f7"
            ],
            [
             0.6,
             "#e6f5d0"
            ],
            [
             0.7,
             "#b8e186"
            ],
            [
             0.8,
             "#7fbc41"
            ],
            [
             0.9,
             "#4d9221"
            ],
            [
             1,
             "#276419"
            ]
           ],
           "sequential": [
            [
             0,
             "#0d0887"
            ],
            [
             0.1111111111111111,
             "#46039f"
            ],
            [
             0.2222222222222222,
             "#7201a8"
            ],
            [
             0.3333333333333333,
             "#9c179e"
            ],
            [
             0.4444444444444444,
             "#bd3786"
            ],
            [
             0.5555555555555556,
             "#d8576b"
            ],
            [
             0.6666666666666666,
             "#ed7953"
            ],
            [
             0.7777777777777778,
             "#fb9f3a"
            ],
            [
             0.8888888888888888,
             "#fdca26"
            ],
            [
             1,
             "#f0f921"
            ]
           ],
           "sequentialminus": [
            [
             0,
             "#0d0887"
            ],
            [
             0.1111111111111111,
             "#46039f"
            ],
            [
             0.2222222222222222,
             "#7201a8"
            ],
            [
             0.3333333333333333,
             "#9c179e"
            ],
            [
             0.4444444444444444,
             "#bd3786"
            ],
            [
             0.5555555555555556,
             "#d8576b"
            ],
            [
             0.6666666666666666,
             "#ed7953"
            ],
            [
             0.7777777777777778,
             "#fb9f3a"
            ],
            [
             0.8888888888888888,
             "#fdca26"
            ],
            [
             1,
             "#f0f921"
            ]
           ]
          },
          "colorway": [
           "#636efa",
           "#EF553B",
           "#00cc96",
           "#ab63fa",
           "#FFA15A",
           "#19d3f3",
           "#FF6692",
           "#B6E880",
           "#FF97FF",
           "#FECB52"
          ],
          "font": {
           "color": "#2a3f5f"
          },
          "geo": {
           "bgcolor": "white",
           "lakecolor": "white",
           "landcolor": "#E5ECF6",
           "showlakes": true,
           "showland": true,
           "subunitcolor": "white"
          },
          "hoverlabel": {
           "align": "left"
          },
          "hovermode": "closest",
          "mapbox": {
           "style": "light"
          },
          "paper_bgcolor": "white",
          "plot_bgcolor": "#E5ECF6",
          "polar": {
           "angularaxis": {
            "gridcolor": "white",
            "linecolor": "white",
            "ticks": ""
           },
           "bgcolor": "#E5ECF6",
           "radialaxis": {
            "gridcolor": "white",
            "linecolor": "white",
            "ticks": ""
           }
          },
          "scene": {
           "xaxis": {
            "backgroundcolor": "#E5ECF6",
            "gridcolor": "white",
            "gridwidth": 2,
            "linecolor": "white",
            "showbackground": true,
            "ticks": "",
            "zerolinecolor": "white"
           },
           "yaxis": {
            "backgroundcolor": "#E5ECF6",
            "gridcolor": "white",
            "gridwidth": 2,
            "linecolor": "white",
            "showbackground": true,
            "ticks": "",
            "zerolinecolor": "white"
           },
           "zaxis": {
            "backgroundcolor": "#E5ECF6",
            "gridcolor": "white",
            "gridwidth": 2,
            "linecolor": "white",
            "showbackground": true,
            "ticks": "",
            "zerolinecolor": "white"
           }
          },
          "shapedefaults": {
           "line": {
            "color": "#2a3f5f"
           }
          },
          "ternary": {
           "aaxis": {
            "gridcolor": "white",
            "linecolor": "white",
            "ticks": ""
           },
           "baxis": {
            "gridcolor": "white",
            "linecolor": "white",
            "ticks": ""
           },
           "bgcolor": "#E5ECF6",
           "caxis": {
            "gridcolor": "white",
            "linecolor": "white",
            "ticks": ""
           }
          },
          "title": {
           "x": 0.05
          },
          "xaxis": {
           "automargin": true,
           "gridcolor": "white",
           "linecolor": "white",
           "ticks": "",
           "title": {
            "standoff": 15
           },
           "zerolinecolor": "white",
           "zerolinewidth": 2
          },
          "yaxis": {
           "automargin": true,
           "gridcolor": "white",
           "linecolor": "white",
           "ticks": "",
           "title": {
            "standoff": 15
           },
           "zerolinecolor": "white",
           "zerolinewidth": 2
          }
         }
        },
        "title": {
         "text": "Yearly Launches: SpaceX vs Others"
        },
        "width": 650,
        "xaxis": {
         "anchor": "y",
         "domain": [
          0,
          1
         ],
         "title": {
          "text": "Year"
         }
        },
        "yaxis": {
         "anchor": "x",
         "domain": [
          0,
          1
         ],
         "title": {
          "text": "Number of Launches"
         }
        }
       }
      }
     },
     "metadata": {},
     "output_type": "display_data"
    }
   ],
   "source": [
    "\n",
    "# plot\n",
    "fig = px.area(full_distribution,\n",
    "              x='year',\n",
    "              y='counts',\n",
    "              color='company_category',  \n",
    "              line_group='company_category',\n",
    "              category_orders={\"company_category\": ['SpaceX', 'Other']}, \n",
    "              title='Yearly Launches: SpaceX vs Others')\n",
    "\n",
    "# format\n",
    "fig.update_layout(\n",
    "    yaxis_title='Number of Launches',\n",
    "    xaxis_title='Year',\n",
    "    height=550,\n",
    "    width=650,\n",
    "    showlegend=True,\n",
    "    legend_title_text='Company Category',\n",
    ")\n",
    "\n",
    "\n",
    "\n",
    "fig.write_html(f'../../docs_source/images/visualization/cumulative_launches_spacex_vs_others.html')\n",
    "\n",
    "fig.show()\n"
   ]
  }
 ],
 "metadata": {
  "kernelspec": {
   "display_name": "dsan5600",
   "language": "python",
   "name": "python3"
  },
  "language_info": {
   "codemirror_mode": {
    "name": "ipython",
    "version": 3
   },
   "file_extension": ".py",
   "mimetype": "text/x-python",
   "name": "python",
   "nbconvert_exporter": "python",
   "pygments_lexer": "ipython3",
   "version": "3.10.13"
  }
 },
 "nbformat": 4,
 "nbformat_minor": 2
}
